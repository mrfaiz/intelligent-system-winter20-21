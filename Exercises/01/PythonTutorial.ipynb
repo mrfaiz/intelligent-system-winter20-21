{
 "cells": [
  {
   "cell_type": "markdown",
   "metadata": {},
   "source": [
    "# Intelligent Systems\n",
    "# Exercise 1 / Organisation\n",
    "### Working Group: Intelligent Systems\n",
    "### Lecture: Prof. Dr.-Ing. habil.  Sven Tomforde\n",
    "### Exercise: Ma. Sc. Simon Reichhuber (mail to: [Simon.Reichhuber@informatik.uni-kiel.de](mailto:Simon.Reichhuber@informatik.uni-kiel.de))"
   ]
  },
  {
   "cell_type": "code",
   "execution_count": 1,
   "metadata": {},
   "outputs": [
    {
     "name": "stdout",
     "output_type": "stream",
     "text": [
      "/bin/bash: pip: command not found\r\n"
     ]
    }
   ],
   "source": [
    "!pip install xcs"
   ]
  },
  {
   "cell_type": "markdown",
   "metadata": {},
   "source": [
    "From the university network you can use our iPython notebook server if you like."
   ]
  },
  {
   "cell_type": "markdown",
   "metadata": {},
   "source": [
    "## Introduction to Python"
   ]
  },
  {
   "cell_type": "markdown",
   "metadata": {},
   "source": [
    "In this part of the exercise handbook you will look into the principles of standard techniques and tools used in the field of data analysis and pattern recognition. \n",
    "\n",
    "First a brief introduction on how to use the iPython Notebook, then you will learn a few simple python concepts, followed by a complete test of the vectorization concepts explained during the presentation. Finally you will be presented with a challenge that we propose you to solve using the new tools."
   ]
  },
  {
   "cell_type": "markdown",
   "metadata": {},
   "source": [
    "### iPython Notebook introduction"
   ]
  },
  {
   "cell_type": "markdown",
   "metadata": {},
   "source": [
    "As defined by the iPython Notebook provider: The IPython Notebook is a web-based interactive computational environment where you can combine code execution, text, mathematics, plots and rich media into a single document:\n",
    "\n",
    "These notebooks are normal files that can be shared with colleagues, converted to other formats such as HTML or PDF, etc. You can share any publicly available notebook by using the IPython Notebook Viewer service which will render it as a static web page. This makes it easy to give your colleagues a document they can read immediately without having to install anything.\n",
    "\n",
    "More information can be found in: [iPython](https://ipython.readthedocs.io/en/stable/index.html)\n",
    "\n",
    "Among other things iPython uses interactive boxes where you can execute python commands. The following box is an example of how they look like.\n"
   ]
  },
  {
   "cell_type": "code",
   "execution_count": null,
   "metadata": {},
   "outputs": [],
   "source": []
  },
  {
   "cell_type": "code",
   "execution_count": 2,
   "metadata": {},
   "outputs": [
    {
     "name": "stdout",
     "output_type": "stream",
     "text": [
      "This is a python interactive box\n"
     ]
    }
   ],
   "source": [
    "print(\"This is a python interactive box\")"
   ]
  },
  {
   "cell_type": "code",
   "execution_count": null,
   "metadata": {},
   "outputs": [],
   "source": []
  },
  {
   "cell_type": "markdown",
   "metadata": {},
   "source": [
    "To execute the code in the interactive box simply select the box and pres Shift + Enter to move to the next interactive box, or Ctrl + Enter to execute and stay in the same box. The result will be displayed underneath.\n",
    "\n",
    "Select the previews box and execute the simple print statement.\n",
    "\n",
    "An alternative to pressing the key combination is to use the play button in the tool bar.\n",
    "    \n",
    "    "
   ]
  },
  {
   "cell_type": "markdown",
   "metadata": {},
   "source": [
    "### Introduction to python"
   ]
  },
  {
   "cell_type": "markdown",
   "metadata": {},
   "source": [
    "Python is a programming language that emphasizes in performance and code\n",
    "readability. Programming languages can be grouped in two families, interpreted\n",
    "and compiled. Python sits somewhere in the middle of the two groups. For\n",
    "readability and easy development python behaves more like an interpreted\n",
    "language that does not need to be compiled in order to execute instructions,\n",
    "but does depend on an interpreter. However, Python does some  clever tricks and \n",
    "pre-compiles modules so actually can achieve good performance improvements, and\n",
    "allows to build arbitrarily complex applications. \n",
    "\n",
    "A good introduction into python can be found in the book [Dive into Python](https://diveintopython3.problemsolving.io/) and a more detailed introduction of the techniques explained here can be found in [Practical Data Science in Python](http://radimrehurek.com/data_science_python/)\n",
    "\n",
    "The following blocks will take you quickly through some of the python fundamentals."
   ]
  },
  {
   "cell_type": "code",
   "execution_count": 3,
   "metadata": {},
   "outputs": [],
   "source": [
    "# This is a comment line. Comments in python start wiht #\n",
    "s = \"\"\" Python supports the triple quoted string. It is defined as an object an \n",
    "    can be assigned to a variable. It is also the only way of doing multi line\n",
    "    comments. The equivalent of /* */ in the C family, however unlike C this\n",
    "    string can be used as a number string object.\n",
    "    \n",
    "    It also preserves the structure of the text.\n",
    "\"\"\"\n",
    "def foo(a):\n",
    "    \"\"\"\n",
    "        This is foo.\n",
    "        \n",
    "        parameter a does nothing\n",
    "        return is None\n",
    "    \"\"\"\n",
    "    pass\n",
    "\n"
   ]
  },
  {
   "cell_type": "code",
   "execution_count": 4,
   "metadata": {},
   "outputs": [
    {
     "name": "stdout",
     "output_type": "stream",
     "text": [
      " Python supports the triple quoted string. It is defined as an object an \n",
      "    can be assigned to a variable. It is also the only way of doing multi line\n",
      "    comments. The equivalent of /* */ in the C family, however unlike C this\n",
      "    string can be used as a number string object.\n",
      "    \n",
      "    It also preserves the structure of the text.\n",
      "\n"
     ]
    }
   ],
   "source": [
    "print(s)"
   ]
  },
  {
   "cell_type": "code",
   "execution_count": 5,
   "metadata": {},
   "outputs": [
    {
     "name": "stdout",
     "output_type": "stream",
     "text": [
      " Python supports the triple quoted string. It is defined as an object an \n",
      "    can be assigned to a variable. It is also the only way of doing multi line\n",
      "    comments. The equivalent of /* */ in the C family, however unlike C this\n",
      "    string can be used as a number string object.\n",
      "    \n",
      "    It also preserves the structure of the text.  \n",
      "    \n",
      "    Notice how the indentention and the \n",
      " are preserved.\n",
      "\n"
     ]
    }
   ],
   "source": [
    "# That did not look very nice try this:\n",
    "line = \"\"\" Python supports the triple quoted string. It is defined as an object an \n",
    "    can be assigned to a variable. It is also the only way of doing multi line\n",
    "    comments. The equivalent of /* */ in the C family, however unlike C this\n",
    "    string can be used as a number string object.\n",
    "    \n",
    "    It also preserves the structure of the text.  \n",
    "    \n",
    "    Notice how the indentention and the \\n are preserved.\n",
    "\"\"\"\n",
    "print(line)"
   ]
  },
  {
   "cell_type": "code",
   "execution_count": 6,
   "metadata": {},
   "outputs": [
    {
     "ename": "ModuleNotFoundError",
     "evalue": "No module named 'numpy'",
     "output_type": "error",
     "traceback": [
      "\u001b[0;31m---------------------------------------------------------------------------\u001b[0m",
      "\u001b[0;31mModuleNotFoundError\u001b[0m                       Traceback (most recent call last)",
      "\u001b[0;32m<ipython-input-6-79bf597b3624>\u001b[0m in \u001b[0;36m<module>\u001b[0;34m\u001b[0m\n\u001b[0;32m----> 1\u001b[0;31m \u001b[0;32mimport\u001b[0m \u001b[0mnumpy\u001b[0m \u001b[0;32mas\u001b[0m \u001b[0mnp\u001b[0m\u001b[0;34m\u001b[0m\u001b[0;34m\u001b[0m\u001b[0m\n\u001b[0m\u001b[1;32m      2\u001b[0m \u001b[0;34m\u001b[0m\u001b[0m\n\u001b[1;32m      3\u001b[0m \u001b[0;31m#In python everything is an object and as such has properties.\u001b[0m\u001b[0;34m\u001b[0m\u001b[0;34m\u001b[0m\u001b[0;34m\u001b[0m\u001b[0m\n\u001b[1;32m      4\u001b[0m \u001b[0mprint\u001b[0m\u001b[0;34m(\u001b[0m\u001b[0mtype\u001b[0m\u001b[0;34m(\u001b[0m\u001b[0;36m1\u001b[0m\u001b[0;34m)\u001b[0m\u001b[0;34m,\u001b[0m \u001b[0mtype\u001b[0m\u001b[0;34m(\u001b[0m\u001b[0;36m1.5\u001b[0m\u001b[0;34m)\u001b[0m\u001b[0;34m,\u001b[0m \u001b[0mtype\u001b[0m\u001b[0;34m(\u001b[0m\u001b[0;34m\"s\"\u001b[0m\u001b[0;34m)\u001b[0m\u001b[0;34m,\u001b[0m \u001b[0mtype\u001b[0m\u001b[0;34m(\u001b[0m\u001b[0;32mTrue\u001b[0m\u001b[0;34m)\u001b[0m\u001b[0;34m)\u001b[0m\u001b[0;34m\u001b[0m\u001b[0;34m\u001b[0m\u001b[0m\n\u001b[1;32m      5\u001b[0m \u001b[0;34m\u001b[0m\u001b[0m\n",
      "\u001b[0;31mModuleNotFoundError\u001b[0m: No module named 'numpy'"
     ]
    }
   ],
   "source": [
    "import numpy as np\n",
    "\n",
    "#In python everything is an object and as such has properties.\n",
    "print(type(1), type(1.5), type(\"s\"), type(True))\n",
    "\n",
    "#dir is the function that lists which properties and object has\n",
    "dir(True)\n",
    "\n",
    "type(np.float64)\n",
    "\n"
   ]
  },
  {
   "cell_type": "code",
   "execution_count": 7,
   "metadata": {},
   "outputs": [
    {
     "name": "stdout",
     "output_type": "stream",
     "text": [
      "In Python is better to ask for forgiveness than for permission. \n",
      " Is what an object can do and not what type it is that matters. \n",
      " Code always must look \"nice\" and \"nice\" looks much better than \\'nice\\' within '' \n"
     ]
    }
   ],
   "source": [
    "# Two ways of defining simple strings: \" and ' make no difference in python\n",
    "Mantra = \"In Python is better to ask for forgiveness than for permission.\"\n",
    "Mantra2 = 'Is what an object can do and not what type it is that matters.'\n",
    "\n",
    "\"\"\"\n",
    "asdf\n",
    "\"\"\"\n",
    "\n",
    "string = \\\n",
    "'''\n",
    "sasdf\n",
    "'''\n",
    "statement1 = 1; statement2 = 2\n",
    "\n",
    "a,b = [1,2]\n",
    "\n",
    "\n",
    "option = 'np'\n",
    "\n",
    "# The following mantra holds if you exchangee \" with ' \n",
    "Mantra3 = 'Code always must look \"nice\" and \"nice\" looks much better than \\\\\\'nice\\\\\\' within \\'\\' '  \n",
    "print(Mantra,\"\\n\", Mantra2,\"\\n\", Mantra3)"
   ]
  },
  {
   "cell_type": "code",
   "execution_count": 8,
   "metadata": {},
   "outputs": [
    {
     "name": "stdout",
     "output_type": "stream",
     "text": [
      "3.5\n",
      "(4.5+5j)\n",
      "(3+5j)\n",
      "(3+5j)\n"
     ]
    }
   ],
   "source": [
    "# define some variables of different types\n",
    "a = 1\n",
    "b = 2.5\n",
    "\n",
    "# Complex number\n",
    "c = complex(2, 5)\n",
    "\n",
    "# Sum\n",
    "print(a + b)\n",
    "print(b + c)\n",
    "print(a + c)\n",
    "print(c + a)"
   ]
  },
  {
   "cell_type": "markdown",
   "metadata": {},
   "source": [
    "As you can see, no type casting, or type checking necesary, python call the appropriate functions and conversion internally."
   ]
  },
  {
   "cell_type": "code",
   "execution_count": 9,
   "metadata": {},
   "outputs": [
    {
     "data": {
      "text/plain": [
       "['__add__',\n",
       " '__class__',\n",
       " '__contains__',\n",
       " '__delattr__',\n",
       " '__dir__',\n",
       " '__doc__',\n",
       " '__eq__',\n",
       " '__format__',\n",
       " '__ge__',\n",
       " '__getattribute__',\n",
       " '__getitem__',\n",
       " '__getnewargs__',\n",
       " '__gt__',\n",
       " '__hash__',\n",
       " '__init__',\n",
       " '__init_subclass__',\n",
       " '__iter__',\n",
       " '__le__',\n",
       " '__len__',\n",
       " '__lt__',\n",
       " '__mod__',\n",
       " '__mul__',\n",
       " '__ne__',\n",
       " '__new__',\n",
       " '__reduce__',\n",
       " '__reduce_ex__',\n",
       " '__repr__',\n",
       " '__rmod__',\n",
       " '__rmul__',\n",
       " '__setattr__',\n",
       " '__sizeof__',\n",
       " '__str__',\n",
       " '__subclasshook__',\n",
       " 'capitalize',\n",
       " 'casefold',\n",
       " 'center',\n",
       " 'count',\n",
       " 'encode',\n",
       " 'endswith',\n",
       " 'expandtabs',\n",
       " 'find',\n",
       " 'format',\n",
       " 'format_map',\n",
       " 'index',\n",
       " 'isalnum',\n",
       " 'isalpha',\n",
       " 'isascii',\n",
       " 'isdecimal',\n",
       " 'isdigit',\n",
       " 'isidentifier',\n",
       " 'islower',\n",
       " 'isnumeric',\n",
       " 'isprintable',\n",
       " 'isspace',\n",
       " 'istitle',\n",
       " 'isupper',\n",
       " 'join',\n",
       " 'ljust',\n",
       " 'lower',\n",
       " 'lstrip',\n",
       " 'maketrans',\n",
       " 'partition',\n",
       " 'replace',\n",
       " 'rfind',\n",
       " 'rindex',\n",
       " 'rjust',\n",
       " 'rpartition',\n",
       " 'rsplit',\n",
       " 'rstrip',\n",
       " 'split',\n",
       " 'splitlines',\n",
       " 'startswith',\n",
       " 'strip',\n",
       " 'swapcase',\n",
       " 'title',\n",
       " 'translate',\n",
       " 'upper',\n",
       " 'zfill']"
      ]
     },
     "execution_count": 9,
     "metadata": {},
     "output_type": "execute_result"
    }
   ],
   "source": [
    "dir(\"dsf\")"
   ]
  },
  {
   "cell_type": "code",
   "execution_count": 15,
   "metadata": {},
   "outputs": [
    {
     "name": "stdout",
     "output_type": "stream",
     "text": [
      "In Python is better to ask for forgiveness than for permission.\n",
      "Is what an object can do and not what type it is that matters.\n",
      "Code always must look \"nice\" and \"nice\" looks much better than \\'nice\\' within '' \n"
     ]
    },
    {
     "data": {
      "text/plain": [
       "['str', 1]"
      ]
     },
     "execution_count": 15,
     "metadata": {},
     "output_type": "execute_result"
    }
   ],
   "source": [
    "# constants are objects (Actually there are no constants in python)\n",
    "print(\"\\n\".join([Mantra,Mantra2,Mantra3]))\n",
    "[\"str\", 1]"
   ]
  },
  {
   "cell_type": "markdown",
   "metadata": {},
   "source": [
    "Multiple assignment: Some interesting ways to assign variables."
   ]
  },
  {
   "cell_type": "code",
   "execution_count": 39,
   "metadata": {},
   "outputs": [
    {
     "name": "stdout",
     "output_type": "stream",
     "text": [
      "[1, 2]\n"
     ]
    }
   ],
   "source": [
    "#this is a list\n",
    "l = [1 ,2]\n",
    "print(l)"
   ]
  },
  {
   "cell_type": "code",
   "execution_count": null,
   "metadata": {},
   "outputs": [],
   "source": [
    "#You can use different values to initiate variables\n",
    "a,b = 1, 2\n",
    "print(a, b)"
   ]
  },
  {
   "cell_type": "code",
   "execution_count": 40,
   "metadata": {},
   "outputs": [
    {
     "name": "stdout",
     "output_type": "stream",
     "text": [
      "1 2\n"
     ]
    }
   ],
   "source": [
    "#or alternatively you can extract items form a list\n",
    "a,b = l\n",
    "print(a, b)"
   ]
  },
  {
   "cell_type": "code",
   "execution_count": 42,
   "metadata": {},
   "outputs": [
    {
     "name": "stdout",
     "output_type": "stream",
     "text": [
      "[1, 2] [1, 2]\n"
     ]
    }
   ],
   "source": [
    "# assign one value to multiple variables\n",
    "c = d = l\n",
    "print(c, d)"
   ]
  },
  {
   "cell_type": "markdown",
   "metadata": {},
   "source": [
    "Control sequences"
   ]
  },
  {
   "cell_type": "code",
   "execution_count": 44,
   "metadata": {},
   "outputs": [
    {
     "name": "stdout",
     "output_type": "stream",
     "text": [
      "Notice that there are no { } braces enclosing the statements, \n",
      "          only good indentations. And yes!!  1 < 2\n",
      "Semester WS19\n",
      "But play around with the values\n"
     ]
    }
   ],
   "source": [
    "if a > b:\n",
    "    print(\"\"\"You won't read this, unles you changed the values of a and b. \n",
    "          I see you chose: %d and %d\"\"\" % (a,b))\n",
    "\n",
    "else:\n",
    "    print(\"\"\"Notice that there are no { } braces enclosing the statements, \n",
    "          only good indentations. And yes!!  %d < %d\"\"\" % (a, b))\n",
    "    \n",
    "print(\"Semester WS{}\".format(19))\n",
    "    \n",
    "# also possible:\n",
    "print(a > b and \"The and or trick\" or \"But play around with the values\")"
   ]
  },
  {
   "cell_type": "markdown",
   "metadata": {},
   "source": [
    "Modify a and b above to see the different prinouts"
   ]
  },
  {
   "cell_type": "code",
   "execution_count": 48,
   "metadata": {},
   "outputs": [
    {
     "name": "stdout",
     "output_type": "stream",
     "text": [
      "(32, 3)\n",
      "[1, 2.5, (1, {'2': {1, 2, 3, 4, 5}})]\n",
      "{2, 3, 4}\n"
     ]
    }
   ],
   "source": [
    "# Collections can hold arbitrary typpes\n",
    "l = [1 , 2.5, (1,{\"2\":set([1,2,3,4,5,5,5,5,5,5])})]\n",
    "b = {\"2\":set([1,2,3,4,5,5,5,5,5,5]), \"3\":3}\n",
    "dic = {\"2\":set([1,2,3,4,5,5,5,5,5,5]), \"3\":(32,3)}\n",
    "print(dic[\"3\"])\n",
    "print(l)\n",
    "print({2,3,4})"
   ]
  },
  {
   "cell_type": "markdown",
   "metadata": {},
   "source": [
    "**Some definitions:**\n",
    "\n",
    "* iterables: any class of object that has the method `__iter__()`. All collections are iterable but not all iterables are collections.\n",
    "* tuple: It is collection of objetcs that once created can not be modified. (Un mutable object)\n",
    "\n",
    "```python\n",
    "tuple() or ()\n",
    "\n",
    "# example\n",
    "(1,5,6)\n",
    "```\n",
    "\n",
    "\n",
    "* list: It is the normal collection of objects. (Mutable Object)\n",
    "\n",
    "```python\n",
    "list() or []\n",
    "\n",
    "#example\n",
    "[1,5,6]\n",
    "```\n",
    "\n",
    "\n",
    "* set: Collection of unique elements \n",
    "\n",
    "```python\n",
    "set([1,5,5,5,6]) or {[1,5,5,5,6]}\n",
    "\n",
    "#pruduces\n",
    "{1,5,6}\n",
    "```\n",
    "\n",
    "* dict: Collection of elements that can be retrieved by a unique key. The key can be any object that supports hashing)\n",
    "\n",
    "```python\n",
    "dict() or {}\n",
    "\n",
    "#example\n",
    "{'key1':123,3:'vlaue1',(1,2):[1,2,3,4]}\n",
    "```\n",
    "\n",
    "\n",
    "\n",
    "\n"
   ]
  },
  {
   "cell_type": "code",
   "execution_count": 49,
   "metadata": {},
   "outputs": [
    {
     "name": "stdout",
     "output_type": "stream",
     "text": [
      "True\n",
      "True\n",
      "True\n",
      "True\n"
     ]
    }
   ],
   "source": [
    "#type is the function that returns the onbject's class\n",
    "#Lists, tuples, dictionaries and sets. The following are the basic collections,\n",
    "#and definitions\n",
    "print(type(list()) == type([]))\n",
    "print(type(tuple((1,2))) == type((1,2)))\n",
    "print(type(dict([[1,2], [3,4]])) == type({1:3, 2:4}))\n",
    "print(type(set((1,2))) == type({1,3}))"
   ]
  },
  {
   "cell_type": "code",
   "execution_count": null,
   "metadata": {},
   "outputs": [],
   "source": [
    "#Notice that for an empty set it does not hold, as {} is the short hand for a \n",
    "#new empty dictionary.\n",
    "print(type(set()) == type({}))"
   ]
  },
  {
   "cell_type": "markdown",
   "metadata": {},
   "source": [
    "Some short hands to define lists"
   ]
  },
  {
   "cell_type": "code",
   "execution_count": 50,
   "metadata": {},
   "outputs": [
    {
     "name": "stdout",
     "output_type": "stream",
     "text": [
      "range(0, 4)\n"
     ]
    }
   ],
   "source": [
    "# the range function\n",
    "print(range(4))"
   ]
  },
  {
   "cell_type": "code",
   "execution_count": 51,
   "metadata": {},
   "outputs": [
    {
     "name": "stdout",
     "output_type": "stream",
     "text": [
      "[0, 3, 6, 9, 12, 15, 18, 21, 24, 27]\n"
     ]
    }
   ],
   "source": [
    "# list comprehension\n",
    "l = [ 3*x for x in range(10)  ]\n",
    "\n",
    "print(l)"
   ]
  },
  {
   "cell_type": "code",
   "execution_count": 18,
   "metadata": {},
   "outputs": [
    {
     "name": "stdout",
     "output_type": "stream",
     "text": [
      "[1, 2, 3, 4, 'a', 'b', 'c']\n"
     ]
    },
    {
     "data": {
      "text/plain": [
       "169"
      ]
     },
     "execution_count": 18,
     "metadata": {},
     "output_type": "execute_result"
    }
   ],
   "source": [
    "#list concatenation\n",
    "print([1,2,3,4] + ['a','b','c'])\n",
    "\n",
    "# This is the square function\n",
    "square = lambda x : x**2\n",
    "\n",
    "square(13)"
   ]
  },
  {
   "cell_type": "code",
   "execution_count": 53,
   "metadata": {},
   "outputs": [
    {
     "name": "stdout",
     "output_type": "stream",
     "text": [
      "[5, 5, 5, 5, 5, 5, 5, 5, 5, 5]\n"
     ]
    }
   ],
   "source": [
    "# item multiplication\n",
    "l = [5] * 10\n",
    "print(l)"
   ]
  },
  {
   "cell_type": "code",
   "execution_count": 54,
   "metadata": {},
   "outputs": [
    {
     "data": {
      "text/plain": [
       "'abcabcabcabc'"
      ]
     },
     "execution_count": 54,
     "metadata": {},
     "output_type": "execute_result"
    }
   ],
   "source": [
    "'abc' * 4"
   ]
  },
  {
   "cell_type": "code",
   "execution_count": 56,
   "metadata": {},
   "outputs": [
    {
     "name": "stdout",
     "output_type": "stream",
     "text": [
      "[[5], [5], [5], [5], [5], [5], [5], [5], [5], [5]]\n",
      "[[2], [5], [5], [5], [5], [5], [5], [5], [5], [5]]\n"
     ]
    }
   ],
   "source": [
    "# Something to keep in mind:\n",
    "l = [[5]] * 10\n",
    "l = [[5] for i in range(10)]\n",
    "print(l)\n",
    "\n",
    "# So far nothing funny, as expected you get back a list of lists with one element (5)\n",
    "l[0][0] = 2\n",
    "print(l)"
   ]
  },
  {
   "cell_type": "markdown",
   "metadata": {},
   "source": [
    "What? list are mutable objects, and the call used before passes the reference \n",
    "to the list [5] 10 times, and then, as a result,modifying any one elment\n",
    "modifies all of them."
   ]
  },
  {
   "cell_type": "markdown",
   "metadata": {},
   "source": [
    "#### Loops "
   ]
  },
  {
   "cell_type": "code",
   "execution_count": 57,
   "metadata": {},
   "outputs": [
    {
     "name": "stdout",
     "output_type": "stream",
     "text": [
      "[[5], [5], [5], [5], [5], [5], [5], [5], [5], [5]]\n",
      "[[2], [5], [5], [5], [5], [5], [5], [5], [5], [5]]\n"
     ]
    }
   ],
   "source": [
    "# loops\n",
    "l = [] \n",
    "for i in range(10):\n",
    "  l.append([5])\n",
    "\n",
    "print(l)\n",
    "\n",
    "# We have seen this before\n",
    "l[0][0] = 2\n",
    "print(l)\n",
    "\n"
   ]
  },
  {
   "cell_type": "markdown",
   "metadata": {},
   "source": [
    "Wait ahat? it worked!!!! The reason is that in the first form: \n",
    "```python\n",
    "l = [[5]] * 10 \n",
    "``` \n",
    "\n",
    "`[5]` gets called only once and a reference to it is used 10 times, whereas in this form every call to the append creates a new indipendent `[5]` list object."
   ]
  },
  {
   "cell_type": "code",
   "execution_count": 20,
   "metadata": {},
   "outputs": [
    {
     "name": "stdout",
     "output_type": "stream",
     "text": [
      "[[5], [5], [5], [5], [5], [5], [5], [5], [5], [5]]\n",
      "yea\n"
     ]
    }
   ],
   "source": [
    "# another loop, If you get stuck, you can always hit the interrupt button in the tool bar\n",
    "l = [] \n",
    "i = 0\n",
    "while True:\n",
    "    l.append([5])\n",
    "    i += 1\n",
    "    if i == 10:\n",
    "      break\n",
    "\n",
    "print(l)\n",
    "\n",
    "v = 3\n",
    "\n",
    "if v == 2:\n",
    "    \n",
    "    pass\n",
    "elif v == 3:\n",
    "    print(\"yea\")\n",
    "    "
   ]
  },
  {
   "cell_type": "markdown",
   "metadata": {},
   "source": [
    "#### Functions"
   ]
  },
  {
   "cell_type": "code",
   "execution_count": null,
   "metadata": {},
   "outputs": [],
   "source": [
    "# lets define a function\n",
    "def foo(a,b):\n",
    "    return a * b\n",
    "\n",
    "# run it\n",
    "foo(a,b)"
   ]
  },
  {
   "cell_type": "markdown",
   "metadata": {},
   "source": [
    "The next function will allow us to print items from iterables"
   ]
  },
  {
   "cell_type": "code",
   "execution_count": 61,
   "metadata": {},
   "outputs": [
    {
     "name": "stdout",
     "output_type": "stream",
     "text": [
      "[2]\n",
      "[5]\n",
      "[5]\n",
      "[5]\n",
      "[5]\n",
      "[5]\n",
      "[5]\n",
      "[5]\n",
      "[5]\n",
      "[5]\n",
      "I\n",
      "s\n",
      " \n",
      "w\n",
      "h\n",
      "a\n",
      "t\n",
      " \n",
      "a\n",
      "n\n",
      " \n",
      "o\n",
      "b\n",
      "j\n",
      "e\n",
      "c\n",
      "t\n",
      " \n",
      "c\n",
      "a\n",
      "n\n",
      " \n",
      "d\n",
      "o\n",
      " \n",
      "a\n",
      "n\n",
      "d\n",
      " \n",
      "n\n",
      "o\n",
      "t\n",
      " \n",
      "w\n",
      "h\n",
      "a\n",
      "t\n",
      " \n",
      "t\n",
      "y\n",
      "p\n",
      "e\n",
      " \n",
      "i\n",
      "t\n",
      " \n",
      "i\n",
      "s\n",
      " \n",
      "t\n",
      "h\n",
      "a\n",
      "t\n",
      " \n",
      "m\n",
      "a\n",
      "t\n",
      "t\n",
      "e\n",
      "r\n",
      "s\n",
      ".\n",
      "1\n",
      "2\n",
      "Is what an object can do and not what type it is that matters.\n",
      "In Python is better to ask for forgiveness than for permission.\n"
     ]
    },
    {
     "data": {
      "text/plain": [
       "['__annotations__',\n",
       " '__call__',\n",
       " '__class__',\n",
       " '__closure__',\n",
       " '__code__',\n",
       " '__defaults__',\n",
       " '__delattr__',\n",
       " '__dict__',\n",
       " '__dir__',\n",
       " '__doc__',\n",
       " '__eq__',\n",
       " '__format__',\n",
       " '__ge__',\n",
       " '__get__',\n",
       " '__getattribute__',\n",
       " '__globals__',\n",
       " '__gt__',\n",
       " '__hash__',\n",
       " '__init__',\n",
       " '__init_subclass__',\n",
       " '__kwdefaults__',\n",
       " '__le__',\n",
       " '__lt__',\n",
       " '__module__',\n",
       " '__name__',\n",
       " '__ne__',\n",
       " '__new__',\n",
       " '__qualname__',\n",
       " '__reduce__',\n",
       " '__reduce_ex__',\n",
       " '__repr__',\n",
       " '__setattr__',\n",
       " '__sizeof__',\n",
       " '__str__',\n",
       " '__subclasshook__']"
      ]
     },
     "execution_count": 61,
     "metadata": {},
     "output_type": "execute_result"
    }
   ],
   "source": [
    "# Iteration Mantras 1 and 2\n",
    "def myPrint( msg ):\n",
    "    \"\"\" This function iterates over msg and prints each element \"\"\"\n",
    "    for item in msg:\n",
    "        print(item)\n",
    "        \n",
    "myPrint(l)\n",
    "myPrint(Mantra2)\n",
    "\n",
    "# this Will only print the keys\n",
    "myPrint({1:Mantra2, 2:Mantra3})\n",
    "\n",
    "# this will print the values\n",
    "myPrint({1:Mantra2, 2:Mantra}.values())\n",
    "\n",
    "#myPrint(2)\n",
    "dir(myPrint)"
   ]
  },
  {
   "cell_type": "markdown",
   "metadata": {},
   "source": [
    "That did not go well at the last minute, lets ask for forgiveness."
   ]
  },
  {
   "cell_type": "code",
   "execution_count": 62,
   "metadata": {},
   "outputs": [
    {
     "name": "stdout",
     "output_type": "stream",
     "text": [
      "[2]\n",
      "[5]\n",
      "[5]\n",
      "[5]\n",
      "[5]\n",
      "[5]\n",
      "[5]\n",
      "[5]\n",
      "[5]\n",
      "[5]\n",
      "I\n",
      "s\n",
      " \n",
      "w\n",
      "h\n",
      "a\n",
      "t\n",
      " \n",
      "a\n",
      "n\n",
      " \n",
      "o\n",
      "b\n",
      "j\n",
      "e\n",
      "c\n",
      "t\n",
      " \n",
      "c\n",
      "a\n",
      "n\n",
      " \n",
      "d\n",
      "o\n",
      " \n",
      "a\n",
      "n\n",
      "d\n",
      " \n",
      "n\n",
      "o\n",
      "t\n",
      " \n",
      "w\n",
      "h\n",
      "a\n",
      "t\n",
      " \n",
      "t\n",
      "y\n",
      "p\n",
      "e\n",
      " \n",
      "i\n",
      "t\n",
      " \n",
      "i\n",
      "s\n",
      " \n",
      "t\n",
      "h\n",
      "a\n",
      "t\n",
      " \n",
      "m\n",
      "a\n",
      "t\n",
      "t\n",
      "e\n",
      "r\n",
      "s\n",
      ".\n",
      "1\n",
      "2\n",
      "Is what an object can do and not what type it is that matters.\n",
      "In Python is better to ask for forgiveness than for permission.\n",
      "2\n"
     ]
    }
   ],
   "source": [
    "# Lets ask for forgiveness:\n",
    "def myPrint( msg ):\n",
    "    \"\"\" This function iterates over msg and prints each element \n",
    "    if msg is not iterable, then it prints the msg \"\"\"\n",
    "    try:\n",
    "      for item in msg:\n",
    "        print(item)\n",
    "            \n",
    "    except TypeError:\n",
    "      print(msg)\n",
    "        \n",
    "myPrint(l)\n",
    "myPrint(Mantra2)\n",
    "\n",
    "# this Will only print the keys\n",
    "myPrint({1:Mantra2, 2:Mantra3})\n",
    "\n",
    "# this will print the values\n",
    "myPrint({1:Mantra2, 2:Mantra}.values())\n",
    "\n",
    "myPrint(2)      "
   ]
  },
  {
   "cell_type": "markdown",
   "metadata": {},
   "source": [
    "Notice how it is not necessary to test the type of every object, rather, you attempt to do something and if the object does not supports the action, you react accordingly."
   ]
  },
  {
   "cell_type": "code",
   "execution_count": 63,
   "metadata": {},
   "outputs": [
    {
     "name": "stdout",
     "output_type": "stream",
     "text": [
      "<class 'function'>\n",
      "['__annotations__', '__call__', '__class__', '__closure__', '__code__', '__defaults__', '__delattr__', '__dict__', '__dir__', '__doc__', '__eq__', '__format__', '__ge__', '__get__', '__getattribute__', '__globals__', '__gt__', '__hash__', '__init__', '__init_subclass__', '__kwdefaults__', '__le__', '__lt__', '__module__', '__name__', '__ne__', '__new__', '__qualname__', '__reduce__', '__reduce_ex__', '__repr__', '__setattr__', '__sizeof__', '__str__', '__subclasshook__']\n",
      " This function iterates over msg and prints each element \n",
      "    if msg is not iterable, then it prints the msg \n",
      "Help on function myPrint in module __main__:\n",
      "\n",
      "myPrint(msg)\n",
      "    This function iterates over msg and prints each element \n",
      "    if msg is not iterable, then it prints the msg\n",
      "\n",
      "None\n"
     ]
    }
   ],
   "source": [
    "# Everything is an object\n",
    "print(type(myPrint))\n",
    "\n",
    "# and as such it has properties:\n",
    "print(dir(myPrint))\n",
    "\n",
    "# And remeber the triple quoted text we used in the definition?\n",
    "print(myPrint.__doc__)\n",
    "\n",
    "# and Here is a nice use for it\n",
    "print(help(myPrint))"
   ]
  },
  {
   "cell_type": "markdown",
   "metadata": {},
   "source": [
    "#### Classes"
   ]
  },
  {
   "cell_type": "code",
   "execution_count": 68,
   "metadata": {},
   "outputs": [
    {
     "name": "stdout",
     "output_type": "stream",
     "text": [
      "e\n",
      "3\n"
     ]
    }
   ],
   "source": [
    "# Finally lets create our own class\n",
    "class myClass():\n",
    "    classVariable = 1\n",
    "    \n",
    "    def __init__(self, val=5):\n",
    "        self.instanceVariable = val\n",
    "        myClass.classVariable += 1\n",
    "        \n",
    "    def sum(self,val2):\n",
    "        return val2 + self.instanceVariable\n",
    "\n",
    "print(\"e\")\n",
    "c = myClass(6)\n",
    "c2 = myClass(6)\n",
    "c.sum(4)\n",
    "c.sum(3)\n",
    "print(c.classVariable)"
   ]
  },
  {
   "cell_type": "code",
   "execution_count": null,
   "metadata": {},
   "outputs": [],
   "source": [
    "print(dir(myClass))\n",
    "\n",
    "# use our new class\n",
    "c1 = myClass(2)\n",
    "print(c1.instanceVariable, myClass.classVariable)\n",
    "\n",
    "# create another one\n",
    "c2 = myClass(2)\n",
    "print(c2.instanceVariable, myClass.classVariable)"
   ]
  },
  {
   "cell_type": "code",
   "execution_count": null,
   "metadata": {},
   "outputs": [],
   "source": [
    "c2.sum(2)"
   ]
  },
  {
   "cell_type": "markdown",
   "metadata": {},
   "source": [
    "Further information can be found online in the documentation: https://docs.python.org/2/"
   ]
  },
  {
   "cell_type": "markdown",
   "metadata": {},
   "source": [
    "### Vectorization"
   ]
  },
  {
   "cell_type": "markdown",
   "metadata": {},
   "source": [
    "Now that you are familiar with the language, measure the real effects of vectorization. To test vectorization we will use the python libraries numpy, scipy, and some commands from ipython."
   ]
  },
  {
   "cell_type": "code",
   "execution_count": 69,
   "metadata": {},
   "outputs": [
    {
     "name": "stdout",
     "output_type": "stream",
     "text": [
      "Populating the interactive namespace from numpy and matplotlib\n"
     ]
    }
   ],
   "source": [
    "# Isstantiate the environment with pylab\n",
    "%pylab inline"
   ]
  },
  {
   "cell_type": "code",
   "execution_count": 71,
   "metadata": {},
   "outputs": [],
   "source": [
    "import numpy as np\n",
    "import scipy as sc"
   ]
  },
  {
   "cell_type": "code",
   "execution_count": 70,
   "metadata": {},
   "outputs": [
    {
     "name": "stdout",
     "output_type": "stream",
     "text": [
      "178 µs ± 817 ns per loop (mean ± std. dev. of 7 runs, 10000 loops each)\n"
     ]
    }
   ],
   "source": [
    "# library implementations vs for loops construct a matrix\n",
    "# of 100 x 100 random numbers\n",
    "%timeit np.random.rand(100,100) "
   ]
  },
  {
   "cell_type": "code",
   "execution_count": 72,
   "metadata": {},
   "outputs": [
    {
     "name": "stdout",
     "output_type": "stream",
     "text": [
      "[[0.95638587 0.31861004 0.7424138  ... 0.3039702  0.92533008 0.59111571]\n",
      " [0.65126007 0.32785589 0.03566379 ... 0.95055348 0.45825867 0.62266432]\n",
      " [0.47213967 0.64945478 0.90479411 ... 0.22685864 0.26525721 0.71194445]\n",
      " ...\n",
      " [0.45869709 0.10503066 0.75920955 ... 0.40886199 0.52246324 0.16008824]\n",
      " [0.83390186 0.97025349 0.27235307 ... 0.21672734 0.47359546 0.03337876]\n",
      " [0.07528891 0.15359779 0.56474689 ... 0.13258606 0.40514285 0.40662818]]\n"
     ]
    }
   ],
   "source": [
    "print(np.random.rand(100,100) )"
   ]
  },
  {
   "cell_type": "code",
   "execution_count": 73,
   "metadata": {},
   "outputs": [
    {
     "data": {
      "text/plain": [
       "[<matplotlib.lines.Line2D at 0x16aec6b1088>,\n",
       " <matplotlib.lines.Line2D at 0x16aec6da648>,\n",
       " <matplotlib.lines.Line2D at 0x16aec6df448>,\n",
       " <matplotlib.lines.Line2D at 0x16aec6e6108>,\n",
       " <matplotlib.lines.Line2D at 0x16aec6ea448>,\n",
       " <matplotlib.lines.Line2D at 0x16aec6ed788>,\n",
       " <matplotlib.lines.Line2D at 0x16aec6f16c8>,\n",
       " <matplotlib.lines.Line2D at 0x16aec761608>,\n",
       " <matplotlib.lines.Line2D at 0x16aec6e6fc8>,\n",
       " <matplotlib.lines.Line2D at 0x16aec6ed148>,\n",
       " <matplotlib.lines.Line2D at 0x16aec652748>,\n",
       " <matplotlib.lines.Line2D at 0x16aeb7ad2c8>,\n",
       " <matplotlib.lines.Line2D at 0x16aecd40808>,\n",
       " <matplotlib.lines.Line2D at 0x16aed714fc8>,\n",
       " <matplotlib.lines.Line2D at 0x16aed714948>,\n",
       " <matplotlib.lines.Line2D at 0x16aecbeb648>,\n",
       " <matplotlib.lines.Line2D at 0x16aed2871c8>,\n",
       " <matplotlib.lines.Line2D at 0x16aed287708>,\n",
       " <matplotlib.lines.Line2D at 0x16aed287c08>,\n",
       " <matplotlib.lines.Line2D at 0x16aed251408>,\n",
       " <matplotlib.lines.Line2D at 0x16aed251988>,\n",
       " <matplotlib.lines.Line2D at 0x16aed3c16c8>,\n",
       " <matplotlib.lines.Line2D at 0x16aed3c1e08>,\n",
       " <matplotlib.lines.Line2D at 0x16aed3c1bc8>,\n",
       " <matplotlib.lines.Line2D at 0x16aed28e0c8>,\n",
       " <matplotlib.lines.Line2D at 0x16aed28e708>,\n",
       " <matplotlib.lines.Line2D at 0x16aed28ee08>,\n",
       " <matplotlib.lines.Line2D at 0x16aece91bc8>,\n",
       " <matplotlib.lines.Line2D at 0x16aece91808>,\n",
       " <matplotlib.lines.Line2D at 0x16aece91f48>,\n",
       " <matplotlib.lines.Line2D at 0x16aed293308>,\n",
       " <matplotlib.lines.Line2D at 0x16aed2938c8>,\n",
       " <matplotlib.lines.Line2D at 0x16aed2932c8>,\n",
       " <matplotlib.lines.Line2D at 0x16aed7f5708>,\n",
       " <matplotlib.lines.Line2D at 0x16aed7f5d48>,\n",
       " <matplotlib.lines.Line2D at 0x16aed7f5c88>,\n",
       " <matplotlib.lines.Line2D at 0x16aed3ee748>,\n",
       " <matplotlib.lines.Line2D at 0x16aed3eebc8>,\n",
       " <matplotlib.lines.Line2D at 0x16aed7413c8>,\n",
       " <matplotlib.lines.Line2D at 0x16aed741a88>,\n",
       " <matplotlib.lines.Line2D at 0x16aed741908>,\n",
       " <matplotlib.lines.Line2D at 0x16aed750748>,\n",
       " <matplotlib.lines.Line2D at 0x16aed750388>,\n",
       " <matplotlib.lines.Line2D at 0x16aed750a88>,\n",
       " <matplotlib.lines.Line2D at 0x16aed6a6f88>,\n",
       " <matplotlib.lines.Line2D at 0x16aed6a6508>,\n",
       " <matplotlib.lines.Line2D at 0x16aed6a6b88>,\n",
       " <matplotlib.lines.Line2D at 0x16aed7692c8>,\n",
       " <matplotlib.lines.Line2D at 0x16aed769988>,\n",
       " <matplotlib.lines.Line2D at 0x16aed769f88>,\n",
       " <matplotlib.lines.Line2D at 0x16aecfa7188>,\n",
       " <matplotlib.lines.Line2D at 0x16aecfa7848>,\n",
       " <matplotlib.lines.Line2D at 0x16aed2a9088>,\n",
       " <matplotlib.lines.Line2D at 0x16aed2a9608>,\n",
       " <matplotlib.lines.Line2D at 0x16aed2a9c08>,\n",
       " <matplotlib.lines.Line2D at 0x16aed271448>,\n",
       " <matplotlib.lines.Line2D at 0x16aed271bc8>,\n",
       " <matplotlib.lines.Line2D at 0x16aed271b48>,\n",
       " <matplotlib.lines.Line2D at 0x16aece73548>,\n",
       " <matplotlib.lines.Line2D at 0x16aece73648>,\n",
       " <matplotlib.lines.Line2D at 0x16aece73d48>,\n",
       " <matplotlib.lines.Line2D at 0x16aecd8a5c8>,\n",
       " <matplotlib.lines.Line2D at 0x16aece12508>,\n",
       " <matplotlib.lines.Line2D at 0x16aed68b788>,\n",
       " <matplotlib.lines.Line2D at 0x16aed21d2c8>,\n",
       " <matplotlib.lines.Line2D at 0x16aed21d0c8>,\n",
       " <matplotlib.lines.Line2D at 0x16aed672f08>,\n",
       " <matplotlib.lines.Line2D at 0x16aec3b1648>,\n",
       " <matplotlib.lines.Line2D at 0x16aec27f588>,\n",
       " <matplotlib.lines.Line2D at 0x16aec27f748>,\n",
       " <matplotlib.lines.Line2D at 0x16aed6d4408>,\n",
       " <matplotlib.lines.Line2D at 0x16aed6d4e48>,\n",
       " <matplotlib.lines.Line2D at 0x16aec625588>,\n",
       " <matplotlib.lines.Line2D at 0x16aed227088>,\n",
       " <matplotlib.lines.Line2D at 0x16aed227708>,\n",
       " <matplotlib.lines.Line2D at 0x16aed227d88>,\n",
       " <matplotlib.lines.Line2D at 0x16aed2278c8>,\n",
       " <matplotlib.lines.Line2D at 0x16aed227208>,\n",
       " <matplotlib.lines.Line2D at 0x16aed62c348>,\n",
       " <matplotlib.lines.Line2D at 0x16aed32da48>,\n",
       " <matplotlib.lines.Line2D at 0x16aec62e3c8>,\n",
       " <matplotlib.lines.Line2D at 0x16aed74f448>,\n",
       " <matplotlib.lines.Line2D at 0x16aed8523c8>,\n",
       " <matplotlib.lines.Line2D at 0x16aed8521c8>,\n",
       " <matplotlib.lines.Line2D at 0x16aed6cee08>,\n",
       " <matplotlib.lines.Line2D at 0x16aed457088>,\n",
       " <matplotlib.lines.Line2D at 0x16aed4571c8>,\n",
       " <matplotlib.lines.Line2D at 0x16aed528548>,\n",
       " <matplotlib.lines.Line2D at 0x16aed3e2608>,\n",
       " <matplotlib.lines.Line2D at 0x16aec6e2788>,\n",
       " <matplotlib.lines.Line2D at 0x16aed551708>,\n",
       " <matplotlib.lines.Line2D at 0x16aedc3db08>,\n",
       " <matplotlib.lines.Line2D at 0x16aedc3d288>,\n",
       " <matplotlib.lines.Line2D at 0x16aedc3da88>,\n",
       " <matplotlib.lines.Line2D at 0x16aed955408>,\n",
       " <matplotlib.lines.Line2D at 0x16aedc44788>,\n",
       " <matplotlib.lines.Line2D at 0x16aedc44748>,\n",
       " <matplotlib.lines.Line2D at 0x16aedc44b08>,\n",
       " <matplotlib.lines.Line2D at 0x16aedc44388>,\n",
       " <matplotlib.lines.Line2D at 0x16aed3fb408>]"
      ]
     },
     "execution_count": 73,
     "metadata": {},
     "output_type": "execute_result"
    },
    {
     "data": {
      "image/png": "[encoded data removed]",
      "text/plain": [
       "<Figure size 432x288 with 1 Axes>"
      ]
     },
     "metadata": {
      "needs_background": "light"
     },
     "output_type": "display_data"
    }
   ],
   "source": [
    "plt.plot(np.random.rand(100,100))"
   ]
  },
  {
   "cell_type": "code",
   "execution_count": 74,
   "metadata": {},
   "outputs": [
    {
     "name": "stdout",
     "output_type": "stream",
     "text": [
      "10.4 ms ± 115 µs per loop (mean ± std. dev. of 7 runs, 100 loops each)\n"
     ]
    }
   ],
   "source": [
    "%%timeit l=[]\n",
    "for i in range(100):\n",
    "    l.append([])\n",
    "    for j in range(100):\n",
    "        l[i].append( rand() )"
   ]
  },
  {
   "cell_type": "code",
   "execution_count": null,
   "metadata": {},
   "outputs": [],
   "source": [
    "# linear algebra applications\n",
    "X = np.random.rand(100)\n",
    "Y = np.random.rand(100)\n",
    "\n",
    "# element wise multiplication\n",
    "%timeit X * Y"
   ]
  },
  {
   "cell_type": "code",
   "execution_count": null,
   "metadata": {},
   "outputs": [],
   "source": [
    "%%timeit r = []\n",
    "for i in range(len(X)):\n",
    "    r.append(X[i] * Y[i])"
   ]
  },
  {
   "cell_type": "code",
   "execution_count": null,
   "metadata": {},
   "outputs": [],
   "source": [
    "# Arrays are fast for computations, but slow when retrieving elements one  by one\n",
    "XL = X.tolist()\n",
    "YL = Y.tolist()"
   ]
  },
  {
   "cell_type": "code",
   "execution_count": null,
   "metadata": {},
   "outputs": [],
   "source": [
    "%%timeit r = []\n",
    "for i in range(len(X)):\n",
    "    r.append(XL[i] * YL[i])"
   ]
  },
  {
   "cell_type": "code",
   "execution_count": null,
   "metadata": {},
   "outputs": [],
   "source": [
    "# The sum over the pairwise product\n",
    "%timeit (X * Y).sum()"
   ]
  },
  {
   "cell_type": "code",
   "execution_count": null,
   "metadata": {},
   "outputs": [],
   "source": [
    "%%timeit \n",
    "s = 0\n",
    "for i in range(len(X)):\n",
    "    s += XL[i] * YL[i]"
   ]
  },
  {
   "cell_type": "markdown",
   "metadata": {},
   "source": [
    "You have seen that libraries have certain operation very well optimized. And that with some care, you can have significant performance improvements by using the most appropriate objects.\n",
    "\n",
    "A side effect is that vectorization allows to write simpler code. You go form multiple lines and variables to only 1 line.\n",
    "\n",
    "** The Gaussian Function **\n",
    "\n",
    "In data analysis a common function is the gaussian function defined as:\n",
    "\n",
    "$$ P = \\frac{1}{\\sqrt{2\\pi\\sigma^2}}\\exp\\left(\\frac{-(X-\\mu)^2}{2\\sigma^2}\\right) $$\n",
    "\n",
    "Where $P$ and $X$ are vectors, $\\mu$ is the mean of $X$ and $\\sigma$ is the standard deviation of $X$. **Hint:** $\\sigma^2$ is also referred to as the variance and it is usually denoted as $s$. It is computed with the function `np.var`. THe following is a list of methods that are usefull.\n",
    "\n",
    "```python\n",
    "# pi\n",
    "pi\n",
    "\n",
    "#exp(X)\n",
    "np.exp(X)\n",
    "\n",
    "#exp(x) item form\n",
    "math.exp\n",
    "\n",
    "#Power\n",
    "2 ** 2 = 4\n",
    "\n",
    "#Square root\n",
    "np.sqrt(X)\n",
    "\n",
    "\n",
    "```\n",
    "\n",
    "In the next block define the function using for loops.\n"
   ]
  },
  {
   "cell_type": "code",
   "execution_count": null,
   "metadata": {},
   "outputs": [],
   "source": [
    "# the gaussian function note that mu and sigma are passed as parameters\n",
    "#Also note that we call the import statement to make the math package available.\n",
    "import math\n",
    "def gaussian_f( X, mu, s ):\n",
    "    P = []\n",
    "    for x in X:\n",
    "      P.append( math.exp(-(x-mu)**2 / (2*s)) * 1 / (sqrt(2*pi*s)))\n",
    "    \n",
    "    return P\n",
    "    "
   ]
  },
  {
   "cell_type": "markdown",
   "metadata": {},
   "source": [
    "Reimplement using vectorization"
   ]
  },
  {
   "cell_type": "code",
   "execution_count": null,
   "metadata": {},
   "outputs": [],
   "source": [
    "# Now implement the vecotrized version\n",
    "def gaussian( X, mu, s ):\n",
    "    P = 1 / (sqrt(2*pi*s)) * np.exp(-(X-mu)**2 / (2*s))\n",
    "    \n",
    "    return P"
   ]
  },
  {
   "cell_type": "markdown",
   "metadata": {},
   "source": [
    "The following block computes $\\mu$ and $s$. Complete the block to time the execution to compute P using the two version. Which one is faster?"
   ]
  },
  {
   "cell_type": "code",
   "execution_count": null,
   "metadata": {},
   "outputs": [],
   "source": [
    "mu = X.mean()\n",
    "s = X.var()\n",
    "\n",
    "%timeit gaussian_f( X, mu, s )\n",
    "\n",
    "%timeit gaussian( X, mu, s )\n"
   ]
  },
  {
   "cell_type": "markdown",
   "metadata": {},
   "source": [
    "#### The array class"
   ]
  },
  {
   "cell_type": "markdown",
   "metadata": {},
   "source": [
    "Numpy has a very powerful and flexible class for data analysis called the ndarray class. THe function used in vectorization ether convert normal list into ndarrays or work in nd arrays directly (Using mantra 2).\n",
    "\n",
    "Out of the many function available, theere are two main concepts to keep in mind: slicing and axis bound operations.\n",
    "\n",
    "#### Slicing\n",
    "\n",
    "Slices are a builtin python class that helps determine which part of an iterable needs to be returned. A slice defines the start index, the stop index and the step used to retrieve indexes: \n",
    "\n",
    "```python\n",
    "slice(start, stop[, step=1])\n",
    "```  \n",
    "Normally the slice class is not explicitly called, instead, a short hand is used when using the collection index syntax e.g. `l[start:stop:step]`.  The slice will return indexes starting by `start` and adding `step` continously until  the index is greater or equal to `stop`.  The following example illustrate all the cases:"
   ]
  },
  {
   "cell_type": "code",
   "execution_count": null,
   "metadata": {},
   "outputs": [],
   "source": [
    "#Define a list, we explicitly convert the range into a list to be able to\n",
    "#retrieve indexes directly. range by itself is an irterable\n",
    "l = list(range(100))\n",
    "\n",
    "# Normal element this does not uses a slice\n",
    "print(l[0])"
   ]
  },
  {
   "cell_type": "code",
   "execution_count": null,
   "metadata": {},
   "outputs": [],
   "source": [
    "#first 50 elements, start implicitly defined to 0\n",
    "print(l[:50])\n",
    "\n",
    "print(l[slice(0,50)])"
   ]
  },
  {
   "cell_type": "code",
   "execution_count": null,
   "metadata": {},
   "outputs": [],
   "source": [
    "#last 50 elements, end implicitly defined\n",
    "print(l[50:])\n",
    "\n",
    "print(l[slice(50,len(l))])"
   ]
  },
  {
   "cell_type": "code",
   "execution_count": null,
   "metadata": {},
   "outputs": [],
   "source": [
    "# Select odd numbers, end implicitly defined, but we add a step of two\n",
    "print(l[1::2])"
   ]
  },
  {
   "cell_type": "code",
   "execution_count": null,
   "metadata": {},
   "outputs": [],
   "source": [
    "# We are going to consider 0 to be an even number, so we can select the even numbers like\n",
    "print(l[::2])"
   ]
  },
  {
   "cell_type": "code",
   "execution_count": 21,
   "metadata": {},
   "outputs": [
    {
     "name": "stdout",
     "output_type": "stream",
     "text": [
      "[[5], [5], [5], [5]]\n"
     ]
    }
   ],
   "source": [
    "# also we could select the even numbers without the 0\n",
    "print(l[2::2])"
   ]
  },
  {
   "cell_type": "code",
   "execution_count": 27,
   "metadata": {},
   "outputs": [
    {
     "data": {
      "text/plain": [
       "array([6, 7, 8, 9])"
      ]
     },
     "execution_count": 27,
     "metadata": {},
     "output_type": "execute_result"
    }
   ],
   "source": [
    "m = [ [1,2,3],\n",
    "      [4,5,6],\n",
    "      [7,8,9]]\n",
    "npmat = np.array(m)\n",
    "type(npmat)\n",
    "npmat > 5\n",
    "npmat[npmat > 5]"
   ]
  },
  {
   "cell_type": "markdown",
   "metadata": {},
   "source": [
    "Using the concept of slices an n dimensional array can be address by defining slices in each of its demensions.\n"
   ]
  },
  {
   "cell_type": "code",
   "execution_count": null,
   "metadata": {
    "scrolled": true
   },
   "outputs": [],
   "source": [
    "# random produces an array filled with random numbers between \n",
    "# 0 and 1 and of dimension the number of arguments passed\n",
    "m = np.random.rand(100,100,100) \n",
    "print(\"Size of the matrix per dimension %s\" %  str(m.shape))\n",
    "print(\"Number of dimension: %d\" % len(m.shape))"
   ]
  },
  {
   "cell_type": "code",
   "execution_count": null,
   "metadata": {},
   "outputs": [],
   "source": [
    "#Using m we can get slices, \n",
    "print(m[5:10,:,:])"
   ]
  },
  {
   "cell_type": "code",
   "execution_count": null,
   "metadata": {},
   "outputs": [],
   "source": [
    "print(m[5:10,:,:].shape)"
   ]
  },
  {
   "cell_type": "code",
   "execution_count": null,
   "metadata": {},
   "outputs": [],
   "source": [
    "#Select the 5 items from each dimension\n",
    "m[5:10,5:10,5:10]"
   ]
  },
  {
   "cell_type": "code",
   "execution_count": null,
   "metadata": {},
   "outputs": [],
   "source": [
    "#select the fifth 5 x 5 matrix of the 5th to th elemets on each dimension,\n",
    "m[4,5:10,5:10]"
   ]
  },
  {
   "cell_type": "code",
   "execution_count": null,
   "metadata": {},
   "outputs": [],
   "source": [
    "# Notice how the rertuned result has one dimension less\n",
    "print(m[4,5:10,5:10].shape)"
   ]
  },
  {
   "cell_type": "code",
   "execution_count": null,
   "metadata": {},
   "outputs": [],
   "source": [
    "# Traditional multidimensional addressing will not work as expected.\n",
    "m[4][5:10][5:10]"
   ]
  },
  {
   "cell_type": "code",
   "execution_count": null,
   "metadata": {},
   "outputs": [],
   "source": [
    "#Lets break it down\n",
    "print(m[4].shape)\n",
    "\n",
    "print(m[4][5:10].shape)"
   ]
  },
  {
   "cell_type": "markdown",
   "metadata": {},
   "source": [
    "There is the problem: `m[4][5:10]` does not have indexes 5 to 10 because it is only 5 long as a result `m[4][5:10][5:10]` returns a `array([], shape=(0, 100), dtype=float64)` which is an empty array with capacity for a 100 elements in its second dimension. Further more, if no slice or index is specified for some of the dimensions, all of the items for that dimension are returned. This is the reason why `m[4][5:10]` has shapoe `(5, 100)`. In other words:\n",
    "```python\n",
    "m[4][5:10] == m[4][5:10,:]\n",
    "```"
   ]
  },
  {
   "cell_type": "markdown",
   "metadata": {},
   "source": [
    "#### Axis bound operations\n",
    "\n",
    "Now that yo know how to effectively select chunks of data from an n dimensional array lets look at dimension bound operations. \n",
    "\n",
    "In numpy operations over arrays can be bound to a particular dimension. To explain, lets use the mean function."
   ]
  },
  {
   "cell_type": "code",
   "execution_count": null,
   "metadata": {},
   "outputs": [],
   "source": [
    "mean(m)"
   ]
  },
  {
   "cell_type": "markdown",
   "metadata": {},
   "source": [
    "Out of the box the mean function computes the mean of all the items in the array. But lets say you want the mean of the columns:"
   ]
  },
  {
   "cell_type": "code",
   "execution_count": null,
   "metadata": {},
   "outputs": [],
   "source": [
    "# Lets convert m into a 100 rows by 3 columns matrix\n",
    "m = m[0,:,:3]\n",
    "print(m.shape)"
   ]
  },
  {
   "cell_type": "code",
   "execution_count": null,
   "metadata": {},
   "outputs": [],
   "source": [
    "# The mean of the columns, or conversly computing the mean by row \n",
    "# can be done as follows:\n",
    "\n",
    "print(m.mean(axis=1))\n",
    "print(m.mean(axis=1).shape)"
   ]
  },
  {
   "cell_type": "code",
   "execution_count": null,
   "metadata": {},
   "outputs": [],
   "source": [
    "# alternatively the mean of the rows, or computing the mean by \n",
    "# column can be done as follows:\n",
    "print(m.mean(axis=0))\n",
    "print(m.mean(axis=0).shape)"
   ]
  },
  {
   "cell_type": "markdown",
   "metadata": {},
   "source": [
    "### Data Files and Plots"
   ]
  },
  {
   "cell_type": "markdown",
   "metadata": {},
   "source": [
    "Now that you know how to write efficient analysis programs, you will learn to load data files and create different ways to visualize the data.\n"
   ]
  },
  {
   "cell_type": "code",
   "execution_count": null,
   "metadata": {},
   "outputs": [],
   "source": [
    "# import a single function from a package\n",
    "from scipy.io import loadmat\n",
    "from sklearn import datasets\n",
    "\n",
    "iris = datasets.load_iris()\n",
    "\n",
    "iris"
   ]
  },
  {
   "cell_type": "markdown",
   "metadata": {},
   "source": [
    "Extract the first two columns from the file structure"
   ]
  },
  {
   "cell_type": "code",
   "execution_count": null,
   "metadata": {},
   "outputs": [],
   "source": [
    "matrix = iris.data[:, :2]"
   ]
  },
  {
   "cell_type": "markdown",
   "metadata": {},
   "source": [
    "Now that you have extracted the 2 dimensional array plot the traces"
   ]
  },
  {
   "cell_type": "code",
   "execution_count": null,
   "metadata": {},
   "outputs": [],
   "source": [
    "#plot sepal length in cm\n",
    "plot(matrix[:,0], 'r.')"
   ]
  },
  {
   "cell_type": "code",
   "execution_count": null,
   "metadata": {},
   "outputs": [],
   "source": [
    "#plot sepal width in cm\n",
    "plot(matrix[:,1], 'r.')"
   ]
  },
  {
   "cell_type": "markdown",
   "metadata": {},
   "source": [
    "Try some examples from the [cookbook](https://scipy.github.io/old-wiki/pages/Cookbook/Matplotlib.html) to make your plot look nice."
   ]
  },
  {
   "cell_type": "code",
   "execution_count": null,
   "metadata": {},
   "outputs": [],
   "source": [
    "#use this box to try a few things"
   ]
  },
  {
   "cell_type": "markdown",
   "metadata": {},
   "source": [
    "Now lets plot a histogram of the values in the first dimension"
   ]
  },
  {
   "cell_type": "code",
   "execution_count": null,
   "metadata": {},
   "outputs": [],
   "source": [
    "h = hist(matrix[:,0],bins=10)"
   ]
  },
  {
   "cell_type": "code",
   "execution_count": null,
   "metadata": {},
   "outputs": [],
   "source": [
    "# Include detail by increasing the number of bins\n",
    "h = hist(matrix[:,0],bins=100)"
   ]
  }
 ],
 "metadata": {
  "kernelspec": {
   "display_name": "Python 3",
   "language": "python",
   "name": "python3"
  },
  "language_info": {
   "codemirror_mode": {
    "name": "ipython",
    "version": 3
   },
   "file_extension": ".py",
   "mimetype": "text/x-python",
   "name": "python",
   "nbconvert_exporter": "python",
   "pygments_lexer": "ipython3",
   "version": "3.8.5"
  }
 },
 "nbformat": 4,
 "nbformat_minor": 1
}
