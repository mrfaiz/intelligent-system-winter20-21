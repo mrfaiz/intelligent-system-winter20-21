{
 "cells": [
  {
   "cell_type": "code",
   "execution_count": 103,
   "metadata": {},
   "outputs": [],
   "source": [
    "import pandas as pd\n",
    "import numpy as np\n",
    "from matplotlib import pyplot as plt\n",
    "\n",
    "from sklearn.preprocessing import StandardScaler # for standardizing the Data\n",
    "from sklearn.decomposition import PCA # for PCA calculation\n",
    "\n",
    "col_time= \"time\"\n",
    "col_temp_c = \"temp_c\"\n",
    "col_status = \"status\"\n",
    "col_rain_mm = \"rain_mm\"\n",
    "col_level_cm = \"level_cm\"\n",
    "col_flow_m2_s = \"flow_m2_s\"\n",
    "\n",
    "statin_a_csv = \"station_a_improved.csv\"\n",
    "statin_b_csv = \"station_b_improved.csv\"\n",
    "statin_c_csv = \"station_c_improved.csv\"\n",
    "station_main_csv = \"station_main_improved.csv\"\n",
    "\n",
    "sc = StandardScaler() # creating a StandardScaler object"
   ]
  },
  {
   "cell_type": "code",
   "execution_count": 104,
   "metadata": {},
   "outputs": [],
   "source": [
    "def fillNaNWithMedian(col):\n",
    "    median = col.median()\n",
    "    col.fillna(median, inplace=True)\n",
    "    \n",
    "def fillNaNWithMostFrequent(col):\n",
    "    col.fillna(col.value_counts().index[0], inplace=True)\n",
    "\n",
    "def fillNaNWithInterpolate(col):\n",
    "    col.fillna(col.interpolate(),inplace=True)\n",
    "    \n",
    "def standardisation(col):\n",
    "    mean = col.mean()\n",
    "    standardDev = col.std()\n",
    "    return (col - mean)/standardDev\n",
    "\n",
    "def applyEncoding(col):\n",
    "    col.replace(['low','decreased','normal','increased','max'],[1,2,3,4,5],inplace=True)\n"
   ]
  },
  {
   "cell_type": "code",
   "execution_count": 105,
   "metadata": {},
   "outputs": [],
   "source": [
    "station_a = pd.read_csv(statin_a_csv, parse_dates=['time'],index_col='time')\n",
    "station_a.rename(columns={col_temp_c: \"a_temp\", col_status: \"a_status\", col_rain_mm: \"a_rain\" },inplace=True)\n",
    "station_a = station_a.loc[:, ~station_a.columns.str.contains('^Unnamed')]\n",
    "# station_a.set_index(col_time, inplace=True)\n",
    "# station_a.head()\n",
    "\n",
    "# Standarize Data\n",
    "X_a = station_a.values # getting all values as a matrix of dataframe \n",
    "X_std_a = sc.fit_transform(X_a) # standardizing the data\n",
    "\n",
    "# Conduct PCA on station A\n",
    "pca_a = PCA(n_components = 0.95)\n",
    "X_pca_a = pca_a.fit(X_std_a)"
   ]
  },
  {
   "cell_type": "code",
   "execution_count": 106,
   "metadata": {},
   "outputs": [
    {
     "data": {
      "text/html": [
       "<div>\n",
       "<style scoped>\n",
       "    .dataframe tbody tr th:only-of-type {\n",
       "        vertical-align: middle;\n",
       "    }\n",
       "\n",
       "    .dataframe tbody tr th {\n",
       "        vertical-align: top;\n",
       "    }\n",
       "\n",
       "    .dataframe thead th {\n",
       "        text-align: right;\n",
       "    }\n",
       "</style>\n",
       "<table border=\"1\" class=\"dataframe\">\n",
       "  <thead>\n",
       "    <tr style=\"text-align: right;\">\n",
       "      <th></th>\n",
       "      <th>a_temp</th>\n",
       "      <th>a_rain</th>\n",
       "      <th>a_status</th>\n",
       "    </tr>\n",
       "  </thead>\n",
       "  <tbody>\n",
       "    <tr>\n",
       "      <th>0</th>\n",
       "      <td>0.706926</td>\n",
       "      <td>-0.707054</td>\n",
       "      <td>-0.018179</td>\n",
       "    </tr>\n",
       "    <tr>\n",
       "      <th>1</th>\n",
       "      <td>-0.019891</td>\n",
       "      <td>0.005818</td>\n",
       "      <td>-0.999785</td>\n",
       "    </tr>\n",
       "    <tr>\n",
       "      <th>2</th>\n",
       "      <td>-0.707008</td>\n",
       "      <td>-0.707136</td>\n",
       "      <td>0.009951</td>\n",
       "    </tr>\n",
       "  </tbody>\n",
       "</table>\n",
       "</div>"
      ],
      "text/plain": [
       "     a_temp    a_rain  a_status\n",
       "0  0.706926 -0.707054 -0.018179\n",
       "1 -0.019891  0.005818 -0.999785\n",
       "2 -0.707008 -0.707136  0.009951"
      ]
     },
     "execution_count": 106,
     "metadata": {},
     "output_type": "execute_result"
    }
   ],
   "source": [
    "# Finding the most important features set\n",
    "pd.DataFrame(pca_a.components_, columns = ['a_temp', 'a_rain', 'a_status'])"
   ]
  },
  {
   "cell_type": "markdown",
   "metadata": {},
   "source": [
    "## Station_b"
   ]
  },
  {
   "cell_type": "code",
   "execution_count": 107,
   "metadata": {},
   "outputs": [],
   "source": [
    "station_b = pd.read_csv(statin_b_csv, parse_dates=[col_time],index_col=col_time)\n",
    "station_b.rename(columns={col_temp_c: \"b_temp\", col_status: \"b_status\", col_rain_mm: \"b_rain\" },inplace=True)\n",
    "station_b = station_b.loc[:, ~station_b.columns.str.contains('^Unnamed')]\n",
    "# station_b.set_index(col_time, inplace=True)\n",
    "# station_a.head()\n",
    "\n",
    "# Standarize Data\n",
    "X_b = station_b.values # getting all values as a matrix of dataframe \n",
    "X_std_b = sc.fit_transform(X_b) # standardizing the data\n",
    "\n",
    "# Conduct PCA on station A\n",
    "pca_b = PCA(n_components = 0.95)\n",
    "X_pca_b = pca_b.fit(X_std_b)\n",
    "# pca.explained_variance_ratio_"
   ]
  },
  {
   "cell_type": "code",
   "execution_count": 108,
   "metadata": {},
   "outputs": [
    {
     "data": {
      "text/html": [
       "<div>\n",
       "<style scoped>\n",
       "    .dataframe tbody tr th:only-of-type {\n",
       "        vertical-align: middle;\n",
       "    }\n",
       "\n",
       "    .dataframe tbody tr th {\n",
       "        vertical-align: top;\n",
       "    }\n",
       "\n",
       "    .dataframe thead th {\n",
       "        text-align: right;\n",
       "    }\n",
       "</style>\n",
       "<table border=\"1\" class=\"dataframe\">\n",
       "  <thead>\n",
       "    <tr style=\"text-align: right;\">\n",
       "      <th></th>\n",
       "      <th>a_temp</th>\n",
       "      <th>a_rain</th>\n",
       "      <th>a_status</th>\n",
       "    </tr>\n",
       "  </thead>\n",
       "  <tbody>\n",
       "    <tr>\n",
       "      <th>0</th>\n",
       "      <td>0.706830</td>\n",
       "      <td>-0.707028</td>\n",
       "      <td>-0.022423</td>\n",
       "    </tr>\n",
       "    <tr>\n",
       "      <th>1</th>\n",
       "      <td>-0.024670</td>\n",
       "      <td>0.007041</td>\n",
       "      <td>-0.999671</td>\n",
       "    </tr>\n",
       "    <tr>\n",
       "      <th>2</th>\n",
       "      <td>-0.706953</td>\n",
       "      <td>-0.707151</td>\n",
       "      <td>0.012466</td>\n",
       "    </tr>\n",
       "  </tbody>\n",
       "</table>\n",
       "</div>"
      ],
      "text/plain": [
       "     a_temp    a_rain  a_status\n",
       "0  0.706830 -0.707028 -0.022423\n",
       "1 -0.024670  0.007041 -0.999671\n",
       "2 -0.706953 -0.707151  0.012466"
      ]
     },
     "execution_count": 108,
     "metadata": {},
     "output_type": "execute_result"
    }
   ],
   "source": [
    "# Finding the most important features set\n",
    "pd.DataFrame(pca_b.components_, columns = ['a_temp', 'a_rain', 'a_status'])"
   ]
  },
  {
   "cell_type": "markdown",
   "metadata": {},
   "source": [
    "## Station_c"
   ]
  },
  {
   "cell_type": "code",
   "execution_count": 109,
   "metadata": {},
   "outputs": [],
   "source": [
    "station_c = pd.read_csv(statin_c_csv, parse_dates=[col_time],index_col=col_time)\n",
    "station_c.rename(columns={col_temp_c: \"c_temp\", col_status: \"c_status\", col_rain_mm: \"c_rain\" },inplace=True)\n",
    "station_c = station_c.loc[:, ~station_c.columns.str.contains('^Unnamed')]\n",
    "\n",
    "# Standarize Data\n",
    "X_c = station_c.values # getting all values as a matrix of dataframe \n",
    "X_std_c = sc.fit_transform(X_c) # standardizing the data\n",
    "\n",
    "# Conduct PCA on station A\n",
    "pca_c = PCA(n_components = 0.95)\n",
    "X_pca_c = pca_c.fit(X_std_c)"
   ]
  },
  {
   "cell_type": "code",
   "execution_count": 110,
   "metadata": {},
   "outputs": [
    {
     "data": {
      "text/html": [
       "<div>\n",
       "<style scoped>\n",
       "    .dataframe tbody tr th:only-of-type {\n",
       "        vertical-align: middle;\n",
       "    }\n",
       "\n",
       "    .dataframe tbody tr th {\n",
       "        vertical-align: top;\n",
       "    }\n",
       "\n",
       "    .dataframe thead th {\n",
       "        text-align: right;\n",
       "    }\n",
       "</style>\n",
       "<table border=\"1\" class=\"dataframe\">\n",
       "  <thead>\n",
       "    <tr style=\"text-align: right;\">\n",
       "      <th></th>\n",
       "      <th>a_temp</th>\n",
       "      <th>a_rain</th>\n",
       "      <th>a_status</th>\n",
       "    </tr>\n",
       "  </thead>\n",
       "  <tbody>\n",
       "    <tr>\n",
       "      <th>0</th>\n",
       "      <td>-0.707074</td>\n",
       "      <td>0.706993</td>\n",
       "      <td>0.014401</td>\n",
       "    </tr>\n",
       "    <tr>\n",
       "      <th>1</th>\n",
       "      <td>-0.004587</td>\n",
       "      <td>0.015780</td>\n",
       "      <td>-0.999865</td>\n",
       "    </tr>\n",
       "    <tr>\n",
       "      <th>2</th>\n",
       "      <td>-0.707125</td>\n",
       "      <td>-0.707044</td>\n",
       "      <td>-0.007914</td>\n",
       "    </tr>\n",
       "  </tbody>\n",
       "</table>\n",
       "</div>"
      ],
      "text/plain": [
       "     a_temp    a_rain  a_status\n",
       "0 -0.707074  0.706993  0.014401\n",
       "1 -0.004587  0.015780 -0.999865\n",
       "2 -0.707125 -0.707044 -0.007914"
      ]
     },
     "execution_count": 110,
     "metadata": {},
     "output_type": "execute_result"
    }
   ],
   "source": [
    "# Finding the most important features set\n",
    "pd.DataFrame(pca_c.components_, columns = ['a_temp', 'a_rain', 'a_status'])"
   ]
  },
  {
   "cell_type": "markdown",
   "metadata": {},
   "source": [
    "## station_main"
   ]
  },
  {
   "cell_type": "code",
   "execution_count": 111,
   "metadata": {},
   "outputs": [],
   "source": [
    "station_main = pd.read_csv(station_main_csv, parse_dates=[col_time],index_col=col_time)\n",
    "station_main = station_main.loc[:, ~station_main.columns.str.contains('^Unnamed')]\n",
    "\n",
    "# Standarize Data\n",
    "X_main = station_main.values # getting all values as a matrix of dataframe \n",
    "X_std_main = sc.fit_transform(X_main) # standardizing the data\n",
    "\n",
    "# Conduct PCA on station A\n",
    "pca_main = PCA(n_components = 0.95)\n",
    "X_pca_main = pca_main.fit(X_std_main)"
   ]
  },
  {
   "cell_type": "markdown",
   "metadata": {},
   "source": [
    "## Discussion About Conducting PCA on stations "
   ]
  },
  {
   "cell_type": "code",
   "execution_count": 112,
   "metadata": {},
   "outputs": [
    {
     "data": {
      "image/png": "[encoded data removed]",
      "text/plain": [
       "<Figure size 432x288 with 1 Axes>"
      ]
     },
     "metadata": {
      "needs_background": "light"
     },
     "output_type": "display_data"
    }
   ],
   "source": [
    "# Determine the number of components\n",
    "plt.plot(np.cumsum(pca_a.explained_variance_ratio_),label=\"station_a\")\n",
    "plt.plot(np.cumsum(pca_b.explained_variance_ratio_),label=\"station_b\")\n",
    "plt.plot(np.cumsum(pca_c.explained_variance_ratio_),label=\"station_c\")\n",
    "plt.xlabel('number of components')\n",
    "plt.legend()\n",
    "plt.ylabel('cumulative explained variance');"
   ]
  },
  {
   "cell_type": "code",
   "execution_count": 113,
   "metadata": {},
   "outputs": [
    {
     "name": "stdout",
     "output_type": "stream",
     "text": [
      "[0.48020221 0.33329932 0.18649847]\n",
      "[0.48948669 0.33327904 0.17723427]\n",
      "[0.47554172 0.33331274 0.19114554]\n"
     ]
    }
   ],
   "source": [
    "# variance_ratio\n",
    "print(pca_a.explained_variance_ratio_)\n",
    "print(pca_b.explained_variance_ratio_)\n",
    "print(pca_c.explained_variance_ratio_)"
   ]
  },
  {
   "cell_type": "markdown",
   "metadata": {},
   "source": [
    "**Station_a (temp,status,rain)[0.48020221, 0.33329932, 0.18649847]**\n",
    "\n",
    "To cover .95% deviation we need all three features.\n",
    "\n",
    "**Station_b (temp,status,rain)[0.48948669, 0.33327904, 0.17723427]**\n",
    "\n",
    "To cover .95% deviation we need all three features.\n",
    "\n",
    "**Station_c (temp,status,rain)[0.47554172, 0.33331274, 0.19114554]**\n",
    "\n",
    "**Station_main (level_cm) [0.98356145]**\n",
    "\n",
    "To cover .95% deviation we need all three features."
   ]
  },
  {
   "cell_type": "markdown",
   "metadata": {},
   "source": [
    "## Combined station a, b, c"
   ]
  },
  {
   "cell_type": "code",
   "execution_count": 118,
   "metadata": {},
   "outputs": [
    {
     "data": {
      "text/html": [
       "<div>\n",
       "<style scoped>\n",
       "    .dataframe tbody tr th:only-of-type {\n",
       "        vertical-align: middle;\n",
       "    }\n",
       "\n",
       "    .dataframe tbody tr th {\n",
       "        vertical-align: top;\n",
       "    }\n",
       "\n",
       "    .dataframe thead th {\n",
       "        text-align: right;\n",
       "    }\n",
       "</style>\n",
       "<table border=\"1\" class=\"dataframe\">\n",
       "  <thead>\n",
       "    <tr style=\"text-align: right;\">\n",
       "      <th></th>\n",
       "      <th>a_temp</th>\n",
       "      <th>a_status</th>\n",
       "      <th>a_rain</th>\n",
       "      <th>b_temp</th>\n",
       "      <th>b_status</th>\n",
       "      <th>b_rain</th>\n",
       "      <th>c_temp</th>\n",
       "      <th>c_status</th>\n",
       "      <th>c_rain</th>\n",
       "    </tr>\n",
       "    <tr>\n",
       "      <th>time</th>\n",
       "      <th></th>\n",
       "      <th></th>\n",
       "      <th></th>\n",
       "      <th></th>\n",
       "      <th></th>\n",
       "      <th></th>\n",
       "      <th></th>\n",
       "      <th></th>\n",
       "      <th></th>\n",
       "    </tr>\n",
       "  </thead>\n",
       "  <tbody>\n",
       "    <tr>\n",
       "      <th>2007-09-01 00:00:00</th>\n",
       "      <td>0.503958</td>\n",
       "      <td>4</td>\n",
       "      <td>0.003241</td>\n",
       "      <td>0.514335</td>\n",
       "      <td>4</td>\n",
       "      <td>0.013067</td>\n",
       "      <td>0.366646</td>\n",
       "      <td>4</td>\n",
       "      <td>0.030873</td>\n",
       "    </tr>\n",
       "    <tr>\n",
       "      <th>2007-09-01 01:00:00</th>\n",
       "      <td>0.475884</td>\n",
       "      <td>4</td>\n",
       "      <td>0.003241</td>\n",
       "      <td>0.537087</td>\n",
       "      <td>4</td>\n",
       "      <td>0.013067</td>\n",
       "      <td>0.392585</td>\n",
       "      <td>4</td>\n",
       "      <td>0.036785</td>\n",
       "    </tr>\n",
       "    <tr>\n",
       "      <th>2007-09-01 02:00:00</th>\n",
       "      <td>0.433771</td>\n",
       "      <td>4</td>\n",
       "      <td>0.003241</td>\n",
       "      <td>0.525711</td>\n",
       "      <td>4</td>\n",
       "      <td>0.013067</td>\n",
       "      <td>0.379615</td>\n",
       "      <td>4</td>\n",
       "      <td>0.030873</td>\n",
       "    </tr>\n",
       "    <tr>\n",
       "      <th>2007-09-01 03:00:00</th>\n",
       "      <td>0.335510</td>\n",
       "      <td>4</td>\n",
       "      <td>0.003241</td>\n",
       "      <td>0.537087</td>\n",
       "      <td>4</td>\n",
       "      <td>0.013067</td>\n",
       "      <td>0.379615</td>\n",
       "      <td>4</td>\n",
       "      <td>0.030873</td>\n",
       "    </tr>\n",
       "    <tr>\n",
       "      <th>2007-09-01 04:00:00</th>\n",
       "      <td>0.265323</td>\n",
       "      <td>4</td>\n",
       "      <td>0.003241</td>\n",
       "      <td>0.480207</td>\n",
       "      <td>4</td>\n",
       "      <td>0.045353</td>\n",
       "      <td>0.172104</td>\n",
       "      <td>5</td>\n",
       "      <td>0.030873</td>\n",
       "    </tr>\n",
       "  </tbody>\n",
       "</table>\n",
       "</div>"
      ],
      "text/plain": [
       "                       a_temp  a_status    a_rain    b_temp  b_status  \\\n",
       "time                                                                    \n",
       "2007-09-01 00:00:00  0.503958         4  0.003241  0.514335         4   \n",
       "2007-09-01 01:00:00  0.475884         4  0.003241  0.537087         4   \n",
       "2007-09-01 02:00:00  0.433771         4  0.003241  0.525711         4   \n",
       "2007-09-01 03:00:00  0.335510         4  0.003241  0.537087         4   \n",
       "2007-09-01 04:00:00  0.265323         4  0.003241  0.480207         4   \n",
       "\n",
       "                       b_rain    c_temp  c_status    c_rain  \n",
       "time                                                         \n",
       "2007-09-01 00:00:00  0.013067  0.366646         4  0.030873  \n",
       "2007-09-01 01:00:00  0.013067  0.392585         4  0.036785  \n",
       "2007-09-01 02:00:00  0.013067  0.379615         4  0.030873  \n",
       "2007-09-01 03:00:00  0.013067  0.379615         4  0.030873  \n",
       "2007-09-01 04:00:00  0.045353  0.172104         5  0.030873  "
      ]
     },
     "execution_count": 118,
     "metadata": {},
     "output_type": "execute_result"
    }
   ],
   "source": [
    "merged_sation_a_b = pd.merge(left=station_a, right=station_b, left_on='time', right_on='time')\n",
    "merged_station_a_b_c = pd.merge(left=merged_sation_a_b, right=station_c, left_on='time', right_on='time')"
   ]
  },
  {
   "cell_type": "code",
   "execution_count": 119,
   "metadata": {},
   "outputs": [
    {
     "data": {
      "text/plain": [
       "array([0.42086271, 0.1349524 , 0.11123241, 0.11105265, 0.11085373,\n",
       "       0.07513903])"
      ]
     },
     "execution_count": 119,
     "metadata": {},
     "output_type": "execute_result"
    }
   ],
   "source": [
    "# Standarize Data\n",
    "X_stion_a_b_c = merged_station_a_b_c.values # getting all values as a matrix of dataframe \n",
    "X_std_abc = sc.fit_transform(X_stion_a_b_c) # standardizing the data\n",
    "\n",
    "# Conduct PCA on station A\n",
    "pca_abc = PCA(n_components = 0.95)\n",
    "X_pca_c = pca_abc.fit(X_std_abc)\n",
    "pca_abc.explained_variance_ratio_"
   ]
  },
  {
   "cell_type": "code",
   "execution_count": 124,
   "metadata": {},
   "outputs": [
    {
     "data": {
      "text/html": [
       "<div>\n",
       "<style scoped>\n",
       "    .dataframe tbody tr th:only-of-type {\n",
       "        vertical-align: middle;\n",
       "    }\n",
       "\n",
       "    .dataframe tbody tr th {\n",
       "        vertical-align: top;\n",
       "    }\n",
       "\n",
       "    .dataframe thead th {\n",
       "        text-align: right;\n",
       "    }\n",
       "</style>\n",
       "<table border=\"1\" class=\"dataframe\">\n",
       "  <thead>\n",
       "    <tr style=\"text-align: right;\">\n",
       "      <th></th>\n",
       "      <th>a_temp</th>\n",
       "      <th>a_status</th>\n",
       "      <th>a_rain</th>\n",
       "      <th>b_temp</th>\n",
       "      <th>b_status</th>\n",
       "      <th>b_rain</th>\n",
       "      <th>c_temp</th>\n",
       "      <th>c_status</th>\n",
       "      <th>c_rain</th>\n",
       "    </tr>\n",
       "  </thead>\n",
       "  <tbody>\n",
       "    <tr>\n",
       "      <th>pc1</th>\n",
       "      <td>0.455662</td>\n",
       "      <td>-0.378875</td>\n",
       "      <td>-0.002621</td>\n",
       "      <td>0.441757</td>\n",
       "      <td>-0.317146</td>\n",
       "      <td>0.002311</td>\n",
       "      <td>0.454437</td>\n",
       "      <td>-0.382768</td>\n",
       "      <td>-0.007662</td>\n",
       "    </tr>\n",
       "    <tr>\n",
       "      <th>pc2</th>\n",
       "      <td>-0.371189</td>\n",
       "      <td>-0.527536</td>\n",
       "      <td>-0.028266</td>\n",
       "      <td>-0.315556</td>\n",
       "      <td>-0.262557</td>\n",
       "      <td>-0.089238</td>\n",
       "      <td>-0.372033</td>\n",
       "      <td>-0.510174</td>\n",
       "      <td>0.089242</td>\n",
       "    </tr>\n",
       "    <tr>\n",
       "      <th>pc3</th>\n",
       "      <td>-0.009631</td>\n",
       "      <td>-0.037380</td>\n",
       "      <td>-0.815205</td>\n",
       "      <td>-0.029469</td>\n",
       "      <td>0.041990</td>\n",
       "      <td>0.520401</td>\n",
       "      <td>-0.008520</td>\n",
       "      <td>-0.039804</td>\n",
       "      <td>-0.242580</td>\n",
       "    </tr>\n",
       "    <tr>\n",
       "      <th>pc4</th>\n",
       "      <td>-0.002973</td>\n",
       "      <td>-0.011778</td>\n",
       "      <td>-0.159077</td>\n",
       "      <td>-0.010945</td>\n",
       "      <td>0.004807</td>\n",
       "      <td>-0.612067</td>\n",
       "      <td>-0.002796</td>\n",
       "      <td>0.001082</td>\n",
       "      <td>-0.774448</td>\n",
       "    </tr>\n",
       "    <tr>\n",
       "      <th>pc5</th>\n",
       "      <td>0.038960</td>\n",
       "      <td>0.074365</td>\n",
       "      <td>-0.555657</td>\n",
       "      <td>0.051697</td>\n",
       "      <td>-0.010875</td>\n",
       "      <td>-0.586088</td>\n",
       "      <td>0.037624</td>\n",
       "      <td>0.074866</td>\n",
       "      <td>0.575227</td>\n",
       "    </tr>\n",
       "    <tr>\n",
       "      <th>pc6</th>\n",
       "      <td>0.144854</td>\n",
       "      <td>-0.261942</td>\n",
       "      <td>0.023888</td>\n",
       "      <td>-0.149709</td>\n",
       "      <td>0.880082</td>\n",
       "      <td>-0.055146</td>\n",
       "      <td>0.153258</td>\n",
       "      <td>-0.289779</td>\n",
       "      <td>0.048724</td>\n",
       "    </tr>\n",
       "  </tbody>\n",
       "</table>\n",
       "</div>"
      ],
      "text/plain": [
       "       a_temp  a_status    a_rain    b_temp  b_status    b_rain    c_temp  \\\n",
       "pc1  0.455662 -0.378875 -0.002621  0.441757 -0.317146  0.002311  0.454437   \n",
       "pc2 -0.371189 -0.527536 -0.028266 -0.315556 -0.262557 -0.089238 -0.372033   \n",
       "pc3 -0.009631 -0.037380 -0.815205 -0.029469  0.041990  0.520401 -0.008520   \n",
       "pc4 -0.002973 -0.011778 -0.159077 -0.010945  0.004807 -0.612067 -0.002796   \n",
       "pc5  0.038960  0.074365 -0.555657  0.051697 -0.010875 -0.586088  0.037624   \n",
       "pc6  0.144854 -0.261942  0.023888 -0.149709  0.880082 -0.055146  0.153258   \n",
       "\n",
       "     c_status    c_rain  \n",
       "pc1 -0.382768 -0.007662  \n",
       "pc2 -0.510174  0.089242  \n",
       "pc3 -0.039804 -0.242580  \n",
       "pc4  0.001082 -0.774448  \n",
       "pc5  0.074866  0.575227  \n",
       "pc6 -0.289779  0.048724  "
      ]
     },
     "execution_count": 124,
     "metadata": {},
     "output_type": "execute_result"
    }
   ],
   "source": [
    "pd.DataFrame(pca_abc.components_, columns = merged_station_a_b_c.columns, index = [\"pc1\",\"pc2\",\"pc3\",\"pc4\",\"pc5\",\"pc6\"])"
   ]
  },
  {
   "cell_type": "code",
   "execution_count": 122,
   "metadata": {},
   "outputs": [
    {
     "data": {
      "text/plain": [
       "['a_temp', 'a_status', 'a_rain', 'c_rain', 'b_rain', 'b_status']"
      ]
     },
     "execution_count": 122,
     "metadata": {},
     "output_type": "execute_result"
    }
   ],
   "source": [
    "## finding the most important features set\n",
    "\n",
    "n_pcs= pca_abc.n_components_ # get number of component\n",
    "# get the index of the most important feature on EACH component\n",
    "most_important = [np.abs(pca_abc.components_[i]).argmax() for i in range(n_pcs)]\n",
    "initial_feature_names = merged_station_a_b_c.columns\n",
    "# get the most important feature names\n",
    "most_important_names = [initial_feature_names[most_important[i]] for i in range(n_pcs)]\n",
    "most_important_names"
   ]
  },
  {
   "cell_type": "markdown",
   "metadata": {},
   "source": [
    "**Discussion:**\n",
    "\n",
    "1. pc1: a_temp, b_temp and c_temp are prominent\n",
    "2. pc2: no prominent feature\n",
    "3. pc3: b_rain\n",
    "4: pc4: -\n",
    "5. pc5: c_rain\n",
    "6: pc6: a_rain"
   ]
  },
  {
   "cell_type": "markdown",
   "metadata": {},
   "source": [
    "# Inconsistency Rate"
   ]
  },
  {
   "cell_type": "markdown",
   "metadata": {},
   "source": [
    "### Reduced to ordinal values"
   ]
  },
  {
   "cell_type": "code",
   "execution_count": 123,
   "metadata": {},
   "outputs": [
    {
     "data": {
      "text/html": [
       "<div>\n",
       "<style scoped>\n",
       "    .dataframe tbody tr th:only-of-type {\n",
       "        vertical-align: middle;\n",
       "    }\n",
       "\n",
       "    .dataframe tbody tr th {\n",
       "        vertical-align: top;\n",
       "    }\n",
       "\n",
       "    .dataframe thead th {\n",
       "        text-align: right;\n",
       "    }\n",
       "</style>\n",
       "<table border=\"1\" class=\"dataframe\">\n",
       "  <thead>\n",
       "    <tr style=\"text-align: right;\">\n",
       "      <th></th>\n",
       "      <th>a_status</th>\n",
       "      <th>b_status</th>\n",
       "      <th>c_status</th>\n",
       "    </tr>\n",
       "    <tr>\n",
       "      <th>time</th>\n",
       "      <th></th>\n",
       "      <th></th>\n",
       "      <th></th>\n",
       "    </tr>\n",
       "  </thead>\n",
       "  <tbody>\n",
       "    <tr>\n",
       "      <th>2007-09-01 00:00:00</th>\n",
       "      <td>4</td>\n",
       "      <td>4</td>\n",
       "      <td>4</td>\n",
       "    </tr>\n",
       "    <tr>\n",
       "      <th>2007-09-01 01:00:00</th>\n",
       "      <td>4</td>\n",
       "      <td>4</td>\n",
       "      <td>4</td>\n",
       "    </tr>\n",
       "    <tr>\n",
       "      <th>2007-09-01 02:00:00</th>\n",
       "      <td>4</td>\n",
       "      <td>4</td>\n",
       "      <td>4</td>\n",
       "    </tr>\n",
       "    <tr>\n",
       "      <th>2007-09-01 03:00:00</th>\n",
       "      <td>4</td>\n",
       "      <td>4</td>\n",
       "      <td>4</td>\n",
       "    </tr>\n",
       "    <tr>\n",
       "      <th>2007-09-01 04:00:00</th>\n",
       "      <td>4</td>\n",
       "      <td>4</td>\n",
       "      <td>5</td>\n",
       "    </tr>\n",
       "    <tr>\n",
       "      <th>...</th>\n",
       "      <td>...</td>\n",
       "      <td>...</td>\n",
       "      <td>...</td>\n",
       "    </tr>\n",
       "    <tr>\n",
       "      <th>2017-12-31 19:00:00</th>\n",
       "      <td>5</td>\n",
       "      <td>5</td>\n",
       "      <td>5</td>\n",
       "    </tr>\n",
       "    <tr>\n",
       "      <th>2017-12-31 20:00:00</th>\n",
       "      <td>5</td>\n",
       "      <td>5</td>\n",
       "      <td>4</td>\n",
       "    </tr>\n",
       "    <tr>\n",
       "      <th>2017-12-31 21:00:00</th>\n",
       "      <td>5</td>\n",
       "      <td>4</td>\n",
       "      <td>5</td>\n",
       "    </tr>\n",
       "    <tr>\n",
       "      <th>2017-12-31 22:00:00</th>\n",
       "      <td>5</td>\n",
       "      <td>4</td>\n",
       "      <td>4</td>\n",
       "    </tr>\n",
       "    <tr>\n",
       "      <th>2017-12-31 23:00:00</th>\n",
       "      <td>5</td>\n",
       "      <td>4</td>\n",
       "      <td>5</td>\n",
       "    </tr>\n",
       "  </tbody>\n",
       "</table>\n",
       "<p>89664 rows × 3 columns</p>\n",
       "</div>"
      ],
      "text/plain": [
       "                     a_status  b_status  c_status\n",
       "time                                             \n",
       "2007-09-01 00:00:00         4         4         4\n",
       "2007-09-01 01:00:00         4         4         4\n",
       "2007-09-01 02:00:00         4         4         4\n",
       "2007-09-01 03:00:00         4         4         4\n",
       "2007-09-01 04:00:00         4         4         5\n",
       "...                       ...       ...       ...\n",
       "2017-12-31 19:00:00         5         5         5\n",
       "2017-12-31 20:00:00         5         5         4\n",
       "2017-12-31 21:00:00         5         4         5\n",
       "2017-12-31 22:00:00         5         4         4\n",
       "2017-12-31 23:00:00         5         4         5\n",
       "\n",
       "[89664 rows x 3 columns]"
      ]
     },
     "execution_count": 123,
     "metadata": {},
     "output_type": "execute_result"
    }
   ],
   "source": [
    "merged_station_a_b_c.drop(['a_temp', 'a_rain','b_temp', 'b_rain','c_temp', 'c_rain'], axis = 1) "
   ]
  },
  {
   "cell_type": "code",
   "execution_count": null,
   "metadata": {},
   "outputs": [],
   "source": []
  }
 ],
 "metadata": {
  "kernelspec": {
   "display_name": "Python 3",
   "language": "python",
   "name": "python3"
  },
  "language_info": {
   "codemirror_mode": {
    "name": "ipython",
    "version": 3
   },
   "file_extension": ".py",
   "mimetype": "text/x-python",
   "name": "python",
   "nbconvert_exporter": "python",
   "pygments_lexer": "ipython3",
   "version": "3.8.5"
  }
 },
 "nbformat": 4,
 "nbformat_minor": 4
}
