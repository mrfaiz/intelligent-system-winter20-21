{
 "cells": [
  {
   "cell_type": "code",
   "execution_count": null,
   "metadata": {
    "id": "95FIbThRETLx"
   },
   "outputs": [],
   "source": []
  },
  {
   "cell_type": "markdown",
   "metadata": {
    "id": "zZT2AfS-HD37"
   },
   "source": [
    "## Feature Selection Assigment\n",
    "\n",
    "\n",
    "---\n",
    "\n",
    "The focus of this task is to work with the preprocessed data set in the previous **Preprocessing assigment**.These topics are addressed in this notebook.\n",
    "\n",
    "\n",
    "*   **Part 1**: PCA on the preprocessed data\n",
    "*  **Part 2**: Inconsistency Rate on preprocessed data\n"
   ]
  },
  {
   "cell_type": "markdown",
   "metadata": {
    "id": "C1urqjXwJyB9"
   },
   "source": [
    "Before we begin we must address some issues that is present the in the preprocessed data and resolve them. The preprocessed data has a lot of interpolated datas which will actually create a problem during the feature selection as well as in the later parts. So we will filter out the datas by the range of the datas in the main station.\n",
    "\n",
    "time series range for station a: 2007-09-01 00:00:00 to 2017-12-31 23:00:00\n",
    "\n",
    "time series range for station b: 2000-01-01 00:00:00 to 2017-12-31 23:00:00\n",
    "\n",
    "time series range for station c: 2003-06-26 15:00:00 to 2017-12-31 23:00:00\n",
    "\n",
    "time series range for station main: 2014-01-01 01:00:00 to 2017-12-31 23:00:00\n",
    "\n",
    "We will take the date range **2014-01-01 01:00:00 to 2017-12-31 23:00:00** so that we don't have to deal with the interpolated datas."
   ]
  },
  {
   "cell_type": "code",
   "execution_count": 162,
   "metadata": {
    "id": "GnN446Y4JxD-"
   },
   "outputs": [],
   "source": [
    "import pandas as pd\n"
   ]
  },
  {
   "cell_type": "code",
   "execution_count": 163,
   "metadata": {
    "colab": {
     "base_uri": "https://localhost:8080/",
     "height": 226
    },
    "id": "ZRm8AFtaODSw",
    "outputId": "50360460-d60d-4306-e1d9-369b64b3ef35"
   },
   "outputs": [
    {
     "data": {
      "text/html": [
       "<div>\n",
       "<style scoped>\n",
       "    .dataframe tbody tr th:only-of-type {\n",
       "        vertical-align: middle;\n",
       "    }\n",
       "\n",
       "    .dataframe tbody tr th {\n",
       "        vertical-align: top;\n",
       "    }\n",
       "\n",
       "    .dataframe thead th {\n",
       "        text-align: right;\n",
       "    }\n",
       "</style>\n",
       "<table border=\"1\" class=\"dataframe\">\n",
       "  <thead>\n",
       "    <tr style=\"text-align: right;\">\n",
       "      <th></th>\n",
       "      <th>temp_c_a</th>\n",
       "      <th>status_a</th>\n",
       "      <th>rain_mm_a</th>\n",
       "      <th>temp_c_b</th>\n",
       "      <th>status_b</th>\n",
       "      <th>rain_mm_b</th>\n",
       "      <th>temp_c_c</th>\n",
       "      <th>status_c</th>\n",
       "      <th>rain_mm_c</th>\n",
       "      <th>level_cm</th>\n",
       "      <th>flow_m2_s</th>\n",
       "    </tr>\n",
       "    <tr>\n",
       "      <th>time</th>\n",
       "      <th></th>\n",
       "      <th></th>\n",
       "      <th></th>\n",
       "      <th></th>\n",
       "      <th></th>\n",
       "      <th></th>\n",
       "      <th></th>\n",
       "      <th></th>\n",
       "      <th></th>\n",
       "      <th></th>\n",
       "      <th></th>\n",
       "    </tr>\n",
       "  </thead>\n",
       "  <tbody>\n",
       "    <tr>\n",
       "      <th>2000-01-01 00:00:00</th>\n",
       "      <td>0.360573</td>\n",
       "      <td>4</td>\n",
       "      <td>-0.144319</td>\n",
       "      <td>-1.073449</td>\n",
       "      <td>4</td>\n",
       "      <td>-0.269803</td>\n",
       "      <td>1.271075</td>\n",
       "      <td>4</td>\n",
       "      <td>-0.144319</td>\n",
       "      <td>0.049463</td>\n",
       "      <td>0.089526</td>\n",
       "    </tr>\n",
       "    <tr>\n",
       "      <th>2000-01-01 01:00:00</th>\n",
       "      <td>0.360573</td>\n",
       "      <td>4</td>\n",
       "      <td>-0.144319</td>\n",
       "      <td>-1.073449</td>\n",
       "      <td>4</td>\n",
       "      <td>-0.125129</td>\n",
       "      <td>1.271075</td>\n",
       "      <td>4</td>\n",
       "      <td>-0.144319</td>\n",
       "      <td>0.049463</td>\n",
       "      <td>0.089526</td>\n",
       "    </tr>\n",
       "    <tr>\n",
       "      <th>2000-01-01 02:00:00</th>\n",
       "      <td>0.360573</td>\n",
       "      <td>4</td>\n",
       "      <td>-0.144319</td>\n",
       "      <td>-1.062132</td>\n",
       "      <td>4</td>\n",
       "      <td>0.019546</td>\n",
       "      <td>1.271075</td>\n",
       "      <td>4</td>\n",
       "      <td>-0.144319</td>\n",
       "      <td>0.049463</td>\n",
       "      <td>0.089526</td>\n",
       "    </tr>\n",
       "    <tr>\n",
       "      <th>2000-01-01 03:00:00</th>\n",
       "      <td>0.360573</td>\n",
       "      <td>4</td>\n",
       "      <td>-0.144319</td>\n",
       "      <td>-1.062132</td>\n",
       "      <td>4</td>\n",
       "      <td>-0.125129</td>\n",
       "      <td>1.271075</td>\n",
       "      <td>4</td>\n",
       "      <td>-0.144319</td>\n",
       "      <td>0.049463</td>\n",
       "      <td>0.089526</td>\n",
       "    </tr>\n",
       "    <tr>\n",
       "      <th>2000-01-01 04:00:00</th>\n",
       "      <td>0.360573</td>\n",
       "      <td>4</td>\n",
       "      <td>-0.144319</td>\n",
       "      <td>-1.028178</td>\n",
       "      <td>4</td>\n",
       "      <td>-0.269803</td>\n",
       "      <td>1.271075</td>\n",
       "      <td>4</td>\n",
       "      <td>-0.144319</td>\n",
       "      <td>0.049463</td>\n",
       "      <td>0.089526</td>\n",
       "    </tr>\n",
       "  </tbody>\n",
       "</table>\n",
       "</div>"
      ],
      "text/plain": [
       "                     temp_c_a  status_a  rain_mm_a  temp_c_b  status_b  \\\n",
       "time                                                                     \n",
       "2000-01-01 00:00:00  0.360573         4  -0.144319 -1.073449         4   \n",
       "2000-01-01 01:00:00  0.360573         4  -0.144319 -1.073449         4   \n",
       "2000-01-01 02:00:00  0.360573         4  -0.144319 -1.062132         4   \n",
       "2000-01-01 03:00:00  0.360573         4  -0.144319 -1.062132         4   \n",
       "2000-01-01 04:00:00  0.360573         4  -0.144319 -1.028178         4   \n",
       "\n",
       "                     rain_mm_b  temp_c_c  status_c  rain_mm_c  level_cm  \\\n",
       "time                                                                      \n",
       "2000-01-01 00:00:00  -0.269803  1.271075         4  -0.144319  0.049463   \n",
       "2000-01-01 01:00:00  -0.125129  1.271075         4  -0.144319  0.049463   \n",
       "2000-01-01 02:00:00   0.019546  1.271075         4  -0.144319  0.049463   \n",
       "2000-01-01 03:00:00  -0.125129  1.271075         4  -0.144319  0.049463   \n",
       "2000-01-01 04:00:00  -0.269803  1.271075         4  -0.144319  0.049463   \n",
       "\n",
       "                     flow_m2_s  \n",
       "time                            \n",
       "2000-01-01 00:00:00   0.089526  \n",
       "2000-01-01 01:00:00   0.089526  \n",
       "2000-01-01 02:00:00   0.089526  \n",
       "2000-01-01 03:00:00   0.089526  \n",
       "2000-01-01 04:00:00   0.089526  "
      ]
     },
     "execution_count": 163,
     "metadata": {},
     "output_type": "execute_result"
    }
   ],
   "source": [
    "df_prep = pd.read_csv('processed_data.csv',parse_dates=['time'],index_col='time')\n",
    "df_prep.head()"
   ]
  },
  {
   "cell_type": "code",
   "execution_count": 164,
   "metadata": {
    "colab": {
     "base_uri": "https://localhost:8080/",
     "height": 226
    },
    "id": "okG2Ck2uOPBA",
    "outputId": "e8d6ffa4-d0cf-4a53-a97d-938a73da3bca"
   },
   "outputs": [
    {
     "data": {
      "text/html": [
       "<div>\n",
       "<style scoped>\n",
       "    .dataframe tbody tr th:only-of-type {\n",
       "        vertical-align: middle;\n",
       "    }\n",
       "\n",
       "    .dataframe tbody tr th {\n",
       "        vertical-align: top;\n",
       "    }\n",
       "\n",
       "    .dataframe thead th {\n",
       "        text-align: right;\n",
       "    }\n",
       "</style>\n",
       "<table border=\"1\" class=\"dataframe\">\n",
       "  <thead>\n",
       "    <tr style=\"text-align: right;\">\n",
       "      <th></th>\n",
       "      <th>temp_c_a</th>\n",
       "      <th>status_a</th>\n",
       "      <th>rain_mm_a</th>\n",
       "      <th>temp_c_b</th>\n",
       "      <th>status_b</th>\n",
       "      <th>rain_mm_b</th>\n",
       "      <th>temp_c_c</th>\n",
       "      <th>status_c</th>\n",
       "      <th>rain_mm_c</th>\n",
       "      <th>level_cm</th>\n",
       "      <th>flow_m2_s</th>\n",
       "    </tr>\n",
       "    <tr>\n",
       "      <th>time</th>\n",
       "      <th></th>\n",
       "      <th></th>\n",
       "      <th></th>\n",
       "      <th></th>\n",
       "      <th></th>\n",
       "      <th></th>\n",
       "      <th></th>\n",
       "      <th></th>\n",
       "      <th></th>\n",
       "      <th></th>\n",
       "      <th></th>\n",
       "    </tr>\n",
       "  </thead>\n",
       "  <tbody>\n",
       "    <tr>\n",
       "      <th>2014-01-01 00:00:00</th>\n",
       "      <td>-1.478435</td>\n",
       "      <td>3</td>\n",
       "      <td>-0.144319</td>\n",
       "      <td>-1.299806</td>\n",
       "      <td>4</td>\n",
       "      <td>-0.269803</td>\n",
       "      <td>-1.090793</td>\n",
       "      <td>3</td>\n",
       "      <td>-0.144319</td>\n",
       "      <td>0.049463</td>\n",
       "      <td>0.089526</td>\n",
       "    </tr>\n",
       "    <tr>\n",
       "      <th>2014-01-01 01:00:00</th>\n",
       "      <td>-1.425892</td>\n",
       "      <td>3</td>\n",
       "      <td>-0.144319</td>\n",
       "      <td>-1.446937</td>\n",
       "      <td>4</td>\n",
       "      <td>-0.269803</td>\n",
       "      <td>-1.115017</td>\n",
       "      <td>3</td>\n",
       "      <td>-0.144319</td>\n",
       "      <td>0.049463</td>\n",
       "      <td>0.089526</td>\n",
       "    </tr>\n",
       "    <tr>\n",
       "      <th>2014-01-01 02:00:00</th>\n",
       "      <td>-1.460921</td>\n",
       "      <td>3</td>\n",
       "      <td>-0.144319</td>\n",
       "      <td>-1.028178</td>\n",
       "      <td>3</td>\n",
       "      <td>-0.269803</td>\n",
       "      <td>-1.151353</td>\n",
       "      <td>3</td>\n",
       "      <td>-0.144319</td>\n",
       "      <td>0.049463</td>\n",
       "      <td>0.089526</td>\n",
       "    </tr>\n",
       "    <tr>\n",
       "      <th>2014-01-01 03:00:00</th>\n",
       "      <td>-1.548493</td>\n",
       "      <td>3</td>\n",
       "      <td>-0.144319</td>\n",
       "      <td>-0.892364</td>\n",
       "      <td>3</td>\n",
       "      <td>-0.269803</td>\n",
       "      <td>-1.224026</td>\n",
       "      <td>3</td>\n",
       "      <td>-0.144319</td>\n",
       "      <td>0.049463</td>\n",
       "      <td>0.089526</td>\n",
       "    </tr>\n",
       "    <tr>\n",
       "      <th>2014-01-01 04:00:00</th>\n",
       "      <td>-1.530978</td>\n",
       "      <td>3</td>\n",
       "      <td>-0.144319</td>\n",
       "      <td>-0.982907</td>\n",
       "      <td>3</td>\n",
       "      <td>-0.269803</td>\n",
       "      <td>-1.199802</td>\n",
       "      <td>3</td>\n",
       "      <td>-0.144319</td>\n",
       "      <td>0.049463</td>\n",
       "      <td>0.089526</td>\n",
       "    </tr>\n",
       "  </tbody>\n",
       "</table>\n",
       "</div>"
      ],
      "text/plain": [
       "                     temp_c_a  status_a  rain_mm_a  temp_c_b  status_b  \\\n",
       "time                                                                     \n",
       "2014-01-01 00:00:00 -1.478435         3  -0.144319 -1.299806         4   \n",
       "2014-01-01 01:00:00 -1.425892         3  -0.144319 -1.446937         4   \n",
       "2014-01-01 02:00:00 -1.460921         3  -0.144319 -1.028178         3   \n",
       "2014-01-01 03:00:00 -1.548493         3  -0.144319 -0.892364         3   \n",
       "2014-01-01 04:00:00 -1.530978         3  -0.144319 -0.982907         3   \n",
       "\n",
       "                     rain_mm_b  temp_c_c  status_c  rain_mm_c  level_cm  \\\n",
       "time                                                                      \n",
       "2014-01-01 00:00:00  -0.269803 -1.090793         3  -0.144319  0.049463   \n",
       "2014-01-01 01:00:00  -0.269803 -1.115017         3  -0.144319  0.049463   \n",
       "2014-01-01 02:00:00  -0.269803 -1.151353         3  -0.144319  0.049463   \n",
       "2014-01-01 03:00:00  -0.269803 -1.224026         3  -0.144319  0.049463   \n",
       "2014-01-01 04:00:00  -0.269803 -1.199802         3  -0.144319  0.049463   \n",
       "\n",
       "                     flow_m2_s  \n",
       "time                            \n",
       "2014-01-01 00:00:00   0.089526  \n",
       "2014-01-01 01:00:00   0.089526  \n",
       "2014-01-01 02:00:00   0.089526  \n",
       "2014-01-01 03:00:00   0.089526  \n",
       "2014-01-01 04:00:00   0.089526  "
      ]
     },
     "execution_count": 164,
     "metadata": {},
     "output_type": "execute_result"
    }
   ],
   "source": [
    "df_prep_filtered = df_prep[(df_prep.index.year >= 2014) & (df_prep.index.year <= 2017)]\n",
    "\n",
    "df_prep_filtered.head()"
   ]
  },
  {
   "cell_type": "markdown",
   "metadata": {
    "id": "nhmNaypRapH4"
   },
   "source": [
    "## PCA\n",
    "\n",
    "We have to conduct the PCA on the water level data. Since we want to predict the water level and the water flow using the model in the future here the `level_cm` and `flow_m2_s` are the dependant variables. we will exclude these columns from our PCA analysis."
   ]
  },
  {
   "cell_type": "code",
   "execution_count": 165,
   "metadata": {
    "colab": {
     "base_uri": "https://localhost:8080/",
     "height": 226
    },
    "id": "NV-viphnRQ8l",
    "outputId": "3da026e6-4fd6-4b31-f715-7eab75edeecc"
   },
   "outputs": [
    {
     "data": {
      "text/html": [
       "<div>\n",
       "<style scoped>\n",
       "    .dataframe tbody tr th:only-of-type {\n",
       "        vertical-align: middle;\n",
       "    }\n",
       "\n",
       "    .dataframe tbody tr th {\n",
       "        vertical-align: top;\n",
       "    }\n",
       "\n",
       "    .dataframe thead th {\n",
       "        text-align: right;\n",
       "    }\n",
       "</style>\n",
       "<table border=\"1\" class=\"dataframe\">\n",
       "  <thead>\n",
       "    <tr style=\"text-align: right;\">\n",
       "      <th></th>\n",
       "      <th>temp_c_a</th>\n",
       "      <th>status_a</th>\n",
       "      <th>rain_mm_a</th>\n",
       "      <th>temp_c_b</th>\n",
       "      <th>status_b</th>\n",
       "      <th>rain_mm_b</th>\n",
       "      <th>temp_c_c</th>\n",
       "      <th>status_c</th>\n",
       "      <th>rain_mm_c</th>\n",
       "    </tr>\n",
       "    <tr>\n",
       "      <th>time</th>\n",
       "      <th></th>\n",
       "      <th></th>\n",
       "      <th></th>\n",
       "      <th></th>\n",
       "      <th></th>\n",
       "      <th></th>\n",
       "      <th></th>\n",
       "      <th></th>\n",
       "      <th></th>\n",
       "    </tr>\n",
       "  </thead>\n",
       "  <tbody>\n",
       "    <tr>\n",
       "      <th>2014-01-01 00:00:00</th>\n",
       "      <td>-1.478435</td>\n",
       "      <td>3</td>\n",
       "      <td>-0.144319</td>\n",
       "      <td>-1.299806</td>\n",
       "      <td>4</td>\n",
       "      <td>-0.269803</td>\n",
       "      <td>-1.090793</td>\n",
       "      <td>3</td>\n",
       "      <td>-0.144319</td>\n",
       "    </tr>\n",
       "    <tr>\n",
       "      <th>2014-01-01 01:00:00</th>\n",
       "      <td>-1.425892</td>\n",
       "      <td>3</td>\n",
       "      <td>-0.144319</td>\n",
       "      <td>-1.446937</td>\n",
       "      <td>4</td>\n",
       "      <td>-0.269803</td>\n",
       "      <td>-1.115017</td>\n",
       "      <td>3</td>\n",
       "      <td>-0.144319</td>\n",
       "    </tr>\n",
       "    <tr>\n",
       "      <th>2014-01-01 02:00:00</th>\n",
       "      <td>-1.460921</td>\n",
       "      <td>3</td>\n",
       "      <td>-0.144319</td>\n",
       "      <td>-1.028178</td>\n",
       "      <td>3</td>\n",
       "      <td>-0.269803</td>\n",
       "      <td>-1.151353</td>\n",
       "      <td>3</td>\n",
       "      <td>-0.144319</td>\n",
       "    </tr>\n",
       "    <tr>\n",
       "      <th>2014-01-01 03:00:00</th>\n",
       "      <td>-1.548493</td>\n",
       "      <td>3</td>\n",
       "      <td>-0.144319</td>\n",
       "      <td>-0.892364</td>\n",
       "      <td>3</td>\n",
       "      <td>-0.269803</td>\n",
       "      <td>-1.224026</td>\n",
       "      <td>3</td>\n",
       "      <td>-0.144319</td>\n",
       "    </tr>\n",
       "    <tr>\n",
       "      <th>2014-01-01 04:00:00</th>\n",
       "      <td>-1.530978</td>\n",
       "      <td>3</td>\n",
       "      <td>-0.144319</td>\n",
       "      <td>-0.982907</td>\n",
       "      <td>3</td>\n",
       "      <td>-0.269803</td>\n",
       "      <td>-1.199802</td>\n",
       "      <td>3</td>\n",
       "      <td>-0.144319</td>\n",
       "    </tr>\n",
       "  </tbody>\n",
       "</table>\n",
       "</div>"
      ],
      "text/plain": [
       "                     temp_c_a  status_a  rain_mm_a  temp_c_b  status_b  \\\n",
       "time                                                                     \n",
       "2014-01-01 00:00:00 -1.478435         3  -0.144319 -1.299806         4   \n",
       "2014-01-01 01:00:00 -1.425892         3  -0.144319 -1.446937         4   \n",
       "2014-01-01 02:00:00 -1.460921         3  -0.144319 -1.028178         3   \n",
       "2014-01-01 03:00:00 -1.548493         3  -0.144319 -0.892364         3   \n",
       "2014-01-01 04:00:00 -1.530978         3  -0.144319 -0.982907         3   \n",
       "\n",
       "                     rain_mm_b  temp_c_c  status_c  rain_mm_c  \n",
       "time                                                           \n",
       "2014-01-01 00:00:00  -0.269803 -1.090793         3  -0.144319  \n",
       "2014-01-01 01:00:00  -0.269803 -1.115017         3  -0.144319  \n",
       "2014-01-01 02:00:00  -0.269803 -1.151353         3  -0.144319  \n",
       "2014-01-01 03:00:00  -0.269803 -1.224026         3  -0.144319  \n",
       "2014-01-01 04:00:00  -0.269803 -1.199802         3  -0.144319  "
      ]
     },
     "execution_count": 165,
     "metadata": {},
     "output_type": "execute_result"
    }
   ],
   "source": [
    "feature_df = df_prep_filtered.copy(deep=True)\n",
    "feature_df.drop(['level_cm','flow_m2_s'], axis=1,inplace=True)\n",
    "feature_df.head()"
   ]
  },
  {
   "cell_type": "markdown",
   "metadata": {
    "id": "zeivd1TESmZ4"
   },
   "source": [
    "Now that we have the filtered data within the desired the date range we will now first apply the PCA on the data."
   ]
  },
  {
   "cell_type": "code",
   "execution_count": 166,
   "metadata": {
    "id": "q8EVqGVXXt9v"
   },
   "outputs": [],
   "source": [
    "from sklearn.decomposition import PCA\n"
   ]
  },
  {
   "cell_type": "code",
   "execution_count": 167,
   "metadata": {
    "colab": {
     "base_uri": "https://localhost:8080/"
    },
    "id": "DpXXO56pYzdV",
    "outputId": "69c5284d-fc5d-4800-bc53-8f8680719539"
   },
   "outputs": [
    {
     "data": {
      "text/plain": [
       "array([[ 1.10643176, -0.88577592, -1.32582795,  0.98343112, -0.7494891 ],\n",
       "       [ 1.14569799, -0.89814812, -1.34415303,  1.00506128, -0.77464971],\n",
       "       [ 0.63006016, -0.77481738, -1.78513886,  0.77970121,  0.01301309],\n",
       "       ...,\n",
       "       [ 1.72597895, -0.43882251,  0.61399677, -1.08964425,  0.31363828],\n",
       "       [ 1.51566038,  0.24214565,  0.21009369, -0.5634909 , -0.06163653],\n",
       "       [ 2.197583  ,  1.7021362 ,  0.2650064 , -0.8069806 ,  0.14059193]])"
      ]
     },
     "execution_count": 167,
     "metadata": {},
     "output_type": "execute_result"
    }
   ],
   "source": [
    "pca = PCA(n_components=5)\n",
    "pc = pca.fit_transform(feature_df)\n",
    "pc"
   ]
  },
  {
   "cell_type": "code",
   "execution_count": 168,
   "metadata": {
    "colab": {
     "base_uri": "https://localhost:8080/"
    },
    "id": "9LKUMi3Z-4rj",
    "outputId": "a2fa469a-4ce6-4745-b3d4-5f530f609375"
   },
   "outputs": [
    {
     "data": {
      "text/plain": [
       "array([0.38471052, 0.28512807, 0.12556059, 0.10235067, 0.0718178 ])"
      ]
     },
     "execution_count": 168,
     "metadata": {},
     "output_type": "execute_result"
    }
   ],
   "source": [
    "pca.explained_variance_ratio_\n"
   ]
  },
  {
   "cell_type": "markdown",
   "metadata": {
    "id": "CC_9iX_xAyFC"
   },
   "source": [
    "### Choice of Dimensionality reduction\n",
    "\n",
    "From the variance ratio we see that the first 5 principle components can explain the 95% information about the feature space and by doing so we are reducing the data by 45%. We are taking 5 features from 9 available ones."
   ]
  },
  {
   "cell_type": "code",
   "execution_count": 169,
   "metadata": {
    "colab": {
     "base_uri": "https://localhost:8080/"
    },
    "id": "f5MN2HPKceXX",
    "outputId": "bc12ae83-1405-4be7-fcca-9203d745d825"
   },
   "outputs": [
    {
     "data": {
      "text/plain": [
       "array([[-0.49399214,  0.4044924 ,  0.11526204, -0.38761832,  0.38290993,\n",
       "         0.02548859, -0.33814134,  0.39233886,  0.11526204],\n",
       "       [ 0.14953414,  0.04865534,  0.68618173,  0.11981471, -0.08229623,\n",
       "         0.01734898,  0.10735765,  0.02503154,  0.68618173],\n",
       "       [ 0.4410909 ,  0.28421595, -0.08252267,  0.2319699 ,  0.51161755,\n",
       "         0.47850785,  0.3042927 ,  0.27187085, -0.08252267],\n",
       "       [-0.2138098 , -0.40075035,  0.07404741, -0.19949932,  0.15457504,\n",
       "         0.72257706, -0.1449682 , -0.41939441,  0.07404741],\n",
       "       [-0.12096945,  0.29726692, -0.05797542,  0.14246803, -0.72053007,\n",
       "         0.49662862, -0.08904437,  0.3102368 , -0.05797542]])"
      ]
     },
     "execution_count": 169,
     "metadata": {},
     "output_type": "execute_result"
    }
   ],
   "source": [
    "pca.components_"
   ]
  },
  {
   "cell_type": "code",
   "execution_count": 170,
   "metadata": {
    "colab": {
     "base_uri": "https://localhost:8080/",
     "height": 196
    },
    "id": "UD9tWo1VcliT",
    "outputId": "1469dacc-90c2-48cb-e825-2f1ba582983e"
   },
   "outputs": [
    {
     "data": {
      "text/html": [
       "<div>\n",
       "<style scoped>\n",
       "    .dataframe tbody tr th:only-of-type {\n",
       "        vertical-align: middle;\n",
       "    }\n",
       "\n",
       "    .dataframe tbody tr th {\n",
       "        vertical-align: top;\n",
       "    }\n",
       "\n",
       "    .dataframe thead th {\n",
       "        text-align: right;\n",
       "    }\n",
       "</style>\n",
       "<table border=\"1\" class=\"dataframe\">\n",
       "  <thead>\n",
       "    <tr style=\"text-align: right;\">\n",
       "      <th></th>\n",
       "      <th>temp_c_a</th>\n",
       "      <th>status_a</th>\n",
       "      <th>rain_mm_a</th>\n",
       "      <th>temp_c_b</th>\n",
       "      <th>status_b</th>\n",
       "      <th>rain_mm_b</th>\n",
       "      <th>temp_c_c</th>\n",
       "      <th>status_c</th>\n",
       "      <th>rain_mm_c</th>\n",
       "    </tr>\n",
       "  </thead>\n",
       "  <tbody>\n",
       "    <tr>\n",
       "      <th>PC-1</th>\n",
       "      <td>-0.493992</td>\n",
       "      <td>0.404492</td>\n",
       "      <td>0.115262</td>\n",
       "      <td>-0.387618</td>\n",
       "      <td>0.382910</td>\n",
       "      <td>0.025489</td>\n",
       "      <td>-0.338141</td>\n",
       "      <td>0.392339</td>\n",
       "      <td>0.115262</td>\n",
       "    </tr>\n",
       "    <tr>\n",
       "      <th>PC-2</th>\n",
       "      <td>0.149534</td>\n",
       "      <td>0.048655</td>\n",
       "      <td>0.686182</td>\n",
       "      <td>0.119815</td>\n",
       "      <td>-0.082296</td>\n",
       "      <td>0.017349</td>\n",
       "      <td>0.107358</td>\n",
       "      <td>0.025032</td>\n",
       "      <td>0.686182</td>\n",
       "    </tr>\n",
       "    <tr>\n",
       "      <th>PC-3</th>\n",
       "      <td>0.441091</td>\n",
       "      <td>0.284216</td>\n",
       "      <td>-0.082523</td>\n",
       "      <td>0.231970</td>\n",
       "      <td>0.511618</td>\n",
       "      <td>0.478508</td>\n",
       "      <td>0.304293</td>\n",
       "      <td>0.271871</td>\n",
       "      <td>-0.082523</td>\n",
       "    </tr>\n",
       "    <tr>\n",
       "      <th>PC-4</th>\n",
       "      <td>-0.213810</td>\n",
       "      <td>-0.400750</td>\n",
       "      <td>0.074047</td>\n",
       "      <td>-0.199499</td>\n",
       "      <td>0.154575</td>\n",
       "      <td>0.722577</td>\n",
       "      <td>-0.144968</td>\n",
       "      <td>-0.419394</td>\n",
       "      <td>0.074047</td>\n",
       "    </tr>\n",
       "    <tr>\n",
       "      <th>PC-5</th>\n",
       "      <td>-0.120969</td>\n",
       "      <td>0.297267</td>\n",
       "      <td>-0.057975</td>\n",
       "      <td>0.142468</td>\n",
       "      <td>-0.720530</td>\n",
       "      <td>0.496629</td>\n",
       "      <td>-0.089044</td>\n",
       "      <td>0.310237</td>\n",
       "      <td>-0.057975</td>\n",
       "    </tr>\n",
       "  </tbody>\n",
       "</table>\n",
       "</div>"
      ],
      "text/plain": [
       "      temp_c_a  status_a  rain_mm_a  temp_c_b  status_b  rain_mm_b  temp_c_c  \\\n",
       "PC-1 -0.493992  0.404492   0.115262 -0.387618  0.382910   0.025489 -0.338141   \n",
       "PC-2  0.149534  0.048655   0.686182  0.119815 -0.082296   0.017349  0.107358   \n",
       "PC-3  0.441091  0.284216  -0.082523  0.231970  0.511618   0.478508  0.304293   \n",
       "PC-4 -0.213810 -0.400750   0.074047 -0.199499  0.154575   0.722577 -0.144968   \n",
       "PC-5 -0.120969  0.297267  -0.057975  0.142468 -0.720530   0.496629 -0.089044   \n",
       "\n",
       "      status_c  rain_mm_c  \n",
       "PC-1  0.392339   0.115262  \n",
       "PC-2  0.025032   0.686182  \n",
       "PC-3  0.271871  -0.082523  \n",
       "PC-4 -0.419394   0.074047  \n",
       "PC-5  0.310237  -0.057975  "
      ]
     },
     "execution_count": 170,
     "metadata": {},
     "output_type": "execute_result"
    }
   ],
   "source": [
    "components = pd.DataFrame(pca.components_,columns=feature_df.columns,index = ['PC-1','PC-2','PC-3','PC-4','PC-5'])\n",
    "components"
   ]
  },
  {
   "cell_type": "markdown",
   "metadata": {},
   "source": [
    "Described in the above table are the impacts(covariances) of the features we obtained from the station A,B and C in the new freature space consisting of the 5 principal components.\n",
    "\n",
    "For the PC-1 we the temp,status of station A,B and C are the most impactful whereas the rains are not.\n",
    "\n",
    "For the PC-2 the rains in mm readings from the station A,B and C are more impactful. \n",
    "\n",
    "For the PC-3 the rain from Station B is impact full. Temprature and Status from all 3 stations in impactful.\n",
    "\n",
    "For the PC-4 only the rain record of station B is impactful, rest is not. \n",
    "\n",
    "For the PC-5 Status from station A and C. Also rain from Station B is impactful.\n"
   ]
  },
  {
   "cell_type": "markdown",
   "metadata": {},
   "source": [
    "## Inconsistancy Rate Analysis\n",
    "\n",
    "The dataset has 3 columns which are actually ordinal. we have encoded them with neumerical values 0,1,2,3,4. these are the status columns for the station A,B and C."
   ]
  },
  {
   "cell_type": "code",
   "execution_count": 171,
   "metadata": {},
   "outputs": [
    {
     "data": {
      "text/html": [
       "<div>\n",
       "<style scoped>\n",
       "    .dataframe tbody tr th:only-of-type {\n",
       "        vertical-align: middle;\n",
       "    }\n",
       "\n",
       "    .dataframe tbody tr th {\n",
       "        vertical-align: top;\n",
       "    }\n",
       "\n",
       "    .dataframe thead th {\n",
       "        text-align: right;\n",
       "    }\n",
       "</style>\n",
       "<table border=\"1\" class=\"dataframe\">\n",
       "  <thead>\n",
       "    <tr style=\"text-align: right;\">\n",
       "      <th></th>\n",
       "      <th>status_a</th>\n",
       "      <th>status_b</th>\n",
       "      <th>status_c</th>\n",
       "    </tr>\n",
       "    <tr>\n",
       "      <th>time</th>\n",
       "      <th></th>\n",
       "      <th></th>\n",
       "      <th></th>\n",
       "    </tr>\n",
       "  </thead>\n",
       "  <tbody>\n",
       "    <tr>\n",
       "      <th>2014-01-01 00:00:00</th>\n",
       "      <td>3</td>\n",
       "      <td>4</td>\n",
       "      <td>3</td>\n",
       "    </tr>\n",
       "    <tr>\n",
       "      <th>2014-01-01 01:00:00</th>\n",
       "      <td>3</td>\n",
       "      <td>4</td>\n",
       "      <td>3</td>\n",
       "    </tr>\n",
       "    <tr>\n",
       "      <th>2014-01-01 02:00:00</th>\n",
       "      <td>3</td>\n",
       "      <td>3</td>\n",
       "      <td>3</td>\n",
       "    </tr>\n",
       "    <tr>\n",
       "      <th>2014-01-01 03:00:00</th>\n",
       "      <td>3</td>\n",
       "      <td>3</td>\n",
       "      <td>3</td>\n",
       "    </tr>\n",
       "    <tr>\n",
       "      <th>2014-01-01 04:00:00</th>\n",
       "      <td>3</td>\n",
       "      <td>3</td>\n",
       "      <td>3</td>\n",
       "    </tr>\n",
       "  </tbody>\n",
       "</table>\n",
       "</div>"
      ],
      "text/plain": [
       "                     status_a  status_b  status_c\n",
       "time                                             \n",
       "2014-01-01 00:00:00         3         4         3\n",
       "2014-01-01 01:00:00         3         4         3\n",
       "2014-01-01 02:00:00         3         3         3\n",
       "2014-01-01 03:00:00         3         3         3\n",
       "2014-01-01 04:00:00         3         3         3"
      ]
     },
     "execution_count": 171,
     "metadata": {},
     "output_type": "execute_result"
    }
   ],
   "source": [
    "df_ordinal = feature_df[['status_a','status_b','status_c']]\n",
    "df_ordinal.head()"
   ]
  },
  {
   "cell_type": "markdown",
   "metadata": {},
   "source": [
    "`df_ordinal` has only the orinal values"
   ]
  },
  {
   "cell_type": "code",
   "execution_count": 172,
   "metadata": {},
   "outputs": [
    {
     "name": "stderr",
     "output_type": "stream",
     "text": [
      "C:\\anaconda\\envs\\nndlenv\\lib\\site-packages\\ipykernel_launcher.py:1: SettingWithCopyWarning: \n",
      "A value is trying to be set on a copy of a slice from a DataFrame.\n",
      "Try using .loc[row_indexer,col_indexer] = value instead\n",
      "\n",
      "See the caveats in the documentation: https://pandas.pydata.org/pandas-docs/stable/user_guide/indexing.html#returning-a-view-versus-a-copy\n",
      "  \"\"\"Entry point for launching an IPython kernel.\n"
     ]
    },
    {
     "data": {
      "text/plain": [
       "array([ 0.,  1.,  2.,  3.,  4., -1., -2.,  5.,  6.,  7.,  8.,  9., 10.])"
      ]
     },
     "execution_count": 172,
     "metadata": {},
     "output_type": "execute_result"
    }
   ],
   "source": [
    "df_ordinal['level_cm']=df_prep_filtered.level_cm.round()\n",
    "df_ordinal['level_cm'].unique()"
   ]
  },
  {
   "cell_type": "code",
   "execution_count": 173,
   "metadata": {},
   "outputs": [
    {
     "name": "stderr",
     "output_type": "stream",
     "text": [
      "C:\\anaconda\\envs\\nndlenv\\lib\\site-packages\\ipykernel_launcher.py:1: SettingWithCopyWarning: \n",
      "A value is trying to be set on a copy of a slice from a DataFrame.\n",
      "Try using .loc[row_indexer,col_indexer] = value instead\n",
      "\n",
      "See the caveats in the documentation: https://pandas.pydata.org/pandas-docs/stable/user_guide/indexing.html#returning-a-view-versus-a-copy\n",
      "  \"\"\"Entry point for launching an IPython kernel.\n"
     ]
    },
    {
     "data": {
      "text/plain": [
       "array([ 0.,  1.,  2.,  3., -1., -2.,  4.,  5.,  6.,  7.,  8.,  9., 10.,\n",
       "       11., 12., 13., 14.])"
      ]
     },
     "execution_count": 173,
     "metadata": {},
     "output_type": "execute_result"
    }
   ],
   "source": [
    "df_ordinal['flow_m2_s'] = df_prep_filtered.flow_m2_s.round()\n",
    "df_ordinal['flow_m2_s'].unique()"
   ]
  },
  {
   "cell_type": "markdown",
   "metadata": {},
   "source": [
    "as we can see from both the level and the flow has negative numbers which is not possible we will map them to zero."
   ]
  },
  {
   "cell_type": "code",
   "execution_count": 174,
   "metadata": {},
   "outputs": [
    {
     "name": "stderr",
     "output_type": "stream",
     "text": [
      "C:\\anaconda\\envs\\nndlenv\\lib\\site-packages\\pandas\\core\\indexing.py:671: SettingWithCopyWarning: \n",
      "A value is trying to be set on a copy of a slice from a DataFrame\n",
      "\n",
      "See the caveats in the documentation: https://pandas.pydata.org/pandas-docs/stable/user_guide/indexing.html#returning-a-view-versus-a-copy\n",
      "  self._setitem_with_indexer(indexer, value)\n",
      "C:\\anaconda\\envs\\nndlenv\\lib\\site-packages\\ipykernel_launcher.py:1: SettingWithCopyWarning: \n",
      "A value is trying to be set on a copy of a slice from a DataFrame\n",
      "\n",
      "See the caveats in the documentation: https://pandas.pydata.org/pandas-docs/stable/user_guide/indexing.html#returning-a-view-versus-a-copy\n",
      "  \"\"\"Entry point for launching an IPython kernel.\n"
     ]
    },
    {
     "data": {
      "text/plain": [
       "array([ 0.,  1.,  2.,  3.,  4.,  5.,  6.,  7.,  8.,  9., 10.])"
      ]
     },
     "execution_count": 174,
     "metadata": {},
     "output_type": "execute_result"
    }
   ],
   "source": [
    "df_ordinal['level_cm'].loc[df_ordinal['level_cm']<0] = 0\n",
    "df_ordinal['level_cm'].unique()"
   ]
  },
  {
   "cell_type": "code",
   "execution_count": 175,
   "metadata": {},
   "outputs": [
    {
     "name": "stderr",
     "output_type": "stream",
     "text": [
      "C:\\anaconda\\envs\\nndlenv\\lib\\site-packages\\ipykernel_launcher.py:1: SettingWithCopyWarning: \n",
      "A value is trying to be set on a copy of a slice from a DataFrame\n",
      "\n",
      "See the caveats in the documentation: https://pandas.pydata.org/pandas-docs/stable/user_guide/indexing.html#returning-a-view-versus-a-copy\n",
      "  \"\"\"Entry point for launching an IPython kernel.\n"
     ]
    },
    {
     "data": {
      "text/plain": [
       "array([ 0.,  1.,  2.,  3.,  4.,  5.,  6.,  7.,  8.,  9., 10., 11., 12.,\n",
       "       13., 14.])"
      ]
     },
     "execution_count": 175,
     "metadata": {},
     "output_type": "execute_result"
    }
   ],
   "source": [
    "df_ordinal['flow_m2_s'].loc[df_ordinal['flow_m2_s']<0] = 0\n",
    "df_ordinal['flow_m2_s'].unique()"
   ]
  },
  {
   "cell_type": "code",
   "execution_count": 176,
   "metadata": {},
   "outputs": [
    {
     "data": {
      "text/html": [
       "<div>\n",
       "<style scoped>\n",
       "    .dataframe tbody tr th:only-of-type {\n",
       "        vertical-align: middle;\n",
       "    }\n",
       "\n",
       "    .dataframe tbody tr th {\n",
       "        vertical-align: top;\n",
       "    }\n",
       "\n",
       "    .dataframe thead th {\n",
       "        text-align: right;\n",
       "    }\n",
       "</style>\n",
       "<table border=\"1\" class=\"dataframe\">\n",
       "  <thead>\n",
       "    <tr style=\"text-align: right;\">\n",
       "      <th></th>\n",
       "      <th>status_a</th>\n",
       "      <th>status_b</th>\n",
       "      <th>status_c</th>\n",
       "      <th>level_cm</th>\n",
       "      <th>flow_m2_s</th>\n",
       "    </tr>\n",
       "    <tr>\n",
       "      <th>time</th>\n",
       "      <th></th>\n",
       "      <th></th>\n",
       "      <th></th>\n",
       "      <th></th>\n",
       "      <th></th>\n",
       "    </tr>\n",
       "  </thead>\n",
       "  <tbody>\n",
       "    <tr>\n",
       "      <th>2014-01-01 00:00:00</th>\n",
       "      <td>3</td>\n",
       "      <td>4</td>\n",
       "      <td>3</td>\n",
       "      <td>0.0</td>\n",
       "      <td>0.0</td>\n",
       "    </tr>\n",
       "    <tr>\n",
       "      <th>2014-01-01 01:00:00</th>\n",
       "      <td>3</td>\n",
       "      <td>4</td>\n",
       "      <td>3</td>\n",
       "      <td>0.0</td>\n",
       "      <td>0.0</td>\n",
       "    </tr>\n",
       "    <tr>\n",
       "      <th>2014-01-01 02:00:00</th>\n",
       "      <td>3</td>\n",
       "      <td>3</td>\n",
       "      <td>3</td>\n",
       "      <td>0.0</td>\n",
       "      <td>0.0</td>\n",
       "    </tr>\n",
       "    <tr>\n",
       "      <th>2014-01-01 03:00:00</th>\n",
       "      <td>3</td>\n",
       "      <td>3</td>\n",
       "      <td>3</td>\n",
       "      <td>0.0</td>\n",
       "      <td>0.0</td>\n",
       "    </tr>\n",
       "    <tr>\n",
       "      <th>2014-01-01 04:00:00</th>\n",
       "      <td>3</td>\n",
       "      <td>3</td>\n",
       "      <td>3</td>\n",
       "      <td>0.0</td>\n",
       "      <td>0.0</td>\n",
       "    </tr>\n",
       "  </tbody>\n",
       "</table>\n",
       "</div>"
      ],
      "text/plain": [
       "                     status_a  status_b  status_c  level_cm  flow_m2_s\n",
       "time                                                                  \n",
       "2014-01-01 00:00:00         3         4         3       0.0        0.0\n",
       "2014-01-01 01:00:00         3         4         3       0.0        0.0\n",
       "2014-01-01 02:00:00         3         3         3       0.0        0.0\n",
       "2014-01-01 03:00:00         3         3         3       0.0        0.0\n",
       "2014-01-01 04:00:00         3         3         3       0.0        0.0"
      ]
     },
     "execution_count": 176,
     "metadata": {},
     "output_type": "execute_result"
    }
   ],
   "source": [
    "df_ordinal.head()"
   ]
  },
  {
   "cell_type": "markdown",
   "metadata": {},
   "source": [
    "1) Since we have these ordinal value columns as features and we  discritisize the level_cm and flow_m2_s columns so that the values can be used.\n",
    "\n",
    "2) Next we created a pattern string by combining the status so we can have a unique pattern.\n",
    "\n",
    "3) We calculated the IZ based on patterns in levels and then using that value we calculated the IR \n"
   ]
  },
  {
   "cell_type": "code",
   "execution_count": 177,
   "metadata": {},
   "outputs": [
    {
     "name": "stderr",
     "output_type": "stream",
     "text": [
      "C:\\anaconda\\envs\\nndlenv\\lib\\site-packages\\ipykernel_launcher.py:1: SettingWithCopyWarning: \n",
      "A value is trying to be set on a copy of a slice from a DataFrame.\n",
      "Try using .loc[row_indexer,col_indexer] = value instead\n",
      "\n",
      "See the caveats in the documentation: https://pandas.pydata.org/pandas-docs/stable/user_guide/indexing.html#returning-a-view-versus-a-copy\n",
      "  \"\"\"Entry point for launching an IPython kernel.\n"
     ]
    },
    {
     "data": {
      "text/html": [
       "<div>\n",
       "<style scoped>\n",
       "    .dataframe tbody tr th:only-of-type {\n",
       "        vertical-align: middle;\n",
       "    }\n",
       "\n",
       "    .dataframe tbody tr th {\n",
       "        vertical-align: top;\n",
       "    }\n",
       "\n",
       "    .dataframe thead th {\n",
       "        text-align: right;\n",
       "    }\n",
       "</style>\n",
       "<table border=\"1\" class=\"dataframe\">\n",
       "  <thead>\n",
       "    <tr style=\"text-align: right;\">\n",
       "      <th></th>\n",
       "      <th>status_a</th>\n",
       "      <th>status_b</th>\n",
       "      <th>status_c</th>\n",
       "      <th>level_cm</th>\n",
       "      <th>flow_m2_s</th>\n",
       "      <th>pattern</th>\n",
       "    </tr>\n",
       "    <tr>\n",
       "      <th>time</th>\n",
       "      <th></th>\n",
       "      <th></th>\n",
       "      <th></th>\n",
       "      <th></th>\n",
       "      <th></th>\n",
       "      <th></th>\n",
       "    </tr>\n",
       "  </thead>\n",
       "  <tbody>\n",
       "    <tr>\n",
       "      <th>2014-01-01 00:00:00</th>\n",
       "      <td>3</td>\n",
       "      <td>4</td>\n",
       "      <td>3</td>\n",
       "      <td>0.0</td>\n",
       "      <td>0.0</td>\n",
       "      <td>343</td>\n",
       "    </tr>\n",
       "    <tr>\n",
       "      <th>2014-01-01 01:00:00</th>\n",
       "      <td>3</td>\n",
       "      <td>4</td>\n",
       "      <td>3</td>\n",
       "      <td>0.0</td>\n",
       "      <td>0.0</td>\n",
       "      <td>343</td>\n",
       "    </tr>\n",
       "    <tr>\n",
       "      <th>2014-01-01 02:00:00</th>\n",
       "      <td>3</td>\n",
       "      <td>3</td>\n",
       "      <td>3</td>\n",
       "      <td>0.0</td>\n",
       "      <td>0.0</td>\n",
       "      <td>333</td>\n",
       "    </tr>\n",
       "    <tr>\n",
       "      <th>2014-01-01 03:00:00</th>\n",
       "      <td>3</td>\n",
       "      <td>3</td>\n",
       "      <td>3</td>\n",
       "      <td>0.0</td>\n",
       "      <td>0.0</td>\n",
       "      <td>333</td>\n",
       "    </tr>\n",
       "    <tr>\n",
       "      <th>2014-01-01 04:00:00</th>\n",
       "      <td>3</td>\n",
       "      <td>3</td>\n",
       "      <td>3</td>\n",
       "      <td>0.0</td>\n",
       "      <td>0.0</td>\n",
       "      <td>333</td>\n",
       "    </tr>\n",
       "  </tbody>\n",
       "</table>\n",
       "</div>"
      ],
      "text/plain": [
       "                     status_a  status_b  status_c  level_cm  flow_m2_s pattern\n",
       "time                                                                          \n",
       "2014-01-01 00:00:00         3         4         3       0.0        0.0     343\n",
       "2014-01-01 01:00:00         3         4         3       0.0        0.0     343\n",
       "2014-01-01 02:00:00         3         3         3       0.0        0.0     333\n",
       "2014-01-01 03:00:00         3         3         3       0.0        0.0     333\n",
       "2014-01-01 04:00:00         3         3         3       0.0        0.0     333"
      ]
     },
     "execution_count": 177,
     "metadata": {},
     "output_type": "execute_result"
    }
   ],
   "source": [
    "df_ordinal['pattern'] = df_ordinal['status_a'].astype('str') + df_ordinal['status_b'].astype('str') + df_ordinal['status_c'].astype('str')\n",
    "df_ordinal.head()"
   ]
  },
  {
   "cell_type": "code",
   "execution_count": 178,
   "metadata": {},
   "outputs": [
    {
     "name": "stderr",
     "output_type": "stream",
     "text": [
      "C:\\anaconda\\envs\\nndlenv\\lib\\site-packages\\ipykernel_launcher.py:4: SettingWithCopyWarning: \n",
      "A value is trying to be set on a copy of a slice from a DataFrame.\n",
      "Try using .loc[row_indexer,col_indexer] = value instead\n",
      "\n",
      "See the caveats in the documentation: https://pandas.pydata.org/pandas-docs/stable/user_guide/indexing.html#returning-a-view-versus-a-copy\n",
      "  after removing the cwd from sys.path.\n"
     ]
    }
   ],
   "source": [
    "patterns = df_ordinal.pattern.unique()\n",
    "flow_class = df_ordinal.flow_m2_s.unique()\n",
    "level_class = df_ordinal.level_cm.unique()\n",
    "df_ordinal['pattern_count']=1"
   ]
  },
  {
   "cell_type": "code",
   "execution_count": 188,
   "metadata": {},
   "outputs": [
    {
     "data": {
      "text/html": [
       "<div>\n",
       "<style scoped>\n",
       "    .dataframe tbody tr th:only-of-type {\n",
       "        vertical-align: middle;\n",
       "    }\n",
       "\n",
       "    .dataframe tbody tr th {\n",
       "        vertical-align: top;\n",
       "    }\n",
       "\n",
       "    .dataframe thead th {\n",
       "        text-align: right;\n",
       "    }\n",
       "</style>\n",
       "<table border=\"1\" class=\"dataframe\">\n",
       "  <thead>\n",
       "    <tr style=\"text-align: right;\">\n",
       "      <th></th>\n",
       "      <th>level_cm</th>\n",
       "      <th>pattern</th>\n",
       "      <th>pattern_count</th>\n",
       "    </tr>\n",
       "  </thead>\n",
       "  <tbody>\n",
       "    <tr>\n",
       "      <th>0</th>\n",
       "      <td>0.0</td>\n",
       "      <td>111</td>\n",
       "      <td>159</td>\n",
       "    </tr>\n",
       "    <tr>\n",
       "      <th>1</th>\n",
       "      <td>0.0</td>\n",
       "      <td>112</td>\n",
       "      <td>30</td>\n",
       "    </tr>\n",
       "    <tr>\n",
       "      <th>2</th>\n",
       "      <td>0.0</td>\n",
       "      <td>114</td>\n",
       "      <td>2</td>\n",
       "    </tr>\n",
       "    <tr>\n",
       "      <th>3</th>\n",
       "      <td>0.0</td>\n",
       "      <td>121</td>\n",
       "      <td>128</td>\n",
       "    </tr>\n",
       "    <tr>\n",
       "      <th>4</th>\n",
       "      <td>0.0</td>\n",
       "      <td>122</td>\n",
       "      <td>51</td>\n",
       "    </tr>\n",
       "  </tbody>\n",
       "</table>\n",
       "</div>"
      ],
      "text/plain": [
       "   level_cm pattern  pattern_count\n",
       "0       0.0     111            159\n",
       "1       0.0     112             30\n",
       "2       0.0     114              2\n",
       "3       0.0     121            128\n",
       "4       0.0     122             51"
      ]
     },
     "execution_count": 188,
     "metadata": {},
     "output_type": "execute_result"
    }
   ],
   "source": [
    "df_ir_level = df_ordinal.groupby(['level_cm','pattern']).sum()\n",
    "df_ir_level = df_ir_level[['pattern_count']]\n",
    "df_ir_level.reset_index(inplace=True)\n",
    "\n",
    "# df_ir_level.set_index(['level_cm'],inplace=True)\n",
    "\n",
    "# df_ir_level = df_ir_level.T\n",
    "df_ir_level.head()"
   ]
  },
  {
   "cell_type": "markdown",
   "metadata": {},
   "source": []
  },
  {
   "cell_type": "code",
   "execution_count": 180,
   "metadata": {},
   "outputs": [
    {
     "data": {
      "text/html": [
       "<div>\n",
       "<style scoped>\n",
       "    .dataframe tbody tr th:only-of-type {\n",
       "        vertical-align: middle;\n",
       "    }\n",
       "\n",
       "    .dataframe tbody tr th {\n",
       "        vertical-align: top;\n",
       "    }\n",
       "\n",
       "    .dataframe thead th {\n",
       "        text-align: right;\n",
       "    }\n",
       "</style>\n",
       "<table border=\"1\" class=\"dataframe\">\n",
       "  <thead>\n",
       "    <tr style=\"text-align: right;\">\n",
       "      <th></th>\n",
       "      <th>level_cm</th>\n",
       "      <th>pattern</th>\n",
       "      <th>pattern_count</th>\n",
       "    </tr>\n",
       "  </thead>\n",
       "  <tbody>\n",
       "    <tr>\n",
       "      <th>3</th>\n",
       "      <td>0.0</td>\n",
       "      <td>121</td>\n",
       "      <td>128</td>\n",
       "    </tr>\n",
       "    <tr>\n",
       "      <th>95</th>\n",
       "      <td>1.0</td>\n",
       "      <td>121</td>\n",
       "      <td>3</td>\n",
       "    </tr>\n",
       "  </tbody>\n",
       "</table>\n",
       "</div>"
      ],
      "text/plain": [
       "    level_cm pattern  pattern_count\n",
       "3        0.0     121            128\n",
       "95       1.0     121              3"
      ]
     },
     "execution_count": 180,
     "metadata": {},
     "output_type": "execute_result"
    }
   ],
   "source": [
    "df_ir_level[df_ir_level.pattern == '121']"
   ]
  },
  {
   "cell_type": "code",
   "execution_count": null,
   "metadata": {},
   "outputs": [],
   "source": []
  },
  {
   "cell_type": "code",
   "execution_count": 181,
   "metadata": {},
   "outputs": [
    {
     "data": {
      "text/html": [
       "<div>\n",
       "<style scoped>\n",
       "    .dataframe tbody tr th:only-of-type {\n",
       "        vertical-align: middle;\n",
       "    }\n",
       "\n",
       "    .dataframe tbody tr th {\n",
       "        vertical-align: top;\n",
       "    }\n",
       "\n",
       "    .dataframe thead th {\n",
       "        text-align: right;\n",
       "    }\n",
       "</style>\n",
       "<table border=\"1\" class=\"dataframe\">\n",
       "  <thead>\n",
       "    <tr style=\"text-align: right;\">\n",
       "      <th></th>\n",
       "      <th>pattern_count_sum</th>\n",
       "    </tr>\n",
       "    <tr>\n",
       "      <th>pattern</th>\n",
       "      <th></th>\n",
       "    </tr>\n",
       "  </thead>\n",
       "  <tbody>\n",
       "    <tr>\n",
       "      <th>111</th>\n",
       "      <td>159</td>\n",
       "    </tr>\n",
       "    <tr>\n",
       "      <th>112</th>\n",
       "      <td>30</td>\n",
       "    </tr>\n",
       "    <tr>\n",
       "      <th>114</th>\n",
       "      <td>2</td>\n",
       "    </tr>\n",
       "    <tr>\n",
       "      <th>121</th>\n",
       "      <td>131</td>\n",
       "    </tr>\n",
       "    <tr>\n",
       "      <th>122</th>\n",
       "      <td>51</td>\n",
       "    </tr>\n",
       "    <tr>\n",
       "      <th>...</th>\n",
       "      <td>...</td>\n",
       "    </tr>\n",
       "    <tr>\n",
       "      <th>544</th>\n",
       "      <td>1234</td>\n",
       "    </tr>\n",
       "    <tr>\n",
       "      <th>545</th>\n",
       "      <td>2055</td>\n",
       "    </tr>\n",
       "    <tr>\n",
       "      <th>553</th>\n",
       "      <td>30</td>\n",
       "    </tr>\n",
       "    <tr>\n",
       "      <th>554</th>\n",
       "      <td>1123</td>\n",
       "    </tr>\n",
       "    <tr>\n",
       "      <th>555</th>\n",
       "      <td>2212</td>\n",
       "    </tr>\n",
       "  </tbody>\n",
       "</table>\n",
       "<p>95 rows × 1 columns</p>\n",
       "</div>"
      ],
      "text/plain": [
       "         pattern_count_sum\n",
       "pattern                   \n",
       "111                    159\n",
       "112                     30\n",
       "114                      2\n",
       "121                    131\n",
       "122                     51\n",
       "...                    ...\n",
       "544                   1234\n",
       "545                   2055\n",
       "553                     30\n",
       "554                   1123\n",
       "555                   2212\n",
       "\n",
       "[95 rows x 1 columns]"
      ]
     },
     "execution_count": 181,
     "metadata": {},
     "output_type": "execute_result"
    }
   ],
   "source": [
    "df_ir_level_sum = df_ir_level.groupby(['pattern']).sum()\n",
    "df_ir_level_sum.drop(['level_cm'],axis=1,inplace=True)\n",
    "df_ir_level_sum.rename(columns={'pattern_count':'pattern_count_sum'},inplace=True)\n",
    "# df_ir_level.reset_index(inplace=True)\n",
    "df_ir_level_sum"
   ]
  },
  {
   "cell_type": "code",
   "execution_count": 182,
   "metadata": {},
   "outputs": [
    {
     "data": {
      "text/html": [
       "<div>\n",
       "<style scoped>\n",
       "    .dataframe tbody tr th:only-of-type {\n",
       "        vertical-align: middle;\n",
       "    }\n",
       "\n",
       "    .dataframe tbody tr th {\n",
       "        vertical-align: top;\n",
       "    }\n",
       "\n",
       "    .dataframe thead th {\n",
       "        text-align: right;\n",
       "    }\n",
       "</style>\n",
       "<table border=\"1\" class=\"dataframe\">\n",
       "  <thead>\n",
       "    <tr style=\"text-align: right;\">\n",
       "      <th></th>\n",
       "      <th>level_cm</th>\n",
       "      <th>pattern_count_max</th>\n",
       "    </tr>\n",
       "    <tr>\n",
       "      <th>pattern</th>\n",
       "      <th></th>\n",
       "      <th></th>\n",
       "    </tr>\n",
       "  </thead>\n",
       "  <tbody>\n",
       "    <tr>\n",
       "      <th>111</th>\n",
       "      <td>0.0</td>\n",
       "      <td>159</td>\n",
       "    </tr>\n",
       "    <tr>\n",
       "      <th>112</th>\n",
       "      <td>0.0</td>\n",
       "      <td>30</td>\n",
       "    </tr>\n",
       "    <tr>\n",
       "      <th>114</th>\n",
       "      <td>0.0</td>\n",
       "      <td>2</td>\n",
       "    </tr>\n",
       "    <tr>\n",
       "      <th>121</th>\n",
       "      <td>1.0</td>\n",
       "      <td>128</td>\n",
       "    </tr>\n",
       "    <tr>\n",
       "      <th>122</th>\n",
       "      <td>0.0</td>\n",
       "      <td>51</td>\n",
       "    </tr>\n",
       "    <tr>\n",
       "      <th>...</th>\n",
       "      <td>...</td>\n",
       "      <td>...</td>\n",
       "    </tr>\n",
       "    <tr>\n",
       "      <th>544</th>\n",
       "      <td>10.0</td>\n",
       "      <td>961</td>\n",
       "    </tr>\n",
       "    <tr>\n",
       "      <th>545</th>\n",
       "      <td>9.0</td>\n",
       "      <td>1302</td>\n",
       "    </tr>\n",
       "    <tr>\n",
       "      <th>553</th>\n",
       "      <td>2.0</td>\n",
       "      <td>26</td>\n",
       "    </tr>\n",
       "    <tr>\n",
       "      <th>554</th>\n",
       "      <td>10.0</td>\n",
       "      <td>944</td>\n",
       "    </tr>\n",
       "    <tr>\n",
       "      <th>555</th>\n",
       "      <td>9.0</td>\n",
       "      <td>1670</td>\n",
       "    </tr>\n",
       "  </tbody>\n",
       "</table>\n",
       "<p>95 rows × 2 columns</p>\n",
       "</div>"
      ],
      "text/plain": [
       "         level_cm  pattern_count_max\n",
       "pattern                             \n",
       "111           0.0                159\n",
       "112           0.0                 30\n",
       "114           0.0                  2\n",
       "121           1.0                128\n",
       "122           0.0                 51\n",
       "...           ...                ...\n",
       "544          10.0                961\n",
       "545           9.0               1302\n",
       "553           2.0                 26\n",
       "554          10.0                944\n",
       "555           9.0               1670\n",
       "\n",
       "[95 rows x 2 columns]"
      ]
     },
     "execution_count": 182,
     "metadata": {},
     "output_type": "execute_result"
    }
   ],
   "source": [
    "df_ir_level_max = df_ir_level.groupby(['pattern']).max()\n",
    "# df_ir_level_max.drop(['pattern'],axis=1,inplace=True)\n",
    "df_ir_level_max.rename(columns={'pattern_count':'pattern_count_max'},inplace=True)\n",
    "# df_ir_level.reset_index(inplace=True)\n",
    "df_ir_level_max"
   ]
  },
  {
   "cell_type": "code",
   "execution_count": 183,
   "metadata": {},
   "outputs": [
    {
     "data": {
      "text/html": [
       "<div>\n",
       "<style scoped>\n",
       "    .dataframe tbody tr th:only-of-type {\n",
       "        vertical-align: middle;\n",
       "    }\n",
       "\n",
       "    .dataframe tbody tr th {\n",
       "        vertical-align: top;\n",
       "    }\n",
       "\n",
       "    .dataframe thead th {\n",
       "        text-align: right;\n",
       "    }\n",
       "</style>\n",
       "<table border=\"1\" class=\"dataframe\">\n",
       "  <thead>\n",
       "    <tr style=\"text-align: right;\">\n",
       "      <th></th>\n",
       "      <th>pattern_count_sum</th>\n",
       "      <th>level_cm</th>\n",
       "      <th>pattern_count_max</th>\n",
       "    </tr>\n",
       "    <tr>\n",
       "      <th>pattern</th>\n",
       "      <th></th>\n",
       "      <th></th>\n",
       "      <th></th>\n",
       "    </tr>\n",
       "  </thead>\n",
       "  <tbody>\n",
       "    <tr>\n",
       "      <th>111</th>\n",
       "      <td>159</td>\n",
       "      <td>0.0</td>\n",
       "      <td>159</td>\n",
       "    </tr>\n",
       "    <tr>\n",
       "      <th>112</th>\n",
       "      <td>30</td>\n",
       "      <td>0.0</td>\n",
       "      <td>30</td>\n",
       "    </tr>\n",
       "    <tr>\n",
       "      <th>114</th>\n",
       "      <td>2</td>\n",
       "      <td>0.0</td>\n",
       "      <td>2</td>\n",
       "    </tr>\n",
       "    <tr>\n",
       "      <th>121</th>\n",
       "      <td>131</td>\n",
       "      <td>1.0</td>\n",
       "      <td>128</td>\n",
       "    </tr>\n",
       "    <tr>\n",
       "      <th>122</th>\n",
       "      <td>51</td>\n",
       "      <td>0.0</td>\n",
       "      <td>51</td>\n",
       "    </tr>\n",
       "  </tbody>\n",
       "</table>\n",
       "</div>"
      ],
      "text/plain": [
       "         pattern_count_sum  level_cm  pattern_count_max\n",
       "pattern                                                \n",
       "111                    159       0.0                159\n",
       "112                     30       0.0                 30\n",
       "114                      2       0.0                  2\n",
       "121                    131       1.0                128\n",
       "122                     51       0.0                 51"
      ]
     },
     "execution_count": 183,
     "metadata": {},
     "output_type": "execute_result"
    }
   ],
   "source": [
    "df_ir_level_combined = df_ir_level_sum.join(df_ir_level_max)\n",
    "df_ir_level_combined.head()"
   ]
  },
  {
   "cell_type": "code",
   "execution_count": 184,
   "metadata": {},
   "outputs": [
    {
     "data": {
      "text/html": [
       "<div>\n",
       "<style scoped>\n",
       "    .dataframe tbody tr th:only-of-type {\n",
       "        vertical-align: middle;\n",
       "    }\n",
       "\n",
       "    .dataframe tbody tr th {\n",
       "        vertical-align: top;\n",
       "    }\n",
       "\n",
       "    .dataframe thead th {\n",
       "        text-align: right;\n",
       "    }\n",
       "</style>\n",
       "<table border=\"1\" class=\"dataframe\">\n",
       "  <thead>\n",
       "    <tr style=\"text-align: right;\">\n",
       "      <th></th>\n",
       "      <th>pattern_count_sum</th>\n",
       "      <th>level_cm</th>\n",
       "      <th>pattern_count_max</th>\n",
       "      <th>IZ</th>\n",
       "    </tr>\n",
       "    <tr>\n",
       "      <th>pattern</th>\n",
       "      <th></th>\n",
       "      <th></th>\n",
       "      <th></th>\n",
       "      <th></th>\n",
       "    </tr>\n",
       "  </thead>\n",
       "  <tbody>\n",
       "    <tr>\n",
       "      <th>111</th>\n",
       "      <td>159</td>\n",
       "      <td>0.0</td>\n",
       "      <td>159</td>\n",
       "      <td>0</td>\n",
       "    </tr>\n",
       "    <tr>\n",
       "      <th>112</th>\n",
       "      <td>30</td>\n",
       "      <td>0.0</td>\n",
       "      <td>30</td>\n",
       "      <td>0</td>\n",
       "    </tr>\n",
       "    <tr>\n",
       "      <th>114</th>\n",
       "      <td>2</td>\n",
       "      <td>0.0</td>\n",
       "      <td>2</td>\n",
       "      <td>0</td>\n",
       "    </tr>\n",
       "    <tr>\n",
       "      <th>121</th>\n",
       "      <td>131</td>\n",
       "      <td>1.0</td>\n",
       "      <td>128</td>\n",
       "      <td>3</td>\n",
       "    </tr>\n",
       "    <tr>\n",
       "      <th>122</th>\n",
       "      <td>51</td>\n",
       "      <td>0.0</td>\n",
       "      <td>51</td>\n",
       "      <td>0</td>\n",
       "    </tr>\n",
       "  </tbody>\n",
       "</table>\n",
       "</div>"
      ],
      "text/plain": [
       "         pattern_count_sum  level_cm  pattern_count_max  IZ\n",
       "pattern                                                    \n",
       "111                    159       0.0                159   0\n",
       "112                     30       0.0                 30   0\n",
       "114                      2       0.0                  2   0\n",
       "121                    131       1.0                128   3\n",
       "122                     51       0.0                 51   0"
      ]
     },
     "execution_count": 184,
     "metadata": {},
     "output_type": "execute_result"
    }
   ],
   "source": [
    "df_ir_level_combined['IZ'] = df_ir_level_combined.pattern_count_sum - df_ir_level_combined.pattern_count_max\n",
    "df_ir_level_combined.head()"
   ]
  },
  {
   "cell_type": "code",
   "execution_count": 187,
   "metadata": {},
   "outputs": [
    {
     "data": {
      "text/plain": [
       "0.22456080310289755"
      ]
     },
     "execution_count": 187,
     "metadata": {},
     "output_type": "execute_result"
    }
   ],
   "source": [
    "IR = sum(df_ir_level_combined['IZ'])/ sum(df_ir_level_combined.pattern_count_sum)\n",
    "IR"
   ]
  },
  {
   "cell_type": "code",
   "execution_count": null,
   "metadata": {},
   "outputs": [],
   "source": []
  }
 ],
 "metadata": {
  "colab": {
   "collapsed_sections": [],
   "name": "Feature Selection.ipynb",
   "provenance": [],
   "toc_visible": true
  },
  "kernelspec": {
   "display_name": "Python 3",
   "language": "python",
   "name": "python3"
  },
  "language_info": {
   "codemirror_mode": {
    "name": "ipython",
    "version": 3
   },
   "file_extension": ".py",
   "mimetype": "text/x-python",
   "name": "python",
   "nbconvert_exporter": "python",
   "pygments_lexer": "ipython3",
   "version": "3.8.5"
  }
 },
 "nbformat": 4,
 "nbformat_minor": 1
}
