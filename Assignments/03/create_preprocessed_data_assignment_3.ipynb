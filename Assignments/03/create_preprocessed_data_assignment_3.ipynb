{
 "cells": [
  {
   "cell_type": "code",
   "execution_count": 27,
   "metadata": {},
   "outputs": [],
   "source": [
    "import pandas as pd\n",
    "import numpy as np\n",
    "\n",
    "file_station_a = \"sample_42_station_a.csv\"\n",
    "file_station_c = \"sample_42_station_c.csv\"\n",
    "file_station_main = \"sample_42_station_main.csv\"\n",
    "file_all_station = \"sample_42_station_all.csv\""
   ]
  },
  {
   "cell_type": "code",
   "execution_count": 28,
   "metadata": {},
   "outputs": [],
   "source": [
    "station_a = pd.read_csv(file_station_a, index_col=\"time\", parse_dates=True)\n",
    "station_c = pd.read_csv(file_station_c, index_col=\"time\", parse_dates=True)\n",
    "station_main = pd.read_csv(file_station_main, index_col=\"time\", parse_dates=True)"
   ]
  },
  {
   "cell_type": "code",
   "execution_count": 29,
   "metadata": {},
   "outputs": [
    {
     "data": {
      "text/html": [
       "<div>\n",
       "<style scoped>\n",
       "    .dataframe tbody tr th:only-of-type {\n",
       "        vertical-align: middle;\n",
       "    }\n",
       "\n",
       "    .dataframe tbody tr th {\n",
       "        vertical-align: top;\n",
       "    }\n",
       "\n",
       "    .dataframe thead th {\n",
       "        text-align: right;\n",
       "    }\n",
       "</style>\n",
       "<table border=\"1\" class=\"dataframe\">\n",
       "  <thead>\n",
       "    <tr style=\"text-align: right;\">\n",
       "      <th></th>\n",
       "      <th>temp_c</th>\n",
       "      <th>rain_mm</th>\n",
       "    </tr>\n",
       "  </thead>\n",
       "  <tbody>\n",
       "    <tr>\n",
       "      <th>count</th>\n",
       "      <td>166.000000</td>\n",
       "      <td>167.000000</td>\n",
       "    </tr>\n",
       "    <tr>\n",
       "      <th>mean</th>\n",
       "      <td>8.556024</td>\n",
       "      <td>0.068862</td>\n",
       "    </tr>\n",
       "    <tr>\n",
       "      <th>std</th>\n",
       "      <td>2.804897</td>\n",
       "      <td>0.213379</td>\n",
       "    </tr>\n",
       "    <tr>\n",
       "      <th>min</th>\n",
       "      <td>2.500000</td>\n",
       "      <td>0.000000</td>\n",
       "    </tr>\n",
       "    <tr>\n",
       "      <th>25%</th>\n",
       "      <td>7.125000</td>\n",
       "      <td>0.000000</td>\n",
       "    </tr>\n",
       "    <tr>\n",
       "      <th>50%</th>\n",
       "      <td>8.100000</td>\n",
       "      <td>0.000000</td>\n",
       "    </tr>\n",
       "    <tr>\n",
       "      <th>75%</th>\n",
       "      <td>9.975000</td>\n",
       "      <td>0.000000</td>\n",
       "    </tr>\n",
       "    <tr>\n",
       "      <th>max</th>\n",
       "      <td>18.300000</td>\n",
       "      <td>1.100000</td>\n",
       "    </tr>\n",
       "  </tbody>\n",
       "</table>\n",
       "</div>"
      ],
      "text/plain": [
       "           temp_c     rain_mm\n",
       "count  166.000000  167.000000\n",
       "mean     8.556024    0.068862\n",
       "std      2.804897    0.213379\n",
       "min      2.500000    0.000000\n",
       "25%      7.125000    0.000000\n",
       "50%      8.100000    0.000000\n",
       "75%      9.975000    0.000000\n",
       "max     18.300000    1.100000"
      ]
     },
     "execution_count": 29,
     "metadata": {},
     "output_type": "execute_result"
    }
   ],
   "source": [
    "station_a.describe()"
   ]
  },
  {
   "cell_type": "code",
   "execution_count": 30,
   "metadata": {},
   "outputs": [
    {
     "name": "stdout",
     "output_type": "stream",
     "text": [
      "<class 'pandas.core.frame.DataFrame'>\n",
      "DatetimeIndex: 168 entries, 2019-04-06 00:00:00 to 2019-04-12 23:00:00\n",
      "Data columns (total 3 columns):\n",
      " #   Column   Non-Null Count  Dtype  \n",
      "---  ------   --------------  -----  \n",
      " 0   temp_c   166 non-null    float64\n",
      " 1   status   168 non-null    object \n",
      " 2   rain_mm  167 non-null    float64\n",
      "dtypes: float64(2), object(1)\n",
      "memory usage: 5.2+ KB\n"
     ]
    }
   ],
   "source": [
    "station_a.info()"
   ]
  },
  {
   "cell_type": "markdown",
   "metadata": {},
   "source": [
    "# Range Check\n",
    "\n",
    "## station_main (Willenscharen)"
   ]
  },
  {
   "cell_type": "code",
   "execution_count": 31,
   "metadata": {},
   "outputs": [
    {
     "data": {
      "text/plain": [
       "<AxesSubplot:xlabel='time'>"
      ]
     },
     "execution_count": 31,
     "metadata": {},
     "output_type": "execute_result"
    },
    {
     "data": {
      "image/png": "[encoded data removed]",
      "text/plain": [
       "<Figure size 432x288 with 1 Axes>"
      ]
     },
     "metadata": {
      "needs_background": "light"
     },
     "output_type": "display_data"
    }
   ],
   "source": [
    "station_main.level_cm.plot()"
   ]
  },
  {
   "cell_type": "code",
   "execution_count": 32,
   "metadata": {},
   "outputs": [
    {
     "data": {
      "text/plain": [
       "<AxesSubplot:xlabel='time'>"
      ]
     },
     "execution_count": 32,
     "metadata": {},
     "output_type": "execute_result"
    },
    {
     "data": {
      "image/png": "[encoded data removed]",
      "text/plain": [
       "<Figure size 432x288 with 1 Axes>"
      ]
     },
     "metadata": {
      "needs_background": "light"
     },
     "output_type": "display_data"
    }
   ],
   "source": [
    "station_main.flow_m3_s.plot()"
   ]
  },
  {
   "cell_type": "code",
   "execution_count": 33,
   "metadata": {},
   "outputs": [
    {
     "name": "stdout",
     "output_type": "stream",
     "text": [
      "156.0 4.29\n"
     ]
    }
   ],
   "source": [
    "print(min(station_main.level_cm), min(station_main.flow_m3_s))"
   ]
  },
  {
   "cell_type": "markdown",
   "metadata": {},
   "source": [
    "Logically, both water level and water have to be positive. This is the case here. Otherwise, negative values would be marked as missing value (NaN)."
   ]
  },
  {
   "cell_type": "markdown",
   "metadata": {},
   "source": [
    "## Station A (Padenstedt) and Station C (Itzehoe)\n",
    "\n",
    "### rain_mm\n",
    "\n",
    "This attribute describes precipitation (snow and in Schleswig-Holstein mostly rain). Has to be positive."
   ]
  },
  {
   "cell_type": "code",
   "execution_count": 34,
   "metadata": {},
   "outputs": [
    {
     "name": "stdout",
     "output_type": "stream",
     "text": [
      "count    167.000000\n",
      "mean       0.068862\n",
      "std        0.213379\n",
      "min        0.000000\n",
      "25%        0.000000\n",
      "50%        0.000000\n",
      "75%        0.000000\n",
      "max        1.100000\n",
      "Name: rain_mm, dtype: float64\n"
     ]
    },
    {
     "data": {
      "text/plain": [
       "<AxesSubplot:xlabel='time'>"
      ]
     },
     "execution_count": 34,
     "metadata": {},
     "output_type": "execute_result"
    },
    {
     "data": {
      "image/png": "[encoded data removed]",
      "text/plain": [
       "<Figure size 432x288 with 1 Axes>"
      ]
     },
     "metadata": {
      "needs_background": "light"
     },
     "output_type": "display_data"
    }
   ],
   "source": [
    "print(station_a.rain_mm.describe())\n",
    "station_a.rain_mm.plot()"
   ]
  },
  {
   "cell_type": "code",
   "execution_count": 35,
   "metadata": {},
   "outputs": [
    {
     "name": "stdout",
     "output_type": "stream",
     "text": [
      "count    167.000000\n",
      "mean       0.099401\n",
      "std        0.298086\n",
      "min        0.000000\n",
      "25%        0.000000\n",
      "50%        0.000000\n",
      "75%        0.000000\n",
      "max        1.700000\n",
      "Name: rain_mm, dtype: float64\n",
      "AxesSubplot(0.125,0.125;0.775x0.755)\n"
     ]
    },
    {
     "data": {
      "image/png": "[encoded data removed]",
      "text/plain": [
       "<Figure size 432x288 with 1 Axes>"
      ]
     },
     "metadata": {
      "needs_background": "light"
     },
     "output_type": "display_data"
    }
   ],
   "source": [
    "print(station_c.rain_mm.describe())\n",
    "print(station_c.rain_mm.plot())"
   ]
  },
  {
   "cell_type": "markdown",
   "metadata": {},
   "source": [
    "Both rain levels have some fixed value -999. These are assumed to be missing values:"
   ]
  },
  {
   "cell_type": "code",
   "execution_count": 36,
   "metadata": {},
   "outputs": [
    {
     "data": {
      "text/plain": [
       "temp_c     2\n",
       "status     0\n",
       "rain_mm    1\n",
       "dtype: int64"
      ]
     },
     "execution_count": 36,
     "metadata": {},
     "output_type": "execute_result"
    }
   ],
   "source": [
    "station_a.isna().sum()"
   ]
  },
  {
   "cell_type": "code",
   "execution_count": 37,
   "metadata": {},
   "outputs": [],
   "source": [
    "station_a.loc[station_a.rain_mm < 0, \"rain_mm\"] = np.nan\n",
    "station_c.loc[station_c.rain_mm < 0, \"rain_mm\"] = np.nan"
   ]
  },
  {
   "cell_type": "markdown",
   "metadata": {},
   "source": [
    "### temp_c\n",
    "\n",
    "This attribute describes the air temperature. A sensible range to check for are based on the min. and max. temperature ever recorded in Germany: [-40°C, 42°C]\n",
    "\n",
    "(see <https://de.wikipedia.org/wiki/Liste_der_Temperaturrekorde_in_Deutschland#Hitzerekorde>):"
   ]
  },
  {
   "cell_type": "code",
   "execution_count": 38,
   "metadata": {},
   "outputs": [
    {
     "name": "stdout",
     "output_type": "stream",
     "text": [
      "count    166.000000\n",
      "mean       8.556024\n",
      "std        2.804897\n",
      "min        2.500000\n",
      "25%        7.125000\n",
      "50%        8.100000\n",
      "75%        9.975000\n",
      "max       18.300000\n",
      "Name: temp_c, dtype: float64\n"
     ]
    },
    {
     "data": {
      "text/plain": [
       "<AxesSubplot:xlabel='time'>"
      ]
     },
     "execution_count": 38,
     "metadata": {},
     "output_type": "execute_result"
    },
    {
     "data": {
      "image/png": "[encoded data removed]",
      "text/plain": [
       "<Figure size 432x288 with 1 Axes>"
      ]
     },
     "metadata": {
      "needs_background": "light"
     },
     "output_type": "display_data"
    }
   ],
   "source": [
    "print(station_a.temp_c.describe())\n",
    "station_a.temp_c.plot()"
   ]
  },
  {
   "cell_type": "code",
   "execution_count": 39,
   "metadata": {},
   "outputs": [
    {
     "name": "stdout",
     "output_type": "stream",
     "text": [
      "count    166.000000\n",
      "mean       8.421084\n",
      "std        2.762581\n",
      "min        2.600000\n",
      "25%        7.025000\n",
      "50%        8.000000\n",
      "75%        9.475000\n",
      "max       18.700000\n",
      "Name: temp_c, dtype: float64\n"
     ]
    },
    {
     "data": {
      "text/plain": [
       "<AxesSubplot:xlabel='time'>"
      ]
     },
     "execution_count": 39,
     "metadata": {},
     "output_type": "execute_result"
    },
    {
     "data": {
      "image/png": "[encoded data removed]",
      "text/plain": [
       "<Figure size 432x288 with 1 Axes>"
      ]
     },
     "metadata": {
      "needs_background": "light"
     },
     "output_type": "display_data"
    }
   ],
   "source": [
    "print(station_c.temp_c.describe())\n",
    "station_c.temp_c.plot()"
   ]
  },
  {
   "cell_type": "markdown",
   "metadata": {},
   "source": [
    "Station A is fine, but Station C has - like with the precipitation - a articifcal value of -999 which we interpret as missing value:"
   ]
  },
  {
   "cell_type": "code",
   "execution_count": 40,
   "metadata": {},
   "outputs": [],
   "source": [
    "station_c.loc[station_c.temp_c < -40, \"temp_c\"] = np.nan"
   ]
  },
  {
   "cell_type": "markdown",
   "metadata": {},
   "source": [
    "# Missing Values\n",
    "\n",
    "All attributes show missing values:"
   ]
  },
  {
   "cell_type": "code",
   "execution_count": 41,
   "metadata": {},
   "outputs": [
    {
     "name": "stdout",
     "output_type": "stream",
     "text": [
      "temp_c     2\n",
      "status     0\n",
      "rain_mm    1\n",
      "dtype: int64\n",
      "\n",
      "temp_c     2\n",
      "status     1\n",
      "rain_mm    1\n",
      "dtype: int64\n",
      "\n",
      "level_cm     2\n",
      "flow_m3_s    1\n",
      "dtype: int64\n"
     ]
    }
   ],
   "source": [
    "print(station_a.isna().sum())\n",
    "print()\n",
    "print(station_c.isna().sum())\n",
    "print()\n",
    "print(station_main.isna().sum())"
   ]
  },
  {
   "cell_type": "markdown",
   "metadata": {},
   "source": [
    "For the categorical attribute status we use forward filling - without any limitation on how many consecutive NaNs can be replaced at a time."
   ]
  },
  {
   "cell_type": "code",
   "execution_count": 42,
   "metadata": {},
   "outputs": [],
   "source": [
    "station_a.status.interpolate(method=\"pad\", inplace=True)\n",
    "station_c.status.interpolate(method=\"pad\", inplace=True)"
   ]
  },
  {
   "cell_type": "markdown",
   "metadata": {},
   "source": [
    "For the numerical attributes we use linear interpolation"
   ]
  },
  {
   "cell_type": "code",
   "execution_count": 43,
   "metadata": {},
   "outputs": [],
   "source": [
    "station_a.temp_c.interpolate(method=\"linear\", inplace=True)\n",
    "station_c.temp_c.interpolate(method=\"linear\", inplace=True)\n",
    "\n",
    "station_a.rain_mm.interpolate(method=\"linear\", inplace=True)\n",
    "station_c.rain_mm.interpolate(method=\"linear\", inplace=True)\n",
    "\n",
    "station_main.level_cm.interpolate(method=\"linear\", inplace=True)\n",
    "station_main.flow_m3_s.interpolate(method=\"linear\", inplace=True)"
   ]
  },
  {
   "cell_type": "markdown",
   "metadata": {},
   "source": [
    "# Scaling\n",
    "\n",
    "## Time Domain\n",
    "\n",
    "The sampling interval is the same for all station (hourly, starting at 00:00 every day). Scaling in the time domain is not required.\n",
    "\n",
    "## Value Domain\n",
    "\n",
    "No scaling (yet).\n",
    "\n",
    "Scaling due to different value ranges is not necessary (same for rain resp. temp in station A and C) and _level_cm_ is independet from _rain_mm_.\n",
    "\n",
    "Using normalisation or standardisation for feature scaling depends on the technqiues in following stages. When using Scikit-Learn you can use a transformer called MinMaxScaler for Normalization and one called StandardScaler for standardisation."
   ]
  },
  {
   "cell_type": "markdown",
   "metadata": {},
   "source": [
    "# Encoding\n",
    "\n",
    "Status represents increasing humidity at the station A and station B. Therefore it will rank-based encoded:"
   ]
  },
  {
   "cell_type": "code",
   "execution_count": 44,
   "metadata": {},
   "outputs": [],
   "source": [
    "# Encode the status\n",
    "station_a.status = pd.Categorical(station_a.status, categories = [\"low\", \"decreased\", \"normal\", \"increased\", \"max\"]).codes\n",
    "station_c.status = pd.Categorical(station_c.status, categories = [\"low\", \"decreased\", \"normal\", \"increased\", \"max\"]).codes"
   ]
  },
  {
   "cell_type": "markdown",
   "metadata": {},
   "source": [
    "# Final Plots / Stats\n",
    "\n",
    "## Station Main"
   ]
  },
  {
   "cell_type": "code",
   "execution_count": 45,
   "metadata": {
    "scrolled": true
   },
   "outputs": [
    {
     "name": "stdout",
     "output_type": "stream",
     "text": [
      "         level_cm   flow_m3_s\n",
      "count  168.000000  168.000000\n",
      "mean   159.247024    4.657351\n",
      "std      2.787911    0.329990\n",
      "min    156.000000    4.290000\n",
      "25%    157.750000    4.482500\n",
      "50%    159.000000    4.620000\n",
      "75%    160.000000    4.740000\n",
      "max    171.000000    6.070000\n"
     ]
    },
    {
     "data": {
      "text/plain": [
       "<AxesSubplot:xlabel='time'>"
      ]
     },
     "execution_count": 45,
     "metadata": {},
     "output_type": "execute_result"
    },
    {
     "data": {
      "image/png": "[encoded data removed]",
      "text/plain": [
       "<Figure size 432x288 with 1 Axes>"
      ]
     },
     "metadata": {
      "needs_background": "light"
     },
     "output_type": "display_data"
    }
   ],
   "source": [
    "print(station_main.describe())\n",
    "station_main.level_cm.plot()"
   ]
  },
  {
   "cell_type": "code",
   "execution_count": 46,
   "metadata": {},
   "outputs": [
    {
     "data": {
      "text/plain": [
       "<AxesSubplot:xlabel='time'>"
      ]
     },
     "execution_count": 46,
     "metadata": {},
     "output_type": "execute_result"
    },
    {
     "data": {
      "image/png": "[encoded data removed]",
      "text/plain": [
       "<Figure size 432x288 with 1 Axes>"
      ]
     },
     "metadata": {
      "needs_background": "light"
     },
     "output_type": "display_data"
    }
   ],
   "source": [
    "station_main.flow_m3_s.plot()"
   ]
  },
  {
   "cell_type": "markdown",
   "metadata": {},
   "source": [
    "## Station A and Station C"
   ]
  },
  {
   "cell_type": "code",
   "execution_count": 47,
   "metadata": {},
   "outputs": [
    {
     "name": "stdout",
     "output_type": "stream",
     "text": [
      "           temp_c      status     rain_mm\n",
      "count  167.000000  168.000000  168.000000\n",
      "mean     8.586228    2.303571    0.068452\n",
      "std      2.823544    0.989520    0.212806\n",
      "min      2.500000    0.000000    0.000000\n",
      "25%      7.150000    1.000000    0.000000\n",
      "50%      8.100000    2.000000    0.000000\n",
      "75%     10.000000    3.000000    0.000000\n",
      "max     18.300000    4.000000    1.100000\n",
      "\n",
      "           temp_c      status     rain_mm\n",
      "count  168.000000  168.000000  168.000000\n",
      "mean     8.418155    2.250000    0.099107\n",
      "std      2.746513    0.946155    0.297216\n",
      "min      2.600000    1.000000    0.000000\n",
      "25%      7.075000    1.000000    0.000000\n",
      "50%      8.000000    2.000000    0.000000\n",
      "75%      9.425000    3.000000    0.000000\n",
      "max     18.700000    4.000000    1.700000\n"
     ]
    }
   ],
   "source": [
    "print(station_a.describe())\n",
    "print()\n",
    "print(station_c.describe())"
   ]
  },
  {
   "cell_type": "code",
   "execution_count": 48,
   "metadata": {},
   "outputs": [
    {
     "data": {
      "text/plain": [
       "<AxesSubplot:xlabel='time'>"
      ]
     },
     "execution_count": 48,
     "metadata": {},
     "output_type": "execute_result"
    },
    {
     "data": {
      "image/png": "[encoded data removed]",
      "text/plain": [
       "<Figure size 432x288 with 1 Axes>"
      ]
     },
     "metadata": {
      "needs_background": "light"
     },
     "output_type": "display_data"
    }
   ],
   "source": [
    "station_a.temp_c.plot()\n",
    "station_c.temp_c.plot()"
   ]
  },
  {
   "cell_type": "code",
   "execution_count": 49,
   "metadata": {},
   "outputs": [
    {
     "data": {
      "text/plain": [
       "<AxesSubplot:xlabel='time'>"
      ]
     },
     "execution_count": 49,
     "metadata": {},
     "output_type": "execute_result"
    },
    {
     "data": {
      "image/png": "[encoded data removed]",
      "text/plain": [
       "<Figure size 432x288 with 1 Axes>"
      ]
     },
     "metadata": {
      "needs_background": "light"
     },
     "output_type": "display_data"
    }
   ],
   "source": [
    "station_a.rain_mm.plot()\n",
    "station_c.rain_mm.plot()"
   ]
  },
  {
   "cell_type": "markdown",
   "metadata": {},
   "source": [
    "## Combined Data\n",
    "\n",
    "Combine the 3 stations using an inner join on index (the datetime) incl. new column names."
   ]
  },
  {
   "cell_type": "code",
   "execution_count": 50,
   "metadata": {},
   "outputs": [
    {
     "data": {
      "text/html": [
       "<div>\n",
       "<style scoped>\n",
       "    .dataframe tbody tr th:only-of-type {\n",
       "        vertical-align: middle;\n",
       "    }\n",
       "\n",
       "    .dataframe tbody tr th {\n",
       "        vertical-align: top;\n",
       "    }\n",
       "\n",
       "    .dataframe thead th {\n",
       "        text-align: right;\n",
       "    }\n",
       "</style>\n",
       "<table border=\"1\" class=\"dataframe\">\n",
       "  <thead>\n",
       "    <tr style=\"text-align: right;\">\n",
       "      <th></th>\n",
       "      <th>main_level</th>\n",
       "      <th>main_flow</th>\n",
       "      <th>a_temp</th>\n",
       "      <th>a_status</th>\n",
       "      <th>a_rain</th>\n",
       "      <th>c_temp</th>\n",
       "      <th>c_status</th>\n",
       "      <th>c_rain</th>\n",
       "    </tr>\n",
       "    <tr>\n",
       "      <th>time</th>\n",
       "      <th></th>\n",
       "      <th></th>\n",
       "      <th></th>\n",
       "      <th></th>\n",
       "      <th></th>\n",
       "      <th></th>\n",
       "      <th></th>\n",
       "      <th></th>\n",
       "    </tr>\n",
       "  </thead>\n",
       "  <tbody>\n",
       "    <tr>\n",
       "      <th>2019-04-06 00:00:00</th>\n",
       "      <td>161.0</td>\n",
       "      <td>4.85</td>\n",
       "      <td>NaN</td>\n",
       "      <td>2</td>\n",
       "      <td>0.0</td>\n",
       "      <td>6.3</td>\n",
       "      <td>2</td>\n",
       "      <td>0.0</td>\n",
       "    </tr>\n",
       "    <tr>\n",
       "      <th>2019-04-06 01:00:00</th>\n",
       "      <td>162.0</td>\n",
       "      <td>4.97</td>\n",
       "      <td>4.9</td>\n",
       "      <td>2</td>\n",
       "      <td>0.0</td>\n",
       "      <td>5.6</td>\n",
       "      <td>2</td>\n",
       "      <td>0.0</td>\n",
       "    </tr>\n",
       "    <tr>\n",
       "      <th>2019-04-06 02:00:00</th>\n",
       "      <td>161.0</td>\n",
       "      <td>4.85</td>\n",
       "      <td>4.4</td>\n",
       "      <td>2</td>\n",
       "      <td>0.0</td>\n",
       "      <td>4.9</td>\n",
       "      <td>2</td>\n",
       "      <td>0.0</td>\n",
       "    </tr>\n",
       "    <tr>\n",
       "      <th>2019-04-06 03:00:00</th>\n",
       "      <td>162.0</td>\n",
       "      <td>4.97</td>\n",
       "      <td>4.0</td>\n",
       "      <td>3</td>\n",
       "      <td>0.0</td>\n",
       "      <td>4.3</td>\n",
       "      <td>2</td>\n",
       "      <td>0.0</td>\n",
       "    </tr>\n",
       "    <tr>\n",
       "      <th>2019-04-06 04:00:00</th>\n",
       "      <td>161.0</td>\n",
       "      <td>4.85</td>\n",
       "      <td>3.3</td>\n",
       "      <td>3</td>\n",
       "      <td>0.0</td>\n",
       "      <td>3.5</td>\n",
       "      <td>3</td>\n",
       "      <td>0.0</td>\n",
       "    </tr>\n",
       "    <tr>\n",
       "      <th>...</th>\n",
       "      <td>...</td>\n",
       "      <td>...</td>\n",
       "      <td>...</td>\n",
       "      <td>...</td>\n",
       "      <td>...</td>\n",
       "      <td>...</td>\n",
       "      <td>...</td>\n",
       "      <td>...</td>\n",
       "    </tr>\n",
       "    <tr>\n",
       "      <th>2019-04-12 19:00:00</th>\n",
       "      <td>169.0</td>\n",
       "      <td>5.82</td>\n",
       "      <td>7.5</td>\n",
       "      <td>3</td>\n",
       "      <td>0.0</td>\n",
       "      <td>7.2</td>\n",
       "      <td>3</td>\n",
       "      <td>0.0</td>\n",
       "    </tr>\n",
       "    <tr>\n",
       "      <th>2019-04-12 20:00:00</th>\n",
       "      <td>170.0</td>\n",
       "      <td>5.95</td>\n",
       "      <td>7.0</td>\n",
       "      <td>3</td>\n",
       "      <td>0.0</td>\n",
       "      <td>6.8</td>\n",
       "      <td>3</td>\n",
       "      <td>0.0</td>\n",
       "    </tr>\n",
       "    <tr>\n",
       "      <th>2019-04-12 21:00:00</th>\n",
       "      <td>170.0</td>\n",
       "      <td>5.95</td>\n",
       "      <td>6.8</td>\n",
       "      <td>3</td>\n",
       "      <td>0.0</td>\n",
       "      <td>6.7</td>\n",
       "      <td>3</td>\n",
       "      <td>0.0</td>\n",
       "    </tr>\n",
       "    <tr>\n",
       "      <th>2019-04-12 22:00:00</th>\n",
       "      <td>170.5</td>\n",
       "      <td>6.07</td>\n",
       "      <td>6.4</td>\n",
       "      <td>3</td>\n",
       "      <td>0.0</td>\n",
       "      <td>6.3</td>\n",
       "      <td>3</td>\n",
       "      <td>0.0</td>\n",
       "    </tr>\n",
       "    <tr>\n",
       "      <th>2019-04-12 23:00:00</th>\n",
       "      <td>171.0</td>\n",
       "      <td>6.07</td>\n",
       "      <td>6.5</td>\n",
       "      <td>3</td>\n",
       "      <td>0.0</td>\n",
       "      <td>6.7</td>\n",
       "      <td>2</td>\n",
       "      <td>0.0</td>\n",
       "    </tr>\n",
       "  </tbody>\n",
       "</table>\n",
       "<p>168 rows × 8 columns</p>\n",
       "</div>"
      ],
      "text/plain": [
       "                     main_level  main_flow  a_temp  a_status  a_rain  c_temp  \\\n",
       "time                                                                           \n",
       "2019-04-06 00:00:00       161.0       4.85     NaN         2     0.0     6.3   \n",
       "2019-04-06 01:00:00       162.0       4.97     4.9         2     0.0     5.6   \n",
       "2019-04-06 02:00:00       161.0       4.85     4.4         2     0.0     4.9   \n",
       "2019-04-06 03:00:00       162.0       4.97     4.0         3     0.0     4.3   \n",
       "2019-04-06 04:00:00       161.0       4.85     3.3         3     0.0     3.5   \n",
       "...                         ...        ...     ...       ...     ...     ...   \n",
       "2019-04-12 19:00:00       169.0       5.82     7.5         3     0.0     7.2   \n",
       "2019-04-12 20:00:00       170.0       5.95     7.0         3     0.0     6.8   \n",
       "2019-04-12 21:00:00       170.0       5.95     6.8         3     0.0     6.7   \n",
       "2019-04-12 22:00:00       170.5       6.07     6.4         3     0.0     6.3   \n",
       "2019-04-12 23:00:00       171.0       6.07     6.5         3     0.0     6.7   \n",
       "\n",
       "                     c_status  c_rain  \n",
       "time                                   \n",
       "2019-04-06 00:00:00         2     0.0  \n",
       "2019-04-06 01:00:00         2     0.0  \n",
       "2019-04-06 02:00:00         2     0.0  \n",
       "2019-04-06 03:00:00         2     0.0  \n",
       "2019-04-06 04:00:00         3     0.0  \n",
       "...                       ...     ...  \n",
       "2019-04-12 19:00:00         3     0.0  \n",
       "2019-04-12 20:00:00         3     0.0  \n",
       "2019-04-12 21:00:00         3     0.0  \n",
       "2019-04-12 22:00:00         3     0.0  \n",
       "2019-04-12 23:00:00         2     0.0  \n",
       "\n",
       "[168 rows x 8 columns]"
      ]
     },
     "execution_count": 50,
     "metadata": {},
     "output_type": "execute_result"
    }
   ],
   "source": [
    "all_stations = station_main.join(station_a.join(station_c, how=\"inner\", rsuffix=\"_from_c\"), how=\"inner\")\n",
    "all_stations.columns = [\"main_level\", \"main_flow\", \"a_temp\", \"a_status\", \"a_rain\", \"c_temp\", \"c_status\", \"c_rain\"]\n",
    "all_stations"
   ]
  },
  {
   "cell_type": "code",
   "execution_count": 51,
   "metadata": {},
   "outputs": [
    {
     "data": {
      "text/plain": [
       "main_level    0\n",
       "main_flow     0\n",
       "a_temp        1\n",
       "a_status      0\n",
       "a_rain        0\n",
       "c_temp        0\n",
       "c_status      0\n",
       "c_rain        0\n",
       "dtype: int64"
      ]
     },
     "execution_count": 51,
     "metadata": {},
     "output_type": "execute_result"
    }
   ],
   "source": [
    "np.sum(pd.isna(all_stations))"
   ]
  },
  {
   "cell_type": "markdown",
   "metadata": {},
   "source": [
    "# Output\n",
    "\n",
    "Write the preprocessed files."
   ]
  },
  {
   "cell_type": "code",
   "execution_count": 53,
   "metadata": {},
   "outputs": [
    {
     "data": {
      "text/html": [
       "<div>\n",
       "<style scoped>\n",
       "    .dataframe tbody tr th:only-of-type {\n",
       "        vertical-align: middle;\n",
       "    }\n",
       "\n",
       "    .dataframe tbody tr th {\n",
       "        vertical-align: top;\n",
       "    }\n",
       "\n",
       "    .dataframe thead th {\n",
       "        text-align: right;\n",
       "    }\n",
       "</style>\n",
       "<table border=\"1\" class=\"dataframe\">\n",
       "  <thead>\n",
       "    <tr style=\"text-align: right;\">\n",
       "      <th></th>\n",
       "      <th>main_level</th>\n",
       "      <th>main_flow</th>\n",
       "      <th>a_temp</th>\n",
       "      <th>a_status</th>\n",
       "      <th>a_rain</th>\n",
       "      <th>c_temp</th>\n",
       "      <th>c_status</th>\n",
       "      <th>c_rain</th>\n",
       "    </tr>\n",
       "    <tr>\n",
       "      <th>time</th>\n",
       "      <th></th>\n",
       "      <th></th>\n",
       "      <th></th>\n",
       "      <th></th>\n",
       "      <th></th>\n",
       "      <th></th>\n",
       "      <th></th>\n",
       "      <th></th>\n",
       "    </tr>\n",
       "  </thead>\n",
       "  <tbody>\n",
       "    <tr>\n",
       "      <th>2019-04-06 00:00:00</th>\n",
       "      <td>161.0</td>\n",
       "      <td>4.85</td>\n",
       "      <td>NaN</td>\n",
       "      <td>2</td>\n",
       "      <td>0.0</td>\n",
       "      <td>6.3</td>\n",
       "      <td>2</td>\n",
       "      <td>0.0</td>\n",
       "    </tr>\n",
       "    <tr>\n",
       "      <th>2019-04-06 01:00:00</th>\n",
       "      <td>162.0</td>\n",
       "      <td>4.97</td>\n",
       "      <td>4.9</td>\n",
       "      <td>2</td>\n",
       "      <td>0.0</td>\n",
       "      <td>5.6</td>\n",
       "      <td>2</td>\n",
       "      <td>0.0</td>\n",
       "    </tr>\n",
       "    <tr>\n",
       "      <th>2019-04-06 02:00:00</th>\n",
       "      <td>161.0</td>\n",
       "      <td>4.85</td>\n",
       "      <td>4.4</td>\n",
       "      <td>2</td>\n",
       "      <td>0.0</td>\n",
       "      <td>4.9</td>\n",
       "      <td>2</td>\n",
       "      <td>0.0</td>\n",
       "    </tr>\n",
       "    <tr>\n",
       "      <th>2019-04-06 03:00:00</th>\n",
       "      <td>162.0</td>\n",
       "      <td>4.97</td>\n",
       "      <td>4.0</td>\n",
       "      <td>3</td>\n",
       "      <td>0.0</td>\n",
       "      <td>4.3</td>\n",
       "      <td>2</td>\n",
       "      <td>0.0</td>\n",
       "    </tr>\n",
       "    <tr>\n",
       "      <th>2019-04-06 04:00:00</th>\n",
       "      <td>161.0</td>\n",
       "      <td>4.85</td>\n",
       "      <td>3.3</td>\n",
       "      <td>3</td>\n",
       "      <td>0.0</td>\n",
       "      <td>3.5</td>\n",
       "      <td>3</td>\n",
       "      <td>0.0</td>\n",
       "    </tr>\n",
       "    <tr>\n",
       "      <th>...</th>\n",
       "      <td>...</td>\n",
       "      <td>...</td>\n",
       "      <td>...</td>\n",
       "      <td>...</td>\n",
       "      <td>...</td>\n",
       "      <td>...</td>\n",
       "      <td>...</td>\n",
       "      <td>...</td>\n",
       "    </tr>\n",
       "    <tr>\n",
       "      <th>2019-04-12 19:00:00</th>\n",
       "      <td>169.0</td>\n",
       "      <td>5.82</td>\n",
       "      <td>7.5</td>\n",
       "      <td>3</td>\n",
       "      <td>0.0</td>\n",
       "      <td>7.2</td>\n",
       "      <td>3</td>\n",
       "      <td>0.0</td>\n",
       "    </tr>\n",
       "    <tr>\n",
       "      <th>2019-04-12 20:00:00</th>\n",
       "      <td>170.0</td>\n",
       "      <td>5.95</td>\n",
       "      <td>7.0</td>\n",
       "      <td>3</td>\n",
       "      <td>0.0</td>\n",
       "      <td>6.8</td>\n",
       "      <td>3</td>\n",
       "      <td>0.0</td>\n",
       "    </tr>\n",
       "    <tr>\n",
       "      <th>2019-04-12 21:00:00</th>\n",
       "      <td>170.0</td>\n",
       "      <td>5.95</td>\n",
       "      <td>6.8</td>\n",
       "      <td>3</td>\n",
       "      <td>0.0</td>\n",
       "      <td>6.7</td>\n",
       "      <td>3</td>\n",
       "      <td>0.0</td>\n",
       "    </tr>\n",
       "    <tr>\n",
       "      <th>2019-04-12 22:00:00</th>\n",
       "      <td>170.5</td>\n",
       "      <td>6.07</td>\n",
       "      <td>6.4</td>\n",
       "      <td>3</td>\n",
       "      <td>0.0</td>\n",
       "      <td>6.3</td>\n",
       "      <td>3</td>\n",
       "      <td>0.0</td>\n",
       "    </tr>\n",
       "    <tr>\n",
       "      <th>2019-04-12 23:00:00</th>\n",
       "      <td>171.0</td>\n",
       "      <td>6.07</td>\n",
       "      <td>6.5</td>\n",
       "      <td>3</td>\n",
       "      <td>0.0</td>\n",
       "      <td>6.7</td>\n",
       "      <td>2</td>\n",
       "      <td>0.0</td>\n",
       "    </tr>\n",
       "  </tbody>\n",
       "</table>\n",
       "<p>168 rows × 8 columns</p>\n",
       "</div>"
      ],
      "text/plain": [
       "                     main_level  main_flow  a_temp  a_status  a_rain  c_temp  \\\n",
       "time                                                                           \n",
       "2019-04-06 00:00:00       161.0       4.85     NaN         2     0.0     6.3   \n",
       "2019-04-06 01:00:00       162.0       4.97     4.9         2     0.0     5.6   \n",
       "2019-04-06 02:00:00       161.0       4.85     4.4         2     0.0     4.9   \n",
       "2019-04-06 03:00:00       162.0       4.97     4.0         3     0.0     4.3   \n",
       "2019-04-06 04:00:00       161.0       4.85     3.3         3     0.0     3.5   \n",
       "...                         ...        ...     ...       ...     ...     ...   \n",
       "2019-04-12 19:00:00       169.0       5.82     7.5         3     0.0     7.2   \n",
       "2019-04-12 20:00:00       170.0       5.95     7.0         3     0.0     6.8   \n",
       "2019-04-12 21:00:00       170.0       5.95     6.8         3     0.0     6.7   \n",
       "2019-04-12 22:00:00       170.5       6.07     6.4         3     0.0     6.3   \n",
       "2019-04-12 23:00:00       171.0       6.07     6.5         3     0.0     6.7   \n",
       "\n",
       "                     c_status  c_rain  \n",
       "time                                   \n",
       "2019-04-06 00:00:00         2     0.0  \n",
       "2019-04-06 01:00:00         2     0.0  \n",
       "2019-04-06 02:00:00         2     0.0  \n",
       "2019-04-06 03:00:00         2     0.0  \n",
       "2019-04-06 04:00:00         3     0.0  \n",
       "...                       ...     ...  \n",
       "2019-04-12 19:00:00         3     0.0  \n",
       "2019-04-12 20:00:00         3     0.0  \n",
       "2019-04-12 21:00:00         3     0.0  \n",
       "2019-04-12 22:00:00         3     0.0  \n",
       "2019-04-12 23:00:00         2     0.0  \n",
       "\n",
       "[168 rows x 8 columns]"
      ]
     },
     "execution_count": 53,
     "metadata": {},
     "output_type": "execute_result"
    }
   ],
   "source": [
    "# all_stations\n",
    "all_stations.to_csv(file_all_station)\n",
    "all_stations\n",
    "# station_a.to_csv(\"preprocessed_station_a.csv\")\n",
    "# station_c.to_csv(\"preprocessed_station_c.csv\")\n",
    "# station_main.to_csv(\"preprocessed_station_main.csv\")\n",
    "# all_stations.to_csv(\"preprocessed_stations.csv\")"
   ]
  },
  {
   "cell_type": "code",
   "execution_count": null,
   "metadata": {},
   "outputs": [],
   "source": []
  }
 ],
 "metadata": {
  "kernelspec": {
   "display_name": "Python 3",
   "language": "python",
   "name": "python3"
  },
  "language_info": {
   "codemirror_mode": {
    "name": "ipython",
    "version": 3
   },
   "file_extension": ".py",
   "mimetype": "text/x-python",
   "name": "python",
   "nbconvert_exporter": "python",
   "pygments_lexer": "ipython3",
   "version": "3.8.5"
  }
 },
 "nbformat": 4,
 "nbformat_minor": 4
}
