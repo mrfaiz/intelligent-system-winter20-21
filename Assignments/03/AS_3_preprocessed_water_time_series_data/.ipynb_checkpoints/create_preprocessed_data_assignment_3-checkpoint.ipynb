{
 "cells": [
  {
   "cell_type": "code",
   "execution_count": null,
   "metadata": {},
   "outputs": [],
   "source": [
    "import pandas as pd\n",
    "import numpy as np"
   ]
  },
  {
   "cell_type": "code",
   "execution_count": null,
   "metadata": {},
   "outputs": [],
   "source": [
    "station_a = pd.read_csv(\"station_a.csv\", index_col=\"time\", parse_dates=True)\n",
    "station_c = pd.read_csv(\"station_c.csv\", index_col=\"time\", parse_dates=True)\n",
    "station_main = pd.read_csv(\"station_main.csv\", index_col=\"time\", parse_dates=True)"
   ]
  },
  {
   "cell_type": "code",
   "execution_count": null,
   "metadata": {},
   "outputs": [],
   "source": [
    "station_a.describe()"
   ]
  },
  {
   "cell_type": "code",
   "execution_count": null,
   "metadata": {},
   "outputs": [],
   "source": [
    "station_a.info()"
   ]
  },
  {
   "cell_type": "markdown",
   "metadata": {},
   "source": [
    "# Range Check\n",
    "\n",
    "## station_main (Willenscharen)"
   ]
  },
  {
   "cell_type": "code",
   "execution_count": null,
   "metadata": {},
   "outputs": [],
   "source": [
    "station_main.level_cm.plot()"
   ]
  },
  {
   "cell_type": "code",
   "execution_count": null,
   "metadata": {},
   "outputs": [],
   "source": [
    "station_main.flow_m3_s.plot()"
   ]
  },
  {
   "cell_type": "code",
   "execution_count": null,
   "metadata": {},
   "outputs": [],
   "source": [
    "print(min(station_main.level_cm), min(station_main.flow_m3_s))"
   ]
  },
  {
   "cell_type": "markdown",
   "metadata": {},
   "source": [
    "Logically, both water level and water have to be positive. This is the case here. Otherwise, negative values would be marked as missing value (NaN)."
   ]
  },
  {
   "cell_type": "markdown",
   "metadata": {},
   "source": [
    "## Station A (Padenstedt) and Station C (Itzehoe)\n",
    "\n",
    "### rain_mm\n",
    "\n",
    "This attribute describes precipitation (snow and in Schleswig-Holstein mostly rain). Has to be positive."
   ]
  },
  {
   "cell_type": "code",
   "execution_count": null,
   "metadata": {},
   "outputs": [],
   "source": [
    "print(station_a.rain_mm.describe())\n",
    "station_a.rain_mm.plot()"
   ]
  },
  {
   "cell_type": "code",
   "execution_count": null,
   "metadata": {},
   "outputs": [],
   "source": [
    "print(station_c.rain_mm.describe())\n",
    "print(station_c.rain_mm.plot())"
   ]
  },
  {
   "cell_type": "markdown",
   "metadata": {},
   "source": [
    "Both rain levels have some fixed value -999. These are assumed to be missing values:"
   ]
  },
  {
   "cell_type": "code",
   "execution_count": null,
   "metadata": {},
   "outputs": [],
   "source": [
    "station_a.isna().sum()"
   ]
  },
  {
   "cell_type": "code",
   "execution_count": null,
   "metadata": {},
   "outputs": [],
   "source": [
    "station_a.loc[station_a.rain_mm < 0, \"rain_mm\"] = np.nan\n",
    "station_c.loc[station_c.rain_mm < 0, \"rain_mm\"] = np.nan"
   ]
  },
  {
   "cell_type": "markdown",
   "metadata": {},
   "source": [
    "### temp_c\n",
    "\n",
    "This attribute describes the air temperature. A sensible range to check for are based on the min. and max. temperature ever recorded in Germany: [-40°C, 42°C]\n",
    "\n",
    "(see <https://de.wikipedia.org/wiki/Liste_der_Temperaturrekorde_in_Deutschland#Hitzerekorde>):"
   ]
  },
  {
   "cell_type": "code",
   "execution_count": null,
   "metadata": {},
   "outputs": [],
   "source": [
    "print(station_a.temp_c.describe())\n",
    "station_a.temp_c.plot()"
   ]
  },
  {
   "cell_type": "code",
   "execution_count": null,
   "metadata": {},
   "outputs": [],
   "source": [
    "print(station_c.temp_c.describe())\n",
    "station_c.temp_c.plot()"
   ]
  },
  {
   "cell_type": "markdown",
   "metadata": {},
   "source": [
    "Station A is fine, but Station C has - like with the precipitation - a articifcal value of -999 which we interpret as missing value:"
   ]
  },
  {
   "cell_type": "code",
   "execution_count": null,
   "metadata": {},
   "outputs": [],
   "source": [
    "station_c.loc[station_c.temp_c < -40, \"temp_c\"] = np.nan"
   ]
  },
  {
   "cell_type": "markdown",
   "metadata": {},
   "source": [
    "# Missing Values\n",
    "\n",
    "All attributes show missing values:"
   ]
  },
  {
   "cell_type": "code",
   "execution_count": null,
   "metadata": {},
   "outputs": [],
   "source": [
    "print(station_a.isna().sum())\n",
    "print()\n",
    "print(station_c.isna().sum())\n",
    "print()\n",
    "print(station_main.isna().sum())"
   ]
  },
  {
   "cell_type": "markdown",
   "metadata": {},
   "source": [
    "For the categorical attribute status we use forward filling - without any limitation on how many consecutive NaNs can be replaced at a time."
   ]
  },
  {
   "cell_type": "code",
   "execution_count": null,
   "metadata": {},
   "outputs": [],
   "source": [
    "station_a.status.interpolate(method=\"pad\", inplace=True)\n",
    "station_c.status.interpolate(method=\"pad\", inplace=True)"
   ]
  },
  {
   "cell_type": "markdown",
   "metadata": {},
   "source": [
    "For the numerical attributes we use linear interpolation"
   ]
  },
  {
   "cell_type": "code",
   "execution_count": null,
   "metadata": {},
   "outputs": [],
   "source": [
    "station_a.temp_c.interpolate(method=\"linear\", inplace=True)\n",
    "station_c.temp_c.interpolate(method=\"linear\", inplace=True)\n",
    "\n",
    "station_a.rain_mm.interpolate(method=\"linear\", inplace=True)\n",
    "station_c.rain_mm.interpolate(method=\"linear\", inplace=True)\n",
    "\n",
    "station_main.level_cm.interpolate(method=\"linear\", inplace=True)\n",
    "station_main.flow_m3_s.interpolate(method=\"linear\", inplace=True)"
   ]
  },
  {
   "cell_type": "markdown",
   "metadata": {},
   "source": [
    "# Scaling\n",
    "\n",
    "## Time Domain\n",
    "\n",
    "The sampling interval is the same for all station (hourly, starting at 00:00 every day). Scaling in the time domain is not required.\n",
    "\n",
    "## Value Domain\n",
    "\n",
    "No scaling (yet).\n",
    "\n",
    "Scaling due to different value ranges is not necessary (same for rain resp. temp in station A and C) and _level_cm_ is independet from _rain_mm_.\n",
    "\n",
    "Using normalisation or standardisation for feature scaling depends on the technqiues in following stages. When using Scikit-Learn you can use a transformer called MinMaxScaler for Normalization and one called StandardScaler for standardisation."
   ]
  },
  {
   "cell_type": "markdown",
   "metadata": {},
   "source": [
    "# Encoding\n",
    "\n",
    "Status represents increasing humidity at the station A and station B. Therefore it will rank-based encoded:"
   ]
  },
  {
   "cell_type": "code",
   "execution_count": null,
   "metadata": {},
   "outputs": [],
   "source": [
    "# Encode the status\n",
    "station_a.status = pd.Categorical(station_a.status, categories = [\"low\", \"decreased\", \"normal\", \"increased\", \"max\"]).codes\n",
    "station_c.status = pd.Categorical(station_c.status, categories = [\"low\", \"decreased\", \"normal\", \"increased\", \"max\"]).codes"
   ]
  },
  {
   "cell_type": "markdown",
   "metadata": {},
   "source": [
    "# Final Plots / Stats\n",
    "\n",
    "## Station Main"
   ]
  },
  {
   "cell_type": "code",
   "execution_count": null,
   "metadata": {
    "scrolled": true
   },
   "outputs": [],
   "source": [
    "print(station_main.describe())\n",
    "station_main.level_cm.plot()"
   ]
  },
  {
   "cell_type": "code",
   "execution_count": null,
   "metadata": {},
   "outputs": [],
   "source": [
    "station_main.flow_m3_s.plot()"
   ]
  },
  {
   "cell_type": "markdown",
   "metadata": {},
   "source": [
    "## Station A and Station C"
   ]
  },
  {
   "cell_type": "code",
   "execution_count": null,
   "metadata": {},
   "outputs": [],
   "source": [
    "print(station_a.describe())\n",
    "print()\n",
    "print(station_c.describe())"
   ]
  },
  {
   "cell_type": "code",
   "execution_count": null,
   "metadata": {},
   "outputs": [],
   "source": [
    "station_a.temp_c.plot()\n",
    "station_c.temp_c.plot()"
   ]
  },
  {
   "cell_type": "code",
   "execution_count": null,
   "metadata": {},
   "outputs": [],
   "source": [
    "station_a.rain_mm.plot()\n",
    "station_c.rain_mm.plot()"
   ]
  },
  {
   "cell_type": "markdown",
   "metadata": {},
   "source": [
    "## Combined Data\n",
    "\n",
    "Combine the 3 stations using an inner join on index (the datetime) incl. new column names."
   ]
  },
  {
   "cell_type": "code",
   "execution_count": null,
   "metadata": {},
   "outputs": [],
   "source": [
    "all_stations = station_main.join(station_a.join(station_c, how=\"inner\", rsuffix=\"_from_c\"), how=\"inner\")\n",
    "all_stations.columns = [\"main_level\", \"main_flow\", \"a_temp\", \"a_status\", \"a_rain\", \"c_temp\", \"c_status\", \"c_rain\"]\n",
    "all_stations"
   ]
  },
  {
   "cell_type": "code",
   "execution_count": null,
   "metadata": {},
   "outputs": [],
   "source": [
    "np.sum(pd.isna(all_stations))"
   ]
  },
  {
   "cell_type": "markdown",
   "metadata": {},
   "source": [
    "# Output\n",
    "\n",
    "Write the preprocessed files."
   ]
  },
  {
   "cell_type": "code",
   "execution_count": null,
   "metadata": {},
   "outputs": [],
   "source": [
    "station_a.to_csv(\"preprocessed_station_a.csv\")\n",
    "station_c.to_csv(\"preprocessed_station_c.csv\")\n",
    "station_main.to_csv(\"preprocessed_station_main.csv\")\n",
    "all_stations.to_csv(\"preprocessed_stations.csv\")"
   ]
  }
 ],
 "metadata": {
  "kernelspec": {
   "display_name": "Python 3",
   "language": "python",
   "name": "python3"
  },
  "language_info": {
   "codemirror_mode": {
    "name": "ipython",
    "version": 3
   },
   "file_extension": ".py",
   "mimetype": "text/x-python",
   "name": "python",
   "nbconvert_exporter": "python",
   "pygments_lexer": "ipython3",
   "version": "3.8.5"
  }
 },
 "nbformat": 4,
 "nbformat_minor": 4
}
