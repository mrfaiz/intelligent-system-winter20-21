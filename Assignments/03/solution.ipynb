{
 "cells": [
  {
   "cell_type": "markdown",
   "metadata": {},
   "source": [
    "## Naive Regression procedure"
   ]
  },
  {
   "cell_type": "code",
   "execution_count": 21,
   "metadata": {},
   "outputs": [],
   "source": [
    "import pandas as pd\n",
    "import numpy as np\n",
    "import pickle\n",
    "\n",
    "from sklearn.model_selection import train_test_split\n",
    "from sklearn.decomposition import PCA\n",
    "from sklearn.preprocessing import StandardScaler\n",
    "from sklearn.linear_model import LinearRegression\n",
    "from sklearn.neighbors import KNeighborsClassifier\n",
    "from matplotlib import pyplot as plt\n"
   ]
  },
  {
   "cell_type": "code",
   "execution_count": 22,
   "metadata": {},
   "outputs": [],
   "source": [
    "def create_X_y(df):\n",
    "    \"\"\"\n",
    "\tX has the following format:\n",
    "\tOne week per row\n",
    "\trow == sample\n",
    "\t9 sensor values (including timestamps) * 24 h * 7 days = 1512 entries per sample\n",
    "\n",
    "\t[t_0, w_station_A(t_0), w_station_B(t_0), w_station_C(t_0), \n",
    "\t t_1, w_station_A(t_1), w_station_B(t_1), w_station_C(t_1), \n",
    "\t \n",
    "\t t_N, w_station_A(t_N), w_station_B(t_N), w_station_C(t_N)] \n",
    "\n",
    "\n",
    "\t\"\"\"\n",
    "    timestamps = df.shape[0]\n",
    "    \n",
    "    prediction_timestamps = 24\n",
    "    prediction_step = 3\n",
    "    \n",
    "    timestamps_per_week = 24 * 7\n",
    "    samples = timestamps - timestamps_per_week - prediction_timestamps\n",
    "\n",
    "    X = []\n",
    "    y = []\n",
    "    for i in range(samples):\n",
    "        X.append(df[i:i+timestamps_per_week].to_numpy().flatten())\n",
    "        y.append(df['main_level'].iloc[i + timestamps_per_week : \n",
    "                                       i + timestamps_per_week + prediction_timestamps : \n",
    "                                           prediction_step])\n",
    "    X = np.array(X)\n",
    "    y = np.array(y)\n",
    "    return X, y\n",
    "\n",
    "\n",
    "\n",
    "\n",
    "\n",
    "def get_sample_dataframe(X, index):\n",
    "    \n",
    "    assert 0 <= index <= X.shape[0]\n",
    "    \n",
    "    sample_mat = X[index].reshape((24*7,9))\n",
    "    sample_df = pd.DataFrame(sample_mat[:, 1:], index=sample_mat[:,0])\n",
    "\n",
    "    return sample_df\n",
    "\n",
    "def plot_in_2d(X, title=None):\n",
    "    pca = PCA(n_components=2)\n",
    "    pca.fit(X)\n",
    "    X_2d = pca.transform(X)\n",
    "    plt.scatter(X_2d[:,0], X_2d[:,1])\n",
    "    \n",
    "    if title is not None:\n",
    "        plt.title(title)\n",
    "    plt.show()    \n",
    "    \n",
    "# Root Mean Square Error\n",
    "def rmse(y_pred, y_true):  \n",
    "    return np.sqrt(np.mean((y_pred - y_true)**2))"
   ]
  },
  {
   "cell_type": "markdown",
   "metadata": {},
   "source": [
    "#### Load data in ML representation X, y"
   ]
  },
  {
   "cell_type": "code",
   "execution_count": 23,
   "metadata": {},
   "outputs": [],
   "source": [
    "sample_df = pd.read_csv(\"./preprocessed_stations.csv\")\n",
    "# sample_df"
   ]
  },
  {
   "cell_type": "code",
   "execution_count": 24,
   "metadata": {},
   "outputs": [],
   "source": [
    "X, y = create_X_y(sample_df)\n",
    "\n",
    "# Remove timestamps\n",
    "X = np.delete(X, slice(0, X.shape[1], 9), axis=1)\n",
    "# X"
   ]
  },
  {
   "cell_type": "markdown",
   "metadata": {},
   "source": [
    "#### 1. Split Train and Test set\n",
    "#### 2. Reduce Dimensions via PCA\n",
    "#### 3. Train LinearRegression Model on Training Set\n",
    "#### 4. Test LinearRegression Model on Test Set"
   ]
  },
  {
   "cell_type": "code",
   "execution_count": 25,
   "metadata": {},
   "outputs": [],
   "source": [
    "#1\n",
    "X_train, X_test, y_train, y_test = train_test_split(X, y, test_size=0.25)\n",
    "# plot_in_2d(X, title='Train set raw')\n",
    "\n",
    "#2\n",
    "# dim_reducer = PCA(n_components=10).fit(X_train)\n",
    "# X_train = dim_reducer.transform(X_train)\n",
    "\n",
    "# plot_in_2d(X_train, title='Train set scaled to unit variance and zero-mean and reduced dimensions to 10')\n",
    "# X_test"
   ]
  },
  {
   "cell_type": "markdown",
   "metadata": {},
   "source": [
    "### LinearRegression"
   ]
  },
  {
   "cell_type": "code",
   "execution_count": 31,
   "metadata": {},
   "outputs": [
    {
     "data": {
      "text/plain": [
       "6.051080583425276"
      ]
     },
     "execution_count": 31,
     "metadata": {},
     "output_type": "execute_result"
    }
   ],
   "source": [
    "#3\n",
    "l_reg = LinearRegression()\n",
    "l_reg.fit(X_train, y_train)\n",
    "\n",
    "#4 make predictions on the testing set\n",
    "# y_pred = l_reg.predict(dim_reducer.transform(X_test))\n",
    "\n",
    "y_pred = l_reg.predict(X_test)\n",
    "# compare actual response values (y_test) with predicted response values (y_pred)\n",
    "rmse_result = rmse(y_pred, y_test)\n",
    "rmse_result"
   ]
  },
  {
   "cell_type": "markdown",
   "metadata": {},
   "source": [
    "### DecisionTreeRegressor"
   ]
  },
  {
   "cell_type": "code",
   "execution_count": 32,
   "metadata": {},
   "outputs": [
    {
     "name": "stdout",
     "output_type": "stream",
     "text": [
      "5.956772382046346\n"
     ]
    }
   ],
   "source": [
    "from sklearn.tree import DecisionTreeRegressor\n",
    "\n",
    "dtr = DecisionTreeRegressor()\n",
    "dtr.fit(X_train, y_train)\n",
    "\n",
    "# score = dtr.score(X_train, y_train)\n",
    "\n",
    "# dtr_y_pred = dtr.predict(dim_reducer.transform(X_test))\n",
    "dtr_y_pred = dtr.predict(X_test)\n",
    "# compare actual response values (y_test) with predicted response values (y_pred)\n",
    "print(rmse(dtr_y_pred, y_test))\n"
   ]
  },
  {
   "cell_type": "markdown",
   "metadata": {},
   "source": [
    "### RandomForestRegressor"
   ]
  },
  {
   "cell_type": "code",
   "execution_count": 33,
   "metadata": {},
   "outputs": [
    {
     "name": "stdout",
     "output_type": "stream",
     "text": [
      "6.230927646988502\n"
     ]
    }
   ],
   "source": [
    "from sklearn.ensemble import RandomForestRegressor\n",
    "\n",
    "rfr = DecisionTreeRegressor()\n",
    "rfr.fit(X_train, y_train)\n",
    "\n",
    "# score = dtr.score(X_train, y_train)\n",
    "\n",
    "# rfr_y_pred = rfr.predict(dim_reducer.transform(X_test))\n",
    "rfr_y_pred = rfr.predict(X_test)\n",
    "# compare actual response values (y_test) with predicted response values (y_pred)\n",
    "print(rmse(rfr_y_pred, y_test))\n"
   ]
  },
  {
   "cell_type": "markdown",
   "metadata": {},
   "source": [
    "The **RMSE decreased** when we use **DecisionTreeRegressor** as model. (Error is something we want to minimize, so **a lower number for RMSE is better**.)\n",
    "\n",
    "RMSE\n",
    "LinearRegression = 6.051080583425276\n",
    "\n",
    "DecisionTreeRegressor = 5.956772382046346\n",
    "\n",
    "RandomForestRegressor = 6.230927646988502\n"
   ]
  },
  {
   "cell_type": "markdown",
   "metadata": {},
   "source": [
    "\n"
   ]
  },
  {
   "cell_type": "markdown",
   "metadata": {},
   "source": [
    "### Persist the model\n",
    "\n",
    "For the evaluation the persited model will used by calling _obj.predict(X)_ on the target data.\n",
    "\n",
    "The data will be in the _ML representation X,y_ format above - as returned by the function _create_X_y()_."
   ]
  },
  {
   "cell_type": "code",
   "execution_count": 34,
   "metadata": {},
   "outputs": [],
   "source": [
    "pickle.dump(dtr, open(\"model.obj\", \"wb\"))"
   ]
  },
  {
   "cell_type": "code",
   "execution_count": 30,
   "metadata": {},
   "outputs": [],
   "source": [
    "# model_obj = pickle.load(\"model.obj\")"
   ]
  },
  {
   "cell_type": "markdown",
   "metadata": {},
   "source": [
    "# Verify Input Data"
   ]
  },
  {
   "cell_type": "code",
   "execution_count": null,
   "metadata": {},
   "outputs": [],
   "source": []
  }
 ],
 "metadata": {
  "kernelspec": {
   "display_name": "Python 3",
   "language": "python",
   "name": "python3"
  },
  "language_info": {
   "codemirror_mode": {
    "name": "ipython",
    "version": 3
   },
   "file_extension": ".py",
   "mimetype": "text/x-python",
   "name": "python",
   "nbconvert_exporter": "python",
   "pygments_lexer": "ipython3",
   "version": "3.8.5"
  }
 },
 "nbformat": 4,
 "nbformat_minor": 4
}
