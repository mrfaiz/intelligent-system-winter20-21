{
 "cells": [
  {
   "cell_type": "markdown",
   "metadata": {},
   "source": [
    "## Naive Regression procedure"
   ]
  },
  {
   "cell_type": "code",
   "execution_count": 22,
   "metadata": {},
   "outputs": [],
   "source": [
    "import pandas as pd\n",
    "import numpy as np\n",
    "import pickle\n",
    "\n",
    "from sklearn.model_selection import train_test_split\n",
    "from sklearn.decomposition import PCA\n",
    "from sklearn.preprocessing import StandardScaler\n",
    "from sklearn.linear_model import LinearRegression\n",
    "from sklearn.neighbors import KNeighborsClassifier\n",
    "from matplotlib import pyplot as plt\n"
   ]
  },
  {
   "cell_type": "code",
   "execution_count": 23,
   "metadata": {},
   "outputs": [],
   "source": [
    "def create_X_y(df):\n",
    "    \"\"\"\n",
    "\tX has the following format:\n",
    "\tOne week per row\n",
    "\trow == sample\n",
    "\t9 sensor values (including timestamps) * 24 h * 7 days = 1512 entries per sample\n",
    "\n",
    "\t[t_0, w_station_A(t_0), w_station_B(t_0), w_station_C(t_0), \n",
    "\t t_1, w_station_A(t_1), w_station_B(t_1), w_station_C(t_1), \n",
    "\t \n",
    "\t t_N, w_station_A(t_N), w_station_B(t_N), w_station_C(t_N)] \n",
    "\n",
    "\n",
    "\t\"\"\"\n",
    "    timestamps = df.shape[0]\n",
    "    \n",
    "    prediction_timestamps = 24\n",
    "    prediction_step = 3\n",
    "    \n",
    "    timestamps_per_week = 24 * 7\n",
    "    samples = timestamps - timestamps_per_week - prediction_timestamps\n",
    "\n",
    "    X = []\n",
    "    y = []\n",
    "    for i in range(samples):\n",
    "        X.append(df[i:i+timestamps_per_week].to_numpy().flatten())\n",
    "        y.append(df['main_level'].iloc[i + timestamps_per_week : \n",
    "                                       i + timestamps_per_week + prediction_timestamps : \n",
    "                                           prediction_step])\n",
    "    X = np.array(X)\n",
    "    y = np.array(y)\n",
    "    return X, y\n",
    "\n",
    "\n",
    "\n",
    "\n",
    "\n",
    "def get_sample_dataframe(X, index):\n",
    "    \n",
    "    assert 0 <= index <= X.shape[0]\n",
    "    \n",
    "    sample_mat = X[index].reshape((24*7,9))\n",
    "    sample_df = pd.DataFrame(sample_mat[:, 1:], index=sample_mat[:,0])\n",
    "\n",
    "    return sample_df\n",
    "\n",
    "def plot_in_2d(X, title=None):\n",
    "    pca = PCA(n_components=2)\n",
    "    pca.fit(X)\n",
    "    X_2d = pca.transform(X)\n",
    "    plt.scatter(X_2d[:,0], X_2d[:,1])\n",
    "    \n",
    "    if title is not None:\n",
    "        plt.title(title)\n",
    "    plt.show()    \n",
    "    \n",
    "# Root Mean Square Error\n",
    "def rmse(y_pred, y_true):  \n",
    "    return np.sqrt(np.mean((y_pred - y_true)**2))"
   ]
  },
  {
   "cell_type": "markdown",
   "metadata": {},
   "source": [
    "#### Load data in ML representation X, y"
   ]
  },
  {
   "cell_type": "code",
   "execution_count": 24,
   "metadata": {},
   "outputs": [
    {
     "data": {
      "text/html": [
       "<div>\n",
       "<style scoped>\n",
       "    .dataframe tbody tr th:only-of-type {\n",
       "        vertical-align: middle;\n",
       "    }\n",
       "\n",
       "    .dataframe tbody tr th {\n",
       "        vertical-align: top;\n",
       "    }\n",
       "\n",
       "    .dataframe thead th {\n",
       "        text-align: right;\n",
       "    }\n",
       "</style>\n",
       "<table border=\"1\" class=\"dataframe\">\n",
       "  <thead>\n",
       "    <tr style=\"text-align: right;\">\n",
       "      <th></th>\n",
       "      <th>time</th>\n",
       "      <th>main_level</th>\n",
       "      <th>main_flow</th>\n",
       "      <th>a_temp</th>\n",
       "      <th>a_status</th>\n",
       "      <th>a_rain</th>\n",
       "      <th>c_temp</th>\n",
       "      <th>c_status</th>\n",
       "      <th>c_rain</th>\n",
       "    </tr>\n",
       "  </thead>\n",
       "  <tbody>\n",
       "    <tr>\n",
       "      <th>0</th>\n",
       "      <td>2014-01-01 01:00:00</td>\n",
       "      <td>182.0</td>\n",
       "      <td>7.19</td>\n",
       "      <td>2.6</td>\n",
       "      <td>2</td>\n",
       "      <td>0.0</td>\n",
       "      <td>2.8</td>\n",
       "      <td>2</td>\n",
       "      <td>0.0</td>\n",
       "    </tr>\n",
       "    <tr>\n",
       "      <th>1</th>\n",
       "      <td>2014-01-01 02:00:00</td>\n",
       "      <td>182.0</td>\n",
       "      <td>7.19</td>\n",
       "      <td>2.4</td>\n",
       "      <td>2</td>\n",
       "      <td>0.0</td>\n",
       "      <td>2.5</td>\n",
       "      <td>2</td>\n",
       "      <td>0.0</td>\n",
       "    </tr>\n",
       "    <tr>\n",
       "      <th>2</th>\n",
       "      <td>2014-01-01 03:00:00</td>\n",
       "      <td>182.0</td>\n",
       "      <td>7.19</td>\n",
       "      <td>1.9</td>\n",
       "      <td>2</td>\n",
       "      <td>0.0</td>\n",
       "      <td>1.9</td>\n",
       "      <td>2</td>\n",
       "      <td>0.0</td>\n",
       "    </tr>\n",
       "    <tr>\n",
       "      <th>3</th>\n",
       "      <td>2014-01-01 04:00:00</td>\n",
       "      <td>182.0</td>\n",
       "      <td>7.19</td>\n",
       "      <td>2.0</td>\n",
       "      <td>2</td>\n",
       "      <td>0.0</td>\n",
       "      <td>2.1</td>\n",
       "      <td>2</td>\n",
       "      <td>0.0</td>\n",
       "    </tr>\n",
       "    <tr>\n",
       "      <th>4</th>\n",
       "      <td>2014-01-01 05:00:00</td>\n",
       "      <td>182.0</td>\n",
       "      <td>7.19</td>\n",
       "      <td>1.7</td>\n",
       "      <td>2</td>\n",
       "      <td>0.0</td>\n",
       "      <td>2.1</td>\n",
       "      <td>2</td>\n",
       "      <td>0.0</td>\n",
       "    </tr>\n",
       "    <tr>\n",
       "      <th>...</th>\n",
       "      <td>...</td>\n",
       "      <td>...</td>\n",
       "      <td>...</td>\n",
       "      <td>...</td>\n",
       "      <td>...</td>\n",
       "      <td>...</td>\n",
       "      <td>...</td>\n",
       "      <td>...</td>\n",
       "      <td>...</td>\n",
       "    </tr>\n",
       "    <tr>\n",
       "      <th>34828</th>\n",
       "      <td>2017-12-31 19:00:00</td>\n",
       "      <td>255.0</td>\n",
       "      <td>15.90</td>\n",
       "      <td>8.9</td>\n",
       "      <td>4</td>\n",
       "      <td>0.1</td>\n",
       "      <td>9.0</td>\n",
       "      <td>4</td>\n",
       "      <td>0.0</td>\n",
       "    </tr>\n",
       "    <tr>\n",
       "      <th>34829</th>\n",
       "      <td>2017-12-31 20:00:00</td>\n",
       "      <td>259.0</td>\n",
       "      <td>16.40</td>\n",
       "      <td>8.9</td>\n",
       "      <td>4</td>\n",
       "      <td>0.0</td>\n",
       "      <td>9.3</td>\n",
       "      <td>3</td>\n",
       "      <td>0.0</td>\n",
       "    </tr>\n",
       "    <tr>\n",
       "      <th>34830</th>\n",
       "      <td>2017-12-31 21:00:00</td>\n",
       "      <td>263.0</td>\n",
       "      <td>16.90</td>\n",
       "      <td>8.9</td>\n",
       "      <td>4</td>\n",
       "      <td>0.0</td>\n",
       "      <td>9.2</td>\n",
       "      <td>4</td>\n",
       "      <td>0.0</td>\n",
       "    </tr>\n",
       "    <tr>\n",
       "      <th>34831</th>\n",
       "      <td>2017-12-31 22:00:00</td>\n",
       "      <td>268.0</td>\n",
       "      <td>17.50</td>\n",
       "      <td>8.7</td>\n",
       "      <td>4</td>\n",
       "      <td>0.2</td>\n",
       "      <td>8.9</td>\n",
       "      <td>3</td>\n",
       "      <td>0.5</td>\n",
       "    </tr>\n",
       "    <tr>\n",
       "      <th>34832</th>\n",
       "      <td>2017-12-31 23:00:00</td>\n",
       "      <td>272.0</td>\n",
       "      <td>18.00</td>\n",
       "      <td>8.4</td>\n",
       "      <td>4</td>\n",
       "      <td>0.6</td>\n",
       "      <td>8.3</td>\n",
       "      <td>4</td>\n",
       "      <td>1.6</td>\n",
       "    </tr>\n",
       "  </tbody>\n",
       "</table>\n",
       "<p>34833 rows × 9 columns</p>\n",
       "</div>"
      ],
      "text/plain": [
       "                      time  main_level  main_flow  a_temp  a_status  a_rain  \\\n",
       "0      2014-01-01 01:00:00       182.0       7.19     2.6         2     0.0   \n",
       "1      2014-01-01 02:00:00       182.0       7.19     2.4         2     0.0   \n",
       "2      2014-01-01 03:00:00       182.0       7.19     1.9         2     0.0   \n",
       "3      2014-01-01 04:00:00       182.0       7.19     2.0         2     0.0   \n",
       "4      2014-01-01 05:00:00       182.0       7.19     1.7         2     0.0   \n",
       "...                    ...         ...        ...     ...       ...     ...   \n",
       "34828  2017-12-31 19:00:00       255.0      15.90     8.9         4     0.1   \n",
       "34829  2017-12-31 20:00:00       259.0      16.40     8.9         4     0.0   \n",
       "34830  2017-12-31 21:00:00       263.0      16.90     8.9         4     0.0   \n",
       "34831  2017-12-31 22:00:00       268.0      17.50     8.7         4     0.2   \n",
       "34832  2017-12-31 23:00:00       272.0      18.00     8.4         4     0.6   \n",
       "\n",
       "       c_temp  c_status  c_rain  \n",
       "0         2.8         2     0.0  \n",
       "1         2.5         2     0.0  \n",
       "2         1.9         2     0.0  \n",
       "3         2.1         2     0.0  \n",
       "4         2.1         2     0.0  \n",
       "...       ...       ...     ...  \n",
       "34828     9.0         4     0.0  \n",
       "34829     9.3         3     0.0  \n",
       "34830     9.2         4     0.0  \n",
       "34831     8.9         3     0.5  \n",
       "34832     8.3         4     1.6  \n",
       "\n",
       "[34833 rows x 9 columns]"
      ]
     },
     "execution_count": 24,
     "metadata": {},
     "output_type": "execute_result"
    }
   ],
   "source": [
    "sample_df = pd.read_csv(\"./preprocessed_stations.csv\")\n",
    "# sample_df"
   ]
  },
  {
   "cell_type": "code",
   "execution_count": null,
   "metadata": {},
   "outputs": [],
   "source": [
    "X, y = create_X_y(sample_df)\n",
    "\n",
    "# Remove timestamps\n",
    "X = np.delete(X, slice(0, X.shape[1], 9), axis=1)\n",
    "# X"
   ]
  },
  {
   "cell_type": "markdown",
   "metadata": {},
   "source": [
    "#### 1. Split Train and Test set\n",
    "#### 2. Reduce Dimensions via PCA\n",
    "#### 3. Train LinearRegression Model on Training Set\n",
    "#### 4. Test LinearRegression Model on Test Set"
   ]
  },
  {
   "cell_type": "code",
   "execution_count": null,
   "metadata": {},
   "outputs": [],
   "source": [
    "#1\n",
    "X_train, X_test, y_train, y_test = train_test_split(X, y, test_size=0.25)\n",
    "# plot_in_2d(X, title='Train set raw')\n",
    "\n",
    "#2\n",
    "dim_reducer = PCA(n_components=10).fit(X_train)\n",
    "X_train = dim_reducer.transform(X_train)\n",
    "\n",
    "# plot_in_2d(X_train, title='Train set scaled to unit variance and zero-mean and reduced dimensions to 10')\n",
    "X_test"
   ]
  },
  {
   "cell_type": "markdown",
   "metadata": {},
   "source": [
    "### LinearRegression"
   ]
  },
  {
   "cell_type": "code",
   "execution_count": null,
   "metadata": {},
   "outputs": [],
   "source": [
    "#3\n",
    "l_reg = LinearRegression()\n",
    "l_reg.fit(X_train, y_train)\n",
    "\n",
    "#4 make predictions on the testing set\n",
    "y_pred = l_reg.predict(dim_reducer.transform(X_test))\n",
    "# compare actual response values (y_test) with predicted response values (y_pred)\n",
    "rmse_result = rmse(y_pred, y_test)\n",
    "rmse_result"
   ]
  },
  {
   "cell_type": "markdown",
   "metadata": {},
   "source": [
    "### DecisionTreeRegressor"
   ]
  },
  {
   "cell_type": "code",
   "execution_count": null,
   "metadata": {},
   "outputs": [],
   "source": [
    "from sklearn.tree import DecisionTreeRegressor\n",
    "\n",
    "dtr = DecisionTreeRegressor()\n",
    "dtr.fit(X_train, y_train)\n",
    "\n",
    "# score = dtr.score(X_train, y_train)\n",
    "\n",
    "dtr_y_pred = dtr.predict(dim_reducer.transform(X_test))\n",
    "# compare actual response values (y_test) with predicted response values (y_pred)\n",
    "print(rmse(dtr_y_pred, y_test))\n"
   ]
  },
  {
   "cell_type": "markdown",
   "metadata": {},
   "source": [
    "### RandomForestRegressor"
   ]
  },
  {
   "cell_type": "code",
   "execution_count": null,
   "metadata": {},
   "outputs": [],
   "source": [
    "from sklearn.ensemble import RandomForestRegressor\n",
    "\n",
    "rfr = DecisionTreeRegressor()\n",
    "rfr.fit(X_train, y_train)\n",
    "\n",
    "# score = dtr.score(X_train, y_train)\n",
    "\n",
    "rfr_y_pred = rfr.predict(dim_reducer.transform(X_test))\n",
    "# compare actual response values (y_test) with predicted response values (y_pred)\n",
    "print(rmse(rfr_y_pred, y_test))\n"
   ]
  },
  {
   "cell_type": "markdown",
   "metadata": {},
   "source": [
    "The **RMSE decreased** when we use **DecisionTreeRegressor** as model. (Error is something we want to minimize, so **a lower number for RMSE is better**.)"
   ]
  },
  {
   "cell_type": "markdown",
   "metadata": {},
   "source": [
    "\n"
   ]
  },
  {
   "cell_type": "markdown",
   "metadata": {},
   "source": [
    "### Persist the model\n",
    "\n",
    "For the evaluation the persited model will used by calling _obj.predict(X)_ on the target data.\n",
    "\n",
    "The data will be in the _ML representation X,y_ format above - as returned by the function _create_X_y()_."
   ]
  },
  {
   "cell_type": "code",
   "execution_count": null,
   "metadata": {},
   "outputs": [],
   "source": [
    "# pickle.dump(dtr, open(\"model.obj\", \"wb\"))"
   ]
  },
  {
   "cell_type": "code",
   "execution_count": null,
   "metadata": {},
   "outputs": [],
   "source": [
    "# model_obj = pickle.load(\"model.obj\")"
   ]
  },
  {
   "cell_type": "markdown",
   "metadata": {},
   "source": [
    "# Verify Input Data"
   ]
  },
  {
   "cell_type": "code",
   "execution_count": null,
   "metadata": {},
   "outputs": [],
   "source": []
  }
 ],
 "metadata": {
  "kernelspec": {
   "display_name": "Python 3",
   "language": "python",
   "name": "python3"
  },
  "language_info": {
   "codemirror_mode": {
    "name": "ipython",
    "version": 3
   },
   "file_extension": ".py",
   "mimetype": "text/x-python",
   "name": "python",
   "nbconvert_exporter": "python",
   "pygments_lexer": "ipython3",
   "version": "3.8.5"
  }
 },
 "nbformat": 4,
 "nbformat_minor": 4
}
