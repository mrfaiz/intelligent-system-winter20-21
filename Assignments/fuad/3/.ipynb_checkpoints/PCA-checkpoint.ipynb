{
 "cells": [
  {
   "cell_type": "markdown",
   "metadata": {
    "id": "uOhvwuCRh_9Z"
   },
   "source": [
    "## Preprocessing Assigment\n",
    "\n",
    "\n",
    "---\n",
    "\n",
    "\n",
    "By \n",
    "  - Rakibuzzaman Mahmud\n",
    "  - Mithun Das\n",
    "  - Muhtasim Fuad Ansari\n",
    "\n",
    "\n",
    "\n"
   ]
  },
  {
   "cell_type": "markdown",
   "metadata": {
    "id": "9A5-MHg0B-v1"
   },
   "source": [
    "### Loading and Visualization of each station's Dataset"
   ]
  },
  {
   "cell_type": "markdown",
   "metadata": {
    "id": "osphNmc4C9l3"
   },
   "source": []
  },
  {
   "cell_type": "code",
   "execution_count": 5,
   "metadata": {
    "id": "FCC57ciJBwpK"
   },
   "outputs": [],
   "source": [
    "import pandas as pd\n",
    "import seaborn as sns"
   ]
  },
  {
   "cell_type": "markdown",
   "metadata": {
    "id": "MH0hhQB21X-3"
   },
   "source": [
    "##Read Data"
   ]
  },
  {
   "cell_type": "code",
   "execution_count": 6,
   "metadata": {
    "colab": {
     "base_uri": "https://localhost:8080/",
     "height": 359
    },
    "id": "JxjVIv8FEmSc",
    "outputId": "eaae9b35-39b6-48da-a7e6-c3358e9f6cd2"
   },
   "outputs": [
    {
     "data": {
      "text/html": [
       "<div>\n",
       "<style scoped>\n",
       "    .dataframe tbody tr th:only-of-type {\n",
       "        vertical-align: middle;\n",
       "    }\n",
       "\n",
       "    .dataframe tbody tr th {\n",
       "        vertical-align: top;\n",
       "    }\n",
       "\n",
       "    .dataframe thead th {\n",
       "        text-align: right;\n",
       "    }\n",
       "</style>\n",
       "<table border=\"1\" class=\"dataframe\">\n",
       "  <thead>\n",
       "    <tr style=\"text-align: right;\">\n",
       "      <th></th>\n",
       "      <th>temp_c_station-a</th>\n",
       "      <th>status_station-a</th>\n",
       "      <th>rain_mm_station-a</th>\n",
       "      <th>temp_c_station-b</th>\n",
       "      <th>status_station-b</th>\n",
       "      <th>rain_mm_station-b</th>\n",
       "      <th>temp_c_station-c</th>\n",
       "      <th>status_station-c</th>\n",
       "      <th>rain_mm_station-c</th>\n",
       "      <th>level_cm</th>\n",
       "      <th>flow_m2_s</th>\n",
       "    </tr>\n",
       "    <tr>\n",
       "      <th>time</th>\n",
       "      <th></th>\n",
       "      <th></th>\n",
       "      <th></th>\n",
       "      <th></th>\n",
       "      <th></th>\n",
       "      <th></th>\n",
       "      <th></th>\n",
       "      <th></th>\n",
       "      <th></th>\n",
       "      <th></th>\n",
       "      <th></th>\n",
       "    </tr>\n",
       "  </thead>\n",
       "  <tbody>\n",
       "    <tr>\n",
       "      <th>2014-06-19 20:00:00</th>\n",
       "      <td>0.448145</td>\n",
       "      <td>1</td>\n",
       "      <td>0.014437</td>\n",
       "      <td>0.544998</td>\n",
       "      <td>increased</td>\n",
       "      <td>0.139491</td>\n",
       "      <td>0.103468</td>\n",
       "      <td>increased</td>\n",
       "      <td>0.040205</td>\n",
       "      <td>-2.053277</td>\n",
       "      <td>-1.945569</td>\n",
       "    </tr>\n",
       "    <tr>\n",
       "      <th>2007-01-13 11:00:00</th>\n",
       "      <td>0.360573</td>\n",
       "      <td>1</td>\n",
       "      <td>0.003920</td>\n",
       "      <td>0.080967</td>\n",
       "      <td>normal</td>\n",
       "      <td>0.025607</td>\n",
       "      <td>-0.263085</td>\n",
       "      <td>normal</td>\n",
       "      <td>0.031113</td>\n",
       "      <td>0.049463</td>\n",
       "      <td>0.089526</td>\n",
       "    </tr>\n",
       "    <tr>\n",
       "      <th>2001-09-12 05:00:00</th>\n",
       "      <td>0.360573</td>\n",
       "      <td>1</td>\n",
       "      <td>0.003920</td>\n",
       "      <td>-0.179342</td>\n",
       "      <td>increased</td>\n",
       "      <td>0.084275</td>\n",
       "      <td>1.203128</td>\n",
       "      <td>increased</td>\n",
       "      <td>0.031113</td>\n",
       "      <td>0.049463</td>\n",
       "      <td>0.089526</td>\n",
       "    </tr>\n",
       "    <tr>\n",
       "      <th>2017-02-03 03:00:00</th>\n",
       "      <td>-1.688608</td>\n",
       "      <td>4</td>\n",
       "      <td>0.003920</td>\n",
       "      <td>-0.813140</td>\n",
       "      <td>increased</td>\n",
       "      <td>0.025607</td>\n",
       "      <td>-1.236741</td>\n",
       "      <td>max</td>\n",
       "      <td>0.031113</td>\n",
       "      <td>-1.030322</td>\n",
       "      <td>-0.728751</td>\n",
       "    </tr>\n",
       "    <tr>\n",
       "      <th>2011-03-31 07:00:00</th>\n",
       "      <td>-0.287458</td>\n",
       "      <td>1</td>\n",
       "      <td>0.003920</td>\n",
       "      <td>-0.122753</td>\n",
       "      <td>increased</td>\n",
       "      <td>0.025607</td>\n",
       "      <td>-0.297449</td>\n",
       "      <td>max</td>\n",
       "      <td>0.034144</td>\n",
       "      <td>0.049463</td>\n",
       "      <td>0.089526</td>\n",
       "    </tr>\n",
       "    <tr>\n",
       "      <th>2017-09-13 04:00:00</th>\n",
       "      <td>0.080344</td>\n",
       "      <td>1</td>\n",
       "      <td>0.003920</td>\n",
       "      <td>-0.394381</td>\n",
       "      <td>max</td>\n",
       "      <td>0.025607</td>\n",
       "      <td>-0.091263</td>\n",
       "      <td>increased</td>\n",
       "      <td>0.046265</td>\n",
       "      <td>-0.518845</td>\n",
       "      <td>-1.339280</td>\n",
       "    </tr>\n",
       "    <tr>\n",
       "      <th>2014-12-23 00:00:00</th>\n",
       "      <td>-0.112315</td>\n",
       "      <td>1</td>\n",
       "      <td>0.024954</td>\n",
       "      <td>-0.824458</td>\n",
       "      <td>normal</td>\n",
       "      <td>0.025607</td>\n",
       "      <td>-0.263085</td>\n",
       "      <td>increased</td>\n",
       "      <td>0.034144</td>\n",
       "      <td>8.233096</td>\n",
       "      <td>8.976110</td>\n",
       "    </tr>\n",
       "    <tr>\n",
       "      <th>2006-04-20 15:00:00</th>\n",
       "      <td>0.360573</td>\n",
       "      <td>1</td>\n",
       "      <td>0.003920</td>\n",
       "      <td>0.963757</td>\n",
       "      <td>increased</td>\n",
       "      <td>0.025607</td>\n",
       "      <td>-0.285994</td>\n",
       "      <td>normal</td>\n",
       "      <td>0.031113</td>\n",
       "      <td>0.049463</td>\n",
       "      <td>0.089526</td>\n",
       "    </tr>\n",
       "    <tr>\n",
       "      <th>2004-09-30 11:00:00</th>\n",
       "      <td>0.360573</td>\n",
       "      <td>1</td>\n",
       "      <td>0.003920</td>\n",
       "      <td>0.782672</td>\n",
       "      <td>normal</td>\n",
       "      <td>0.025607</td>\n",
       "      <td>0.332564</td>\n",
       "      <td>normal</td>\n",
       "      <td>0.031113</td>\n",
       "      <td>0.049463</td>\n",
       "      <td>0.089526</td>\n",
       "    </tr>\n",
       "    <tr>\n",
       "      <th>2017-06-07 11:00:00</th>\n",
       "      <td>0.185430</td>\n",
       "      <td>1</td>\n",
       "      <td>0.098576</td>\n",
       "      <td>0.590269</td>\n",
       "      <td>decreased</td>\n",
       "      <td>0.025607</td>\n",
       "      <td>0.011830</td>\n",
       "      <td>normal</td>\n",
       "      <td>0.046265</td>\n",
       "      <td>-1.882784</td>\n",
       "      <td>-1.695422</td>\n",
       "    </tr>\n",
       "  </tbody>\n",
       "</table>\n",
       "</div>"
      ],
      "text/plain": [
       "                     temp_c_station-a  status_station-a  rain_mm_station-a  \\\n",
       "time                                                                         \n",
       "2014-06-19 20:00:00          0.448145                 1           0.014437   \n",
       "2007-01-13 11:00:00          0.360573                 1           0.003920   \n",
       "2001-09-12 05:00:00          0.360573                 1           0.003920   \n",
       "2017-02-03 03:00:00         -1.688608                 4           0.003920   \n",
       "2011-03-31 07:00:00         -0.287458                 1           0.003920   \n",
       "2017-09-13 04:00:00          0.080344                 1           0.003920   \n",
       "2014-12-23 00:00:00         -0.112315                 1           0.024954   \n",
       "2006-04-20 15:00:00          0.360573                 1           0.003920   \n",
       "2004-09-30 11:00:00          0.360573                 1           0.003920   \n",
       "2017-06-07 11:00:00          0.185430                 1           0.098576   \n",
       "\n",
       "                     temp_c_station-b status_station-b  rain_mm_station-b  \\\n",
       "time                                                                        \n",
       "2014-06-19 20:00:00          0.544998        increased           0.139491   \n",
       "2007-01-13 11:00:00          0.080967           normal           0.025607   \n",
       "2001-09-12 05:00:00         -0.179342        increased           0.084275   \n",
       "2017-02-03 03:00:00         -0.813140        increased           0.025607   \n",
       "2011-03-31 07:00:00         -0.122753        increased           0.025607   \n",
       "2017-09-13 04:00:00         -0.394381              max           0.025607   \n",
       "2014-12-23 00:00:00         -0.824458           normal           0.025607   \n",
       "2006-04-20 15:00:00          0.963757        increased           0.025607   \n",
       "2004-09-30 11:00:00          0.782672           normal           0.025607   \n",
       "2017-06-07 11:00:00          0.590269        decreased           0.025607   \n",
       "\n",
       "                     temp_c_station-c status_station-c  rain_mm_station-c  \\\n",
       "time                                                                        \n",
       "2014-06-19 20:00:00          0.103468        increased           0.040205   \n",
       "2007-01-13 11:00:00         -0.263085           normal           0.031113   \n",
       "2001-09-12 05:00:00          1.203128        increased           0.031113   \n",
       "2017-02-03 03:00:00         -1.236741              max           0.031113   \n",
       "2011-03-31 07:00:00         -0.297449              max           0.034144   \n",
       "2017-09-13 04:00:00         -0.091263        increased           0.046265   \n",
       "2014-12-23 00:00:00         -0.263085        increased           0.034144   \n",
       "2006-04-20 15:00:00         -0.285994           normal           0.031113   \n",
       "2004-09-30 11:00:00          0.332564           normal           0.031113   \n",
       "2017-06-07 11:00:00          0.011830           normal           0.046265   \n",
       "\n",
       "                     level_cm  flow_m2_s  \n",
       "time                                      \n",
       "2014-06-19 20:00:00 -2.053277  -1.945569  \n",
       "2007-01-13 11:00:00  0.049463   0.089526  \n",
       "2001-09-12 05:00:00  0.049463   0.089526  \n",
       "2017-02-03 03:00:00 -1.030322  -0.728751  \n",
       "2011-03-31 07:00:00  0.049463   0.089526  \n",
       "2017-09-13 04:00:00 -0.518845  -1.339280  \n",
       "2014-12-23 00:00:00  8.233096   8.976110  \n",
       "2006-04-20 15:00:00  0.049463   0.089526  \n",
       "2004-09-30 11:00:00  0.049463   0.089526  \n",
       "2017-06-07 11:00:00 -1.882784  -1.695422  "
      ]
     },
     "execution_count": 6,
     "metadata": {},
     "output_type": "execute_result"
    }
   ],
   "source": [
    "data = pd.read_csv('combined_data_updated.csv',parse_dates=['time'],index_col='time')\n",
    "#data.sample(10)"
   ]
  },
  {
   "cell_type": "code",
   "execution_count": 7,
   "metadata": {
    "colab": {
     "base_uri": "https://localhost:8080/",
     "height": 683
    },
    "id": "UAhtSyZeJWRm",
    "outputId": "674b0105-72c7-42c8-dedf-79f72055e0e7"
   },
   "outputs": [
    {
     "data": {
      "text/html": [
       "<div>\n",
       "<style scoped>\n",
       "    .dataframe tbody tr th:only-of-type {\n",
       "        vertical-align: middle;\n",
       "    }\n",
       "\n",
       "    .dataframe tbody tr th {\n",
       "        vertical-align: top;\n",
       "    }\n",
       "\n",
       "    .dataframe thead th {\n",
       "        text-align: right;\n",
       "    }\n",
       "</style>\n",
       "<table border=\"1\" class=\"dataframe\">\n",
       "  <thead>\n",
       "    <tr style=\"text-align: right;\">\n",
       "      <th></th>\n",
       "      <th>temp_c_station-a</th>\n",
       "      <th>status_station-a</th>\n",
       "      <th>rain_mm_station-a</th>\n",
       "      <th>temp_c_station-b</th>\n",
       "      <th>status_station-b</th>\n",
       "      <th>rain_mm_station-b</th>\n",
       "      <th>temp_c_station-c</th>\n",
       "      <th>status_station-c</th>\n",
       "      <th>rain_mm_station-c</th>\n",
       "    </tr>\n",
       "    <tr>\n",
       "      <th>time</th>\n",
       "      <th></th>\n",
       "      <th></th>\n",
       "      <th></th>\n",
       "      <th></th>\n",
       "      <th></th>\n",
       "      <th></th>\n",
       "      <th></th>\n",
       "      <th></th>\n",
       "      <th></th>\n",
       "    </tr>\n",
       "  </thead>\n",
       "  <tbody>\n",
       "    <tr>\n",
       "      <th>2015-01-19 00:00:00</th>\n",
       "      <td>-1.741151</td>\n",
       "      <td>4</td>\n",
       "      <td>0.045989</td>\n",
       "      <td>-1.978874</td>\n",
       "      <td>max</td>\n",
       "      <td>0.025607</td>\n",
       "      <td>-1.294015</td>\n",
       "      <td>max</td>\n",
       "      <td>0.037174</td>\n",
       "    </tr>\n",
       "    <tr>\n",
       "      <th>2002-09-17 06:00:00</th>\n",
       "      <td>0.360573</td>\n",
       "      <td>1</td>\n",
       "      <td>0.003920</td>\n",
       "      <td>-0.552830</td>\n",
       "      <td>increased</td>\n",
       "      <td>0.025607</td>\n",
       "      <td>1.203128</td>\n",
       "      <td>increased</td>\n",
       "      <td>0.031113</td>\n",
       "    </tr>\n",
       "    <tr>\n",
       "      <th>2004-10-05 00:00:00</th>\n",
       "      <td>0.360573</td>\n",
       "      <td>1</td>\n",
       "      <td>0.003920</td>\n",
       "      <td>0.092285</td>\n",
       "      <td>increased</td>\n",
       "      <td>0.025607</td>\n",
       "      <td>0.114923</td>\n",
       "      <td>max</td>\n",
       "      <td>0.031113</td>\n",
       "    </tr>\n",
       "    <tr>\n",
       "      <th>2002-05-25 13:00:00</th>\n",
       "      <td>0.360573</td>\n",
       "      <td>1</td>\n",
       "      <td>0.003920</td>\n",
       "      <td>1.190113</td>\n",
       "      <td>decreased</td>\n",
       "      <td>0.025607</td>\n",
       "      <td>1.203128</td>\n",
       "      <td>increased</td>\n",
       "      <td>0.031113</td>\n",
       "    </tr>\n",
       "    <tr>\n",
       "      <th>2005-03-25 06:00:00</th>\n",
       "      <td>0.360573</td>\n",
       "      <td>1</td>\n",
       "      <td>0.003920</td>\n",
       "      <td>-0.303838</td>\n",
       "      <td>max</td>\n",
       "      <td>0.035960</td>\n",
       "      <td>-0.492180</td>\n",
       "      <td>max</td>\n",
       "      <td>0.031113</td>\n",
       "    </tr>\n",
       "    <tr>\n",
       "      <th>2005-11-09 17:00:00</th>\n",
       "      <td>0.360573</td>\n",
       "      <td>1</td>\n",
       "      <td>0.003920</td>\n",
       "      <td>-0.122753</td>\n",
       "      <td>normal</td>\n",
       "      <td>0.025607</td>\n",
       "      <td>-0.079808</td>\n",
       "      <td>normal</td>\n",
       "      <td>0.031113</td>\n",
       "    </tr>\n",
       "    <tr>\n",
       "      <th>2007-07-25 00:00:00</th>\n",
       "      <td>0.360573</td>\n",
       "      <td>1</td>\n",
       "      <td>0.003920</td>\n",
       "      <td>0.465773</td>\n",
       "      <td>increased</td>\n",
       "      <td>0.025607</td>\n",
       "      <td>0.218016</td>\n",
       "      <td>increased</td>\n",
       "      <td>0.049296</td>\n",
       "    </tr>\n",
       "    <tr>\n",
       "      <th>2003-02-19 23:00:00</th>\n",
       "      <td>0.360573</td>\n",
       "      <td>1</td>\n",
       "      <td>0.003920</td>\n",
       "      <td>-2.510812</td>\n",
       "      <td>increased</td>\n",
       "      <td>0.025607</td>\n",
       "      <td>1.203128</td>\n",
       "      <td>increased</td>\n",
       "      <td>0.031113</td>\n",
       "    </tr>\n",
       "    <tr>\n",
       "      <th>2004-02-06 01:00:00</th>\n",
       "      <td>0.360573</td>\n",
       "      <td>1</td>\n",
       "      <td>0.003920</td>\n",
       "      <td>-0.767869</td>\n",
       "      <td>normal</td>\n",
       "      <td>0.025607</td>\n",
       "      <td>-0.274540</td>\n",
       "      <td>increased</td>\n",
       "      <td>0.031113</td>\n",
       "    </tr>\n",
       "    <tr>\n",
       "      <th>2009-10-30 00:00:00</th>\n",
       "      <td>-0.707803</td>\n",
       "      <td>1</td>\n",
       "      <td>0.035472</td>\n",
       "      <td>-0.801822</td>\n",
       "      <td>max</td>\n",
       "      <td>0.025607</td>\n",
       "      <td>-0.480726</td>\n",
       "      <td>max</td>\n",
       "      <td>0.031113</td>\n",
       "    </tr>\n",
       "  </tbody>\n",
       "</table>\n",
       "</div>"
      ],
      "text/plain": [
       "                     temp_c_station-a  status_station-a  rain_mm_station-a  \\\n",
       "time                                                                         \n",
       "2015-01-19 00:00:00         -1.741151                 4           0.045989   \n",
       "2002-09-17 06:00:00          0.360573                 1           0.003920   \n",
       "2004-10-05 00:00:00          0.360573                 1           0.003920   \n",
       "2002-05-25 13:00:00          0.360573                 1           0.003920   \n",
       "2005-03-25 06:00:00          0.360573                 1           0.003920   \n",
       "2005-11-09 17:00:00          0.360573                 1           0.003920   \n",
       "2007-07-25 00:00:00          0.360573                 1           0.003920   \n",
       "2003-02-19 23:00:00          0.360573                 1           0.003920   \n",
       "2004-02-06 01:00:00          0.360573                 1           0.003920   \n",
       "2009-10-30 00:00:00         -0.707803                 1           0.035472   \n",
       "\n",
       "                     temp_c_station-b status_station-b  rain_mm_station-b  \\\n",
       "time                                                                        \n",
       "2015-01-19 00:00:00         -1.978874              max           0.025607   \n",
       "2002-09-17 06:00:00         -0.552830        increased           0.025607   \n",
       "2004-10-05 00:00:00          0.092285        increased           0.025607   \n",
       "2002-05-25 13:00:00          1.190113        decreased           0.025607   \n",
       "2005-03-25 06:00:00         -0.303838              max           0.035960   \n",
       "2005-11-09 17:00:00         -0.122753           normal           0.025607   \n",
       "2007-07-25 00:00:00          0.465773        increased           0.025607   \n",
       "2003-02-19 23:00:00         -2.510812        increased           0.025607   \n",
       "2004-02-06 01:00:00         -0.767869           normal           0.025607   \n",
       "2009-10-30 00:00:00         -0.801822              max           0.025607   \n",
       "\n",
       "                     temp_c_station-c status_station-c  rain_mm_station-c  \n",
       "time                                                                       \n",
       "2015-01-19 00:00:00         -1.294015              max           0.037174  \n",
       "2002-09-17 06:00:00          1.203128        increased           0.031113  \n",
       "2004-10-05 00:00:00          0.114923              max           0.031113  \n",
       "2002-05-25 13:00:00          1.203128        increased           0.031113  \n",
       "2005-03-25 06:00:00         -0.492180              max           0.031113  \n",
       "2005-11-09 17:00:00         -0.079808           normal           0.031113  \n",
       "2007-07-25 00:00:00          0.218016        increased           0.049296  \n",
       "2003-02-19 23:00:00          1.203128        increased           0.031113  \n",
       "2004-02-06 01:00:00         -0.274540        increased           0.031113  \n",
       "2009-10-30 00:00:00         -0.480726              max           0.031113  "
      ]
     },
     "execution_count": 7,
     "metadata": {},
     "output_type": "execute_result"
    }
   ],
   "source": [
    "features = data.copy(deep=True)\n",
    "features.drop(['level_cm','flow_m2_s'], axis=1,inplace=True)\n",
    "features.sample(10)"
   ]
  },
  {
   "cell_type": "markdown",
   "metadata": {
    "id": "l6cSBt_-1sYi"
   },
   "source": [
    "##Station - B"
   ]
  },
  {
   "cell_type": "code",
   "execution_count": null,
   "metadata": {
    "colab": {
     "base_uri": "https://localhost:8080/",
     "height": 651
    },
    "id": "V3ny0kk5DjFC",
    "outputId": "34469d6f-d391-4361-bb28-bb5ab24adad3"
   },
   "outputs": [],
   "source": []
  },
  {
   "cell_type": "markdown",
   "metadata": {
    "id": "5xSRX0U81np_"
   },
   "source": [
    "##Station - C"
   ]
  },
  {
   "cell_type": "code",
   "execution_count": null,
   "metadata": {
    "colab": {
     "base_uri": "https://localhost:8080/",
     "height": 651
    },
    "id": "DnUAJkplEbkE",
    "outputId": "eee72f66-d6d9-48e3-a6a6-132cf4588c87"
   },
   "outputs": [],
   "source": []
  },
  {
   "cell_type": "markdown",
   "metadata": {
    "id": "A6D7Vaqg2SFl"
   },
   "source": [
    "##Main Station"
   ]
  },
  {
   "cell_type": "code",
   "execution_count": null,
   "metadata": {
    "id": "NAPKVX9MNDXi"
   },
   "outputs": [],
   "source": []
  },
  {
   "cell_type": "code",
   "execution_count": null,
   "metadata": {
    "colab": {
     "base_uri": "https://localhost:8080/",
     "height": 683
    },
    "id": "YSjoz5hOEiZc",
    "outputId": "38577ce8-545f-4092-98ce-6a91d7f77146"
   },
   "outputs": [],
   "source": []
  },
  {
   "cell_type": "code",
   "execution_count": null,
   "metadata": {
    "colab": {
     "base_uri": "https://localhost:8080/",
     "height": 390
    },
    "id": "hW5N0ljlEngP",
    "outputId": "8276ca1e-baf2-4eb3-fc8a-4fc8dd518772"
   },
   "outputs": [],
   "source": []
  },
  {
   "cell_type": "markdown",
   "metadata": {
    "id": "13eBhIiz4X37"
   },
   "source": [
    "#Missing Data"
   ]
  },
  {
   "cell_type": "code",
   "execution_count": null,
   "metadata": {
    "colab": {
     "base_uri": "https://localhost:8080/",
     "height": 235
    },
    "id": "Lf3c96XOHWb8",
    "outputId": "cfc708f0-d3be-45b2-8b7a-b00fcae94fea"
   },
   "outputs": [],
   "source": []
  },
  {
   "cell_type": "code",
   "execution_count": null,
   "metadata": {
    "id": "A8MFOC32XCtX"
   },
   "outputs": [],
   "source": []
  },
  {
   "cell_type": "code",
   "execution_count": null,
   "metadata": {
    "colab": {
     "base_uri": "https://localhost:8080/",
     "height": 390
    },
    "id": "m5c0wVzoTxHu",
    "outputId": "e64c9e19-8fb5-443f-fd65-93b83e501e1d"
   },
   "outputs": [],
   "source": [
    "\n"
   ]
  },
  {
   "cell_type": "code",
   "execution_count": null,
   "metadata": {
    "colab": {
     "base_uri": "https://localhost:8080/",
     "height": 35
    },
    "id": "GmvSYuzET7Uo",
    "outputId": "b2f40833-66fd-4782-ab1d-f1b96f0eb3c0"
   },
   "outputs": [],
   "source": []
  },
  {
   "cell_type": "code",
   "execution_count": null,
   "metadata": {
    "colab": {
     "base_uri": "https://localhost:8080/",
     "height": 390
    },
    "id": "3BacWoIRVGcc",
    "outputId": "861cdba4-1737-427c-bead-5c3a451c1af1"
   },
   "outputs": [],
   "source": []
  },
  {
   "cell_type": "markdown",
   "metadata": {
    "id": "tBCrgN77AG-R"
   },
   "source": [
    "#Outlier ditection\n"
   ]
  },
  {
   "cell_type": "code",
   "execution_count": null,
   "metadata": {
    "colab": {
     "base_uri": "https://localhost:8080/",
     "height": 368
    },
    "id": "M5VEAIm4vNwy",
    "outputId": "5ee87365-9be7-41d8-9885-c1b7928f302a"
   },
   "outputs": [],
   "source": []
  },
  {
   "cell_type": "code",
   "execution_count": null,
   "metadata": {
    "colab": {
     "base_uri": "https://localhost:8080/",
     "height": 368
    },
    "id": "NkC-McyozRlN",
    "outputId": "3a1c35ce-6c65-4589-caed-22840f72ebc4"
   },
   "outputs": [],
   "source": []
  },
  {
   "cell_type": "markdown",
   "metadata": {
    "id": "POLngdYnBtLk"
   },
   "source": [
    "# Scalling\n"
   ]
  },
  {
   "cell_type": "code",
   "execution_count": null,
   "metadata": {
    "id": "xGuaZ752XEl1"
   },
   "outputs": [],
   "source": [
    "\n"
   ]
  },
  {
   "cell_type": "code",
   "execution_count": null,
   "metadata": {
    "colab": {
     "base_uri": "https://localhost:8080/",
     "height": 390
    },
    "id": "YDznKzypqyXy",
    "outputId": "8ea5dfd2-8a5c-4b46-f71c-fda7a93595e9"
   },
   "outputs": [],
   "source": []
  },
  {
   "cell_type": "markdown",
   "metadata": {
    "id": "K0z6FqUZVWbB"
   },
   "source": []
  },
  {
   "cell_type": "code",
   "execution_count": null,
   "metadata": {
    "colab": {
     "base_uri": "https://localhost:8080/",
     "height": 351
    },
    "id": "7MYcm-b_rwn7",
    "outputId": "7e0ff6ba-f5b1-4197-c2a4-2940b5b69075"
   },
   "outputs": [],
   "source": []
  },
  {
   "cell_type": "code",
   "execution_count": null,
   "metadata": {
    "colab": {
     "base_uri": "https://localhost:8080/",
     "height": 351
    },
    "id": "fkXeUoBPsh9z",
    "outputId": "7b8e8c21-2129-46e4-83fc-aaea2e94efd1"
   },
   "outputs": [],
   "source": []
  },
  {
   "cell_type": "code",
   "execution_count": null,
   "metadata": {
    "colab": {
     "base_uri": "https://localhost:8080/",
     "height": 351
    },
    "id": "4N_H-kcAsEME",
    "outputId": "7959a347-796e-49da-f0c6-d09178fdaf46"
   },
   "outputs": [],
   "source": []
  },
  {
   "cell_type": "markdown",
   "metadata": {
    "id": "YxFxZGReEEfs"
   },
   "source": [
    "#Encoding Catagorical Data"
   ]
  },
  {
   "cell_type": "code",
   "execution_count": null,
   "metadata": {
    "colab": {
     "base_uri": "https://localhost:8080/",
     "height": 390
    },
    "id": "zFQ1wKHTwSc8",
    "outputId": "c14d183e-f5a8-4013-dcc5-3b86ecd8c413"
   },
   "outputs": [],
   "source": [
    "\n"
   ]
  },
  {
   "cell_type": "code",
   "execution_count": null,
   "metadata": {
    "id": "jwTv2VgYDKYF"
   },
   "outputs": [],
   "source": []
  }
 ],
 "metadata": {
  "colab": {
   "name": "Preprocessing Assigment.ipynb",
   "provenance": []
  },
  "kernelspec": {
   "display_name": "Python 3",
   "language": "python",
   "name": "python3"
  },
  "language_info": {
   "codemirror_mode": {
    "name": "ipython",
    "version": 3
   },
   "file_extension": ".py",
   "mimetype": "text/x-python",
   "name": "python",
   "nbconvert_exporter": "python",
   "pygments_lexer": "ipython3",
   "version": "3.7.6"
  }
 },
 "nbformat": 4,
 "nbformat_minor": 1
}
