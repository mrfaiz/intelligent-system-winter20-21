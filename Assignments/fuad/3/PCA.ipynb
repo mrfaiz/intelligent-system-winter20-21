{
 "cells": [
  {
   "cell_type": "markdown",
   "metadata": {
    "id": "uOhvwuCRh_9Z"
   },
   "source": [
    "## Preprocessing Assigment\n",
    "\n",
    "\n",
    "---\n",
    "\n",
    "\n",
    "By \n",
    "  - Rakibuzzaman Mahmud\n",
    "  - Mithun Das\n",
    "  - Muhtasim Fuad Ansari\n",
    "\n",
    "\n",
    "\n"
   ]
  },
  {
   "cell_type": "markdown",
   "metadata": {
    "id": "9A5-MHg0B-v1"
   },
   "source": [
    "### Loading and Visualization of each station's Dataset"
   ]
  },
  {
   "cell_type": "markdown",
   "metadata": {
    "id": "osphNmc4C9l3"
   },
   "source": []
  },
  {
   "cell_type": "code",
   "execution_count": 5,
   "metadata": {
    "id": "FCC57ciJBwpK"
   },
   "outputs": [],
   "source": [
    "import pandas as pd\n",
    "import seaborn as sns"
   ]
  },
  {
   "cell_type": "markdown",
   "metadata": {
    "id": "MH0hhQB21X-3"
   },
   "source": [
    "##Read Data"
   ]
  },
  {
   "cell_type": "code",
   "execution_count": 16,
   "metadata": {
    "colab": {
     "base_uri": "https://localhost:8080/",
     "height": 359
    },
    "id": "JxjVIv8FEmSc",
    "outputId": "eaae9b35-39b6-48da-a7e6-c3358e9f6cd2"
   },
   "outputs": [
    {
     "data": {
      "text/html": [
       "<div>\n",
       "<style scoped>\n",
       "    .dataframe tbody tr th:only-of-type {\n",
       "        vertical-align: middle;\n",
       "    }\n",
       "\n",
       "    .dataframe tbody tr th {\n",
       "        vertical-align: top;\n",
       "    }\n",
       "\n",
       "    .dataframe thead th {\n",
       "        text-align: right;\n",
       "    }\n",
       "</style>\n",
       "<table border=\"1\" class=\"dataframe\">\n",
       "  <thead>\n",
       "    <tr style=\"text-align: right;\">\n",
       "      <th></th>\n",
       "      <th>temp_c_station-a</th>\n",
       "      <th>status_station-a</th>\n",
       "      <th>rain_mm_station-a</th>\n",
       "      <th>temp_c_station-b</th>\n",
       "      <th>status_station-b</th>\n",
       "      <th>rain_mm_station-b</th>\n",
       "      <th>temp_c_station-c</th>\n",
       "      <th>status_station-c</th>\n",
       "      <th>rain_mm_station-c</th>\n",
       "      <th>level_cm</th>\n",
       "      <th>flow_m2_s</th>\n",
       "    </tr>\n",
       "    <tr>\n",
       "      <th>time</th>\n",
       "      <th></th>\n",
       "      <th></th>\n",
       "      <th></th>\n",
       "      <th></th>\n",
       "      <th></th>\n",
       "      <th></th>\n",
       "      <th></th>\n",
       "      <th></th>\n",
       "      <th></th>\n",
       "      <th></th>\n",
       "      <th></th>\n",
       "    </tr>\n",
       "  </thead>\n",
       "  <tbody>\n",
       "    <tr>\n",
       "      <th>2012-03-15 22:00:00</th>\n",
       "      <td>-1.601036</td>\n",
       "      <td>max</td>\n",
       "      <td>0.00392</td>\n",
       "      <td>-0.903682</td>\n",
       "      <td>normal</td>\n",
       "      <td>0.025607</td>\n",
       "      <td>-1.236741</td>\n",
       "      <td>max</td>\n",
       "      <td>0.031113</td>\n",
       "      <td>0.049463</td>\n",
       "      <td>0.089526</td>\n",
       "    </tr>\n",
       "    <tr>\n",
       "      <th>2016-02-22 12:00:00</th>\n",
       "      <td>-0.812889</td>\n",
       "      <td>normal</td>\n",
       "      <td>0.00392</td>\n",
       "      <td>1.009028</td>\n",
       "      <td>low</td>\n",
       "      <td>0.025607</td>\n",
       "      <td>-0.686912</td>\n",
       "      <td>normal</td>\n",
       "      <td>0.031113</td>\n",
       "      <td>7.096480</td>\n",
       "      <td>7.428589</td>\n",
       "    </tr>\n",
       "    <tr>\n",
       "      <th>2010-08-30 12:00:00</th>\n",
       "      <td>0.745890</td>\n",
       "      <td>normal</td>\n",
       "      <td>0.00392</td>\n",
       "      <td>0.318641</td>\n",
       "      <td>decreased</td>\n",
       "      <td>0.025607</td>\n",
       "      <td>0.355474</td>\n",
       "      <td>normal</td>\n",
       "      <td>0.031113</td>\n",
       "      <td>0.049463</td>\n",
       "      <td>0.089526</td>\n",
       "    </tr>\n",
       "    <tr>\n",
       "      <th>2007-06-25 21:00:00</th>\n",
       "      <td>0.360573</td>\n",
       "      <td>increased</td>\n",
       "      <td>0.00392</td>\n",
       "      <td>0.363913</td>\n",
       "      <td>increased</td>\n",
       "      <td>0.146393</td>\n",
       "      <td>0.355474</td>\n",
       "      <td>max</td>\n",
       "      <td>0.034144</td>\n",
       "      <td>0.049463</td>\n",
       "      <td>0.089526</td>\n",
       "    </tr>\n",
       "    <tr>\n",
       "      <th>2002-03-18 05:00:00</th>\n",
       "      <td>0.360573</td>\n",
       "      <td>increased</td>\n",
       "      <td>0.00392</td>\n",
       "      <td>-0.960271</td>\n",
       "      <td>normal</td>\n",
       "      <td>0.025607</td>\n",
       "      <td>1.203128</td>\n",
       "      <td>increased</td>\n",
       "      <td>0.031113</td>\n",
       "      <td>0.049463</td>\n",
       "      <td>0.089526</td>\n",
       "    </tr>\n",
       "    <tr>\n",
       "      <th>2013-05-01 03:00:00</th>\n",
       "      <td>-2.038895</td>\n",
       "      <td>max</td>\n",
       "      <td>0.00392</td>\n",
       "      <td>-0.281203</td>\n",
       "      <td>max</td>\n",
       "      <td>0.025607</td>\n",
       "      <td>-1.568930</td>\n",
       "      <td>max</td>\n",
       "      <td>0.031113</td>\n",
       "      <td>0.049463</td>\n",
       "      <td>0.089526</td>\n",
       "    </tr>\n",
       "    <tr>\n",
       "      <th>2000-10-15 13:00:00</th>\n",
       "      <td>0.360573</td>\n",
       "      <td>increased</td>\n",
       "      <td>0.00392</td>\n",
       "      <td>1.393834</td>\n",
       "      <td>decreased</td>\n",
       "      <td>0.025607</td>\n",
       "      <td>1.203128</td>\n",
       "      <td>increased</td>\n",
       "      <td>0.031113</td>\n",
       "      <td>0.049463</td>\n",
       "      <td>0.089526</td>\n",
       "    </tr>\n",
       "    <tr>\n",
       "      <th>2013-01-23 12:00:00</th>\n",
       "      <td>-2.003866</td>\n",
       "      <td>normal</td>\n",
       "      <td>0.00392</td>\n",
       "      <td>-1.231899</td>\n",
       "      <td>normal</td>\n",
       "      <td>0.025607</td>\n",
       "      <td>-1.420018</td>\n",
       "      <td>normal</td>\n",
       "      <td>0.031113</td>\n",
       "      <td>0.049463</td>\n",
       "      <td>0.089526</td>\n",
       "    </tr>\n",
       "    <tr>\n",
       "      <th>2006-09-27 16:00:00</th>\n",
       "      <td>0.360573</td>\n",
       "      <td>increased</td>\n",
       "      <td>0.00392</td>\n",
       "      <td>0.737400</td>\n",
       "      <td>increased</td>\n",
       "      <td>0.025607</td>\n",
       "      <td>0.596024</td>\n",
       "      <td>normal</td>\n",
       "      <td>0.031113</td>\n",
       "      <td>0.049463</td>\n",
       "      <td>0.089526</td>\n",
       "    </tr>\n",
       "    <tr>\n",
       "      <th>2003-03-24 00:00:00</th>\n",
       "      <td>0.360573</td>\n",
       "      <td>increased</td>\n",
       "      <td>0.00392</td>\n",
       "      <td>-0.903682</td>\n",
       "      <td>increased</td>\n",
       "      <td>0.025607</td>\n",
       "      <td>1.203128</td>\n",
       "      <td>increased</td>\n",
       "      <td>0.031113</td>\n",
       "      <td>0.049463</td>\n",
       "      <td>0.089526</td>\n",
       "    </tr>\n",
       "  </tbody>\n",
       "</table>\n",
       "</div>"
      ],
      "text/plain": [
       "                     temp_c_station-a status_station-a  rain_mm_station-a  \\\n",
       "time                                                                        \n",
       "2012-03-15 22:00:00         -1.601036              max            0.00392   \n",
       "2016-02-22 12:00:00         -0.812889           normal            0.00392   \n",
       "2010-08-30 12:00:00          0.745890           normal            0.00392   \n",
       "2007-06-25 21:00:00          0.360573        increased            0.00392   \n",
       "2002-03-18 05:00:00          0.360573        increased            0.00392   \n",
       "2013-05-01 03:00:00         -2.038895              max            0.00392   \n",
       "2000-10-15 13:00:00          0.360573        increased            0.00392   \n",
       "2013-01-23 12:00:00         -2.003866           normal            0.00392   \n",
       "2006-09-27 16:00:00          0.360573        increased            0.00392   \n",
       "2003-03-24 00:00:00          0.360573        increased            0.00392   \n",
       "\n",
       "                     temp_c_station-b status_station-b  rain_mm_station-b  \\\n",
       "time                                                                        \n",
       "2012-03-15 22:00:00         -0.903682           normal           0.025607   \n",
       "2016-02-22 12:00:00          1.009028              low           0.025607   \n",
       "2010-08-30 12:00:00          0.318641        decreased           0.025607   \n",
       "2007-06-25 21:00:00          0.363913        increased           0.146393   \n",
       "2002-03-18 05:00:00         -0.960271           normal           0.025607   \n",
       "2013-05-01 03:00:00         -0.281203              max           0.025607   \n",
       "2000-10-15 13:00:00          1.393834        decreased           0.025607   \n",
       "2013-01-23 12:00:00         -1.231899           normal           0.025607   \n",
       "2006-09-27 16:00:00          0.737400        increased           0.025607   \n",
       "2003-03-24 00:00:00         -0.903682        increased           0.025607   \n",
       "\n",
       "                     temp_c_station-c status_station-c  rain_mm_station-c  \\\n",
       "time                                                                        \n",
       "2012-03-15 22:00:00         -1.236741              max           0.031113   \n",
       "2016-02-22 12:00:00         -0.686912           normal           0.031113   \n",
       "2010-08-30 12:00:00          0.355474           normal           0.031113   \n",
       "2007-06-25 21:00:00          0.355474              max           0.034144   \n",
       "2002-03-18 05:00:00          1.203128        increased           0.031113   \n",
       "2013-05-01 03:00:00         -1.568930              max           0.031113   \n",
       "2000-10-15 13:00:00          1.203128        increased           0.031113   \n",
       "2013-01-23 12:00:00         -1.420018           normal           0.031113   \n",
       "2006-09-27 16:00:00          0.596024           normal           0.031113   \n",
       "2003-03-24 00:00:00          1.203128        increased           0.031113   \n",
       "\n",
       "                     level_cm  flow_m2_s  \n",
       "time                                      \n",
       "2012-03-15 22:00:00  0.049463   0.089526  \n",
       "2016-02-22 12:00:00  7.096480   7.428589  \n",
       "2010-08-30 12:00:00  0.049463   0.089526  \n",
       "2007-06-25 21:00:00  0.049463   0.089526  \n",
       "2002-03-18 05:00:00  0.049463   0.089526  \n",
       "2013-05-01 03:00:00  0.049463   0.089526  \n",
       "2000-10-15 13:00:00  0.049463   0.089526  \n",
       "2013-01-23 12:00:00  0.049463   0.089526  \n",
       "2006-09-27 16:00:00  0.049463   0.089526  \n",
       "2003-03-24 00:00:00  0.049463   0.089526  "
      ]
     },
     "execution_count": 16,
     "metadata": {},
     "output_type": "execute_result"
    }
   ],
   "source": [
    "data = pd.read_csv('combined_data_updated.csv',parse_dates=['time'],index_col='time')\n",
    "\n",
    "data.sample(10)"
   ]
  },
  {
   "cell_type": "code",
   "execution_count": 13,
   "metadata": {
    "colab": {
     "base_uri": "https://localhost:8080/",
     "height": 683
    },
    "id": "UAhtSyZeJWRm",
    "outputId": "674b0105-72c7-42c8-dedf-79f72055e0e7"
   },
   "outputs": [
    {
     "data": {
      "text/html": [
       "<div>\n",
       "<style scoped>\n",
       "    .dataframe tbody tr th:only-of-type {\n",
       "        vertical-align: middle;\n",
       "    }\n",
       "\n",
       "    .dataframe tbody tr th {\n",
       "        vertical-align: top;\n",
       "    }\n",
       "\n",
       "    .dataframe thead th {\n",
       "        text-align: right;\n",
       "    }\n",
       "</style>\n",
       "<table border=\"1\" class=\"dataframe\">\n",
       "  <thead>\n",
       "    <tr style=\"text-align: right;\">\n",
       "      <th></th>\n",
       "      <th>temp_c_station-a</th>\n",
       "      <th>status_station-a</th>\n",
       "      <th>rain_mm_station-a</th>\n",
       "      <th>temp_c_station-b</th>\n",
       "      <th>status_station-b</th>\n",
       "      <th>rain_mm_station-b</th>\n",
       "      <th>temp_c_station-c</th>\n",
       "      <th>status_station-c</th>\n",
       "      <th>rain_mm_station-c</th>\n",
       "    </tr>\n",
       "    <tr>\n",
       "      <th>time</th>\n",
       "      <th></th>\n",
       "      <th></th>\n",
       "      <th></th>\n",
       "      <th></th>\n",
       "      <th></th>\n",
       "      <th></th>\n",
       "      <th></th>\n",
       "      <th></th>\n",
       "      <th></th>\n",
       "    </tr>\n",
       "  </thead>\n",
       "  <tbody>\n",
       "    <tr>\n",
       "      <th>2013-07-26 09:00:00</th>\n",
       "      <td>2.812585</td>\n",
       "      <td>3</td>\n",
       "      <td>0.003920</td>\n",
       "      <td>2.072902</td>\n",
       "      <td>decreased</td>\n",
       "      <td>0.025607</td>\n",
       "      <td>1.489497</td>\n",
       "      <td>decreased</td>\n",
       "      <td>0.031113</td>\n",
       "    </tr>\n",
       "    <tr>\n",
       "      <th>2011-08-18 08:00:00</th>\n",
       "      <td>0.973576</td>\n",
       "      <td>1</td>\n",
       "      <td>0.003920</td>\n",
       "      <td>1.767321</td>\n",
       "      <td>decreased</td>\n",
       "      <td>0.025607</td>\n",
       "      <td>0.470021</td>\n",
       "      <td>increased</td>\n",
       "      <td>0.031113</td>\n",
       "    </tr>\n",
       "    <tr>\n",
       "      <th>2012-12-27 08:00:00</th>\n",
       "      <td>-0.672774</td>\n",
       "      <td>1</td>\n",
       "      <td>0.003920</td>\n",
       "      <td>-0.507559</td>\n",
       "      <td>increased</td>\n",
       "      <td>0.039411</td>\n",
       "      <td>-0.583819</td>\n",
       "      <td>normal</td>\n",
       "      <td>0.031113</td>\n",
       "    </tr>\n",
       "    <tr>\n",
       "      <th>2008-02-11 22:00:00</th>\n",
       "      <td>-1.390863</td>\n",
       "      <td>4</td>\n",
       "      <td>0.003920</td>\n",
       "      <td>-1.311123</td>\n",
       "      <td>normal</td>\n",
       "      <td>0.025607</td>\n",
       "      <td>-1.179468</td>\n",
       "      <td>max</td>\n",
       "      <td>0.031113</td>\n",
       "    </tr>\n",
       "    <tr>\n",
       "      <th>2013-06-19 23:00:00</th>\n",
       "      <td>1.323864</td>\n",
       "      <td>4</td>\n",
       "      <td>0.245821</td>\n",
       "      <td>1.088253</td>\n",
       "      <td>normal</td>\n",
       "      <td>0.025607</td>\n",
       "      <td>0.733482</td>\n",
       "      <td>max</td>\n",
       "      <td>0.100812</td>\n",
       "    </tr>\n",
       "    <tr>\n",
       "      <th>2007-02-25 19:00:00</th>\n",
       "      <td>0.360573</td>\n",
       "      <td>1</td>\n",
       "      <td>0.003920</td>\n",
       "      <td>-0.598101</td>\n",
       "      <td>increased</td>\n",
       "      <td>0.025607</td>\n",
       "      <td>-0.675457</td>\n",
       "      <td>increased</td>\n",
       "      <td>0.031113</td>\n",
       "    </tr>\n",
       "    <tr>\n",
       "      <th>2006-12-22 23:00:00</th>\n",
       "      <td>0.360573</td>\n",
       "      <td>1</td>\n",
       "      <td>0.003920</td>\n",
       "      <td>-1.922285</td>\n",
       "      <td>increased</td>\n",
       "      <td>0.025607</td>\n",
       "      <td>-0.732731</td>\n",
       "      <td>increased</td>\n",
       "      <td>0.031113</td>\n",
       "    </tr>\n",
       "    <tr>\n",
       "      <th>2001-06-26 19:00:00</th>\n",
       "      <td>0.360573</td>\n",
       "      <td>1</td>\n",
       "      <td>0.003920</td>\n",
       "      <td>1.359880</td>\n",
       "      <td>decreased</td>\n",
       "      <td>0.025607</td>\n",
       "      <td>1.203128</td>\n",
       "      <td>increased</td>\n",
       "      <td>0.031113</td>\n",
       "    </tr>\n",
       "    <tr>\n",
       "      <th>2003-02-12 15:00:00</th>\n",
       "      <td>0.360573</td>\n",
       "      <td>1</td>\n",
       "      <td>0.003920</td>\n",
       "      <td>-1.492208</td>\n",
       "      <td>normal</td>\n",
       "      <td>0.025607</td>\n",
       "      <td>1.203128</td>\n",
       "      <td>increased</td>\n",
       "      <td>0.031113</td>\n",
       "    </tr>\n",
       "    <tr>\n",
       "      <th>2000-05-11 11:00:00</th>\n",
       "      <td>0.360573</td>\n",
       "      <td>1</td>\n",
       "      <td>0.003920</td>\n",
       "      <td>1.982360</td>\n",
       "      <td>low</td>\n",
       "      <td>0.025607</td>\n",
       "      <td>1.203128</td>\n",
       "      <td>increased</td>\n",
       "      <td>0.031113</td>\n",
       "    </tr>\n",
       "  </tbody>\n",
       "</table>\n",
       "</div>"
      ],
      "text/plain": [
       "                     temp_c_station-a  status_station-a  rain_mm_station-a  \\\n",
       "time                                                                         \n",
       "2013-07-26 09:00:00          2.812585                 3           0.003920   \n",
       "2011-08-18 08:00:00          0.973576                 1           0.003920   \n",
       "2012-12-27 08:00:00         -0.672774                 1           0.003920   \n",
       "2008-02-11 22:00:00         -1.390863                 4           0.003920   \n",
       "2013-06-19 23:00:00          1.323864                 4           0.245821   \n",
       "2007-02-25 19:00:00          0.360573                 1           0.003920   \n",
       "2006-12-22 23:00:00          0.360573                 1           0.003920   \n",
       "2001-06-26 19:00:00          0.360573                 1           0.003920   \n",
       "2003-02-12 15:00:00          0.360573                 1           0.003920   \n",
       "2000-05-11 11:00:00          0.360573                 1           0.003920   \n",
       "\n",
       "                     temp_c_station-b status_station-b  rain_mm_station-b  \\\n",
       "time                                                                        \n",
       "2013-07-26 09:00:00          2.072902        decreased           0.025607   \n",
       "2011-08-18 08:00:00          1.767321        decreased           0.025607   \n",
       "2012-12-27 08:00:00         -0.507559        increased           0.039411   \n",
       "2008-02-11 22:00:00         -1.311123           normal           0.025607   \n",
       "2013-06-19 23:00:00          1.088253           normal           0.025607   \n",
       "2007-02-25 19:00:00         -0.598101        increased           0.025607   \n",
       "2006-12-22 23:00:00         -1.922285        increased           0.025607   \n",
       "2001-06-26 19:00:00          1.359880        decreased           0.025607   \n",
       "2003-02-12 15:00:00         -1.492208           normal           0.025607   \n",
       "2000-05-11 11:00:00          1.982360              low           0.025607   \n",
       "\n",
       "                     temp_c_station-c status_station-c  rain_mm_station-c  \n",
       "time                                                                       \n",
       "2013-07-26 09:00:00          1.489497        decreased           0.031113  \n",
       "2011-08-18 08:00:00          0.470021        increased           0.031113  \n",
       "2012-12-27 08:00:00         -0.583819           normal           0.031113  \n",
       "2008-02-11 22:00:00         -1.179468              max           0.031113  \n",
       "2013-06-19 23:00:00          0.733482              max           0.100812  \n",
       "2007-02-25 19:00:00         -0.675457        increased           0.031113  \n",
       "2006-12-22 23:00:00         -0.732731        increased           0.031113  \n",
       "2001-06-26 19:00:00          1.203128        increased           0.031113  \n",
       "2003-02-12 15:00:00          1.203128        increased           0.031113  \n",
       "2000-05-11 11:00:00          1.203128        increased           0.031113  "
      ]
     },
     "execution_count": 13,
     "metadata": {},
     "output_type": "execute_result"
    }
   ],
   "source": [
    "features = data.copy(deep=True)\n",
    "features.drop(['level_cm','flow_m2_s'], axis=1,inplace=True)\n",
    "features.sample(10)"
   ]
  },
  {
   "cell_type": "markdown",
   "metadata": {
    "id": "l6cSBt_-1sYi"
   },
   "source": [
    "##Station - B"
   ]
  },
  {
   "cell_type": "code",
   "execution_count": null,
   "metadata": {
    "colab": {
     "base_uri": "https://localhost:8080/",
     "height": 651
    },
    "id": "V3ny0kk5DjFC",
    "outputId": "34469d6f-d391-4361-bb28-bb5ab24adad3"
   },
   "outputs": [],
   "source": []
  },
  {
   "cell_type": "markdown",
   "metadata": {
    "id": "5xSRX0U81np_"
   },
   "source": [
    "##Station - C"
   ]
  },
  {
   "cell_type": "code",
   "execution_count": null,
   "metadata": {
    "colab": {
     "base_uri": "https://localhost:8080/",
     "height": 651
    },
    "id": "DnUAJkplEbkE",
    "outputId": "eee72f66-d6d9-48e3-a6a6-132cf4588c87"
   },
   "outputs": [],
   "source": []
  },
  {
   "cell_type": "markdown",
   "metadata": {
    "id": "A6D7Vaqg2SFl"
   },
   "source": [
    "##Main Station"
   ]
  },
  {
   "cell_type": "code",
   "execution_count": null,
   "metadata": {
    "id": "NAPKVX9MNDXi"
   },
   "outputs": [],
   "source": []
  },
  {
   "cell_type": "code",
   "execution_count": null,
   "metadata": {
    "colab": {
     "base_uri": "https://localhost:8080/",
     "height": 683
    },
    "id": "YSjoz5hOEiZc",
    "outputId": "38577ce8-545f-4092-98ce-6a91d7f77146"
   },
   "outputs": [],
   "source": []
  },
  {
   "cell_type": "code",
   "execution_count": null,
   "metadata": {
    "colab": {
     "base_uri": "https://localhost:8080/",
     "height": 390
    },
    "id": "hW5N0ljlEngP",
    "outputId": "8276ca1e-baf2-4eb3-fc8a-4fc8dd518772"
   },
   "outputs": [],
   "source": []
  },
  {
   "cell_type": "markdown",
   "metadata": {
    "id": "13eBhIiz4X37"
   },
   "source": [
    "#Missing Data"
   ]
  },
  {
   "cell_type": "code",
   "execution_count": null,
   "metadata": {
    "colab": {
     "base_uri": "https://localhost:8080/",
     "height": 235
    },
    "id": "Lf3c96XOHWb8",
    "outputId": "cfc708f0-d3be-45b2-8b7a-b00fcae94fea"
   },
   "outputs": [],
   "source": []
  },
  {
   "cell_type": "code",
   "execution_count": null,
   "metadata": {
    "id": "A8MFOC32XCtX"
   },
   "outputs": [],
   "source": []
  },
  {
   "cell_type": "code",
   "execution_count": null,
   "metadata": {
    "colab": {
     "base_uri": "https://localhost:8080/",
     "height": 390
    },
    "id": "m5c0wVzoTxHu",
    "outputId": "e64c9e19-8fb5-443f-fd65-93b83e501e1d"
   },
   "outputs": [],
   "source": [
    "\n"
   ]
  },
  {
   "cell_type": "code",
   "execution_count": null,
   "metadata": {
    "colab": {
     "base_uri": "https://localhost:8080/",
     "height": 35
    },
    "id": "GmvSYuzET7Uo",
    "outputId": "b2f40833-66fd-4782-ab1d-f1b96f0eb3c0"
   },
   "outputs": [],
   "source": []
  },
  {
   "cell_type": "code",
   "execution_count": null,
   "metadata": {
    "colab": {
     "base_uri": "https://localhost:8080/",
     "height": 390
    },
    "id": "3BacWoIRVGcc",
    "outputId": "861cdba4-1737-427c-bead-5c3a451c1af1"
   },
   "outputs": [],
   "source": []
  },
  {
   "cell_type": "markdown",
   "metadata": {
    "id": "tBCrgN77AG-R"
   },
   "source": [
    "#Outlier ditection\n"
   ]
  },
  {
   "cell_type": "code",
   "execution_count": null,
   "metadata": {
    "colab": {
     "base_uri": "https://localhost:8080/",
     "height": 368
    },
    "id": "M5VEAIm4vNwy",
    "outputId": "5ee87365-9be7-41d8-9885-c1b7928f302a"
   },
   "outputs": [],
   "source": []
  },
  {
   "cell_type": "code",
   "execution_count": null,
   "metadata": {
    "colab": {
     "base_uri": "https://localhost:8080/",
     "height": 368
    },
    "id": "NkC-McyozRlN",
    "outputId": "3a1c35ce-6c65-4589-caed-22840f72ebc4"
   },
   "outputs": [],
   "source": []
  },
  {
   "cell_type": "markdown",
   "metadata": {
    "id": "POLngdYnBtLk"
   },
   "source": [
    "# Scalling\n"
   ]
  },
  {
   "cell_type": "code",
   "execution_count": null,
   "metadata": {
    "id": "xGuaZ752XEl1"
   },
   "outputs": [],
   "source": [
    "\n"
   ]
  },
  {
   "cell_type": "code",
   "execution_count": null,
   "metadata": {
    "colab": {
     "base_uri": "https://localhost:8080/",
     "height": 390
    },
    "id": "YDznKzypqyXy",
    "outputId": "8ea5dfd2-8a5c-4b46-f71c-fda7a93595e9"
   },
   "outputs": [],
   "source": []
  },
  {
   "cell_type": "markdown",
   "metadata": {
    "id": "K0z6FqUZVWbB"
   },
   "source": []
  },
  {
   "cell_type": "code",
   "execution_count": null,
   "metadata": {
    "colab": {
     "base_uri": "https://localhost:8080/",
     "height": 351
    },
    "id": "7MYcm-b_rwn7",
    "outputId": "7e0ff6ba-f5b1-4197-c2a4-2940b5b69075"
   },
   "outputs": [],
   "source": []
  },
  {
   "cell_type": "code",
   "execution_count": null,
   "metadata": {
    "colab": {
     "base_uri": "https://localhost:8080/",
     "height": 351
    },
    "id": "fkXeUoBPsh9z",
    "outputId": "7b8e8c21-2129-46e4-83fc-aaea2e94efd1"
   },
   "outputs": [],
   "source": []
  },
  {
   "cell_type": "code",
   "execution_count": null,
   "metadata": {
    "colab": {
     "base_uri": "https://localhost:8080/",
     "height": 351
    },
    "id": "4N_H-kcAsEME",
    "outputId": "7959a347-796e-49da-f0c6-d09178fdaf46"
   },
   "outputs": [],
   "source": []
  },
  {
   "cell_type": "markdown",
   "metadata": {
    "id": "YxFxZGReEEfs"
   },
   "source": [
    "#Encoding Catagorical Data"
   ]
  },
  {
   "cell_type": "code",
   "execution_count": null,
   "metadata": {
    "colab": {
     "base_uri": "https://localhost:8080/",
     "height": 390
    },
    "id": "zFQ1wKHTwSc8",
    "outputId": "c14d183e-f5a8-4013-dcc5-3b86ecd8c413"
   },
   "outputs": [],
   "source": [
    "\n"
   ]
  },
  {
   "cell_type": "code",
   "execution_count": null,
   "metadata": {
    "id": "jwTv2VgYDKYF"
   },
   "outputs": [],
   "source": []
  }
 ],
 "metadata": {
  "colab": {
   "name": "Preprocessing Assigment.ipynb",
   "provenance": []
  },
  "kernelspec": {
   "display_name": "Python 3",
   "language": "python",
   "name": "python3"
  },
  "language_info": {
   "codemirror_mode": {
    "name": "ipython",
    "version": 3
   },
   "file_extension": ".py",
   "mimetype": "text/x-python",
   "name": "python",
   "nbconvert_exporter": "python",
   "pygments_lexer": "ipython3",
   "version": "3.7.6"
  }
 },
 "nbformat": 4,
 "nbformat_minor": 1
}
