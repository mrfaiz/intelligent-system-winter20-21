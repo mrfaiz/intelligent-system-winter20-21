{
 "cells": [
  {
   "cell_type": "markdown",
   "metadata": {
    "id": "zZT2AfS-HD37"
   },
   "source": [
    "## Feature Selection Assigment\n",
    "\n",
    "\n",
    "---\n",
    "\n",
    "By \n",
    "  - Rakibuzzaman Mahmud\n",
    "  - Mithun Das\n",
    "  - Muhtasim Fuad Ansari\n",
    "\n",
    "\n"
   ]
  },
  {
   "cell_type": "code",
   "execution_count": 2,
   "metadata": {
    "id": "GnN446Y4JxD-"
   },
   "outputs": [],
   "source": [
    "import pandas as pd\n",
    "from mpl_toolkits import mplot3d\n",
    "from sklearn.decomposition import PCA\n",
    "import numpy as np\n",
    "import seaborn as sb\n",
    "import matplotlib.pyplot as plt\n"
   ]
  },
  {
   "cell_type": "code",
   "execution_count": 3,
   "metadata": {
    "colab": {
     "base_uri": "https://localhost:8080/",
     "height": 767
    },
    "id": "ZRm8AFtaODSw",
    "outputId": "e66d81a3-70c4-4e93-8d28-f30364ca4ff7"
   },
   "outputs": [],
   "source": [
    "df_combined = pd.read_csv('processed_data.csv',parse_dates=['time'],index_col='time',)\n"
   ]
  },
  {
   "cell_type": "code",
   "execution_count": 4,
   "metadata": {
    "colab": {
     "base_uri": "https://localhost:8080/",
     "height": 767
    },
    "id": "yeNx6KjIY4hx",
    "outputId": "a50ba142-7f6e-42ce-b6e9-b88bd840e71d"
   },
   "outputs": [],
   "source": [
    "# Selecting value from 2015 to get the data where every station has their own data.\n",
    "\n",
    "\n",
    "df_combined = df_combined[(df_combined.index.year >= 2014) & (df_combined.index.year <= 2017)]"
   ]
  },
  {
   "cell_type": "markdown",
   "metadata": {
    "id": "jTnKynyCML_z"
   },
   "source": [
    "Since We have to predict the main station values then we can separate the 2 values in 2 variables."
   ]
  },
  {
   "cell_type": "code",
   "execution_count": 17,
   "metadata": {
    "colab": {
     "base_uri": "https://localhost:8080/"
    },
    "id": "ag1rNFW0OjSA",
    "outputId": "8cc6796f-1e1d-4003-df03-46b41c637e94"
   },
   "outputs": [
    {
     "data": {
      "text/plain": [
       "(35064, 11)"
      ]
     },
     "execution_count": 17,
     "metadata": {},
     "output_type": "execute_result"
    }
   ],
   "source": [
    "df_combined.shape"
   ]
  },
  {
   "cell_type": "code",
   "execution_count": 5,
   "metadata": {
    "colab": {
     "base_uri": "https://localhost:8080/"
    },
    "id": "9Dg_OCXpKaHT",
    "outputId": "a0c961db-5f45-4d7d-b07a-94d5abaabb0b"
   },
   "outputs": [
    {
     "data": {
      "text/plain": [
       "time\n",
       "2014-01-01 00:00:00    0.089526\n",
       "2014-01-01 01:00:00    0.089526\n",
       "2014-01-01 02:00:00    0.089526\n",
       "2014-01-01 03:00:00    0.089526\n",
       "2014-01-01 04:00:00    0.089526\n",
       "                         ...   \n",
       "2017-12-31 19:00:00    3.782377\n",
       "2017-12-31 20:00:00    3.994366\n",
       "2017-12-31 21:00:00    4.206355\n",
       "2017-12-31 22:00:00    4.460742\n",
       "2017-12-31 23:00:00    4.672731\n",
       "Name: f0_m2_s, Length: 35064, dtype: float64"
      ]
     },
     "execution_count": 5,
     "metadata": {},
     "output_type": "execute_result"
    }
   ],
   "source": [
    "# level_cm_and_flow_m2_s = df_combined.iloc[:, [9,10]]\n",
    "\n",
    "\n",
    "level_cm = df_combined.iloc[:,0:-2]\n",
    "flow_m2_s = df_combined.iloc[:,10]\n",
    "\n",
    "# level_cm\n",
    "flow_m2_s\n",
    "\n",
    "# level_cm.shape"
   ]
  },
  {
   "cell_type": "code",
   "execution_count": 6,
   "metadata": {
    "colab": {
     "base_uri": "https://localhost:8080/",
     "height": 767
    },
    "id": "Kcn_FnelBfbQ",
    "outputId": "8f083014-759b-4863-e408-9a78c8f683a7"
   },
   "outputs": [],
   "source": [
    "feature_df = df_combined.iloc[:, 0:-2]"
   ]
  },
  {
   "cell_type": "code",
   "execution_count": null,
   "metadata": {
    "id": "HFESADXSGral"
   },
   "outputs": [],
   "source": []
  },
  {
   "cell_type": "markdown",
   "metadata": {
    "id": "zeivd1TESmZ4"
   },
   "source": [
    "## Applying the PCA on the data."
   ]
  },
  {
   "cell_type": "code",
   "execution_count": 13,
   "metadata": {
    "id": "q8EVqGVXXt9v"
   },
   "outputs": [],
   "source": [
    "# plt.style.use('ggplot')"
   ]
  },
  {
   "cell_type": "markdown",
   "metadata": {
    "id": "TPB6MNKinj7m"
   },
   "source": [
    "### PCA with All the components to figure out the highest values. "
   ]
  },
  {
   "cell_type": "code",
   "execution_count": 8,
   "metadata": {
    "colab": {
     "base_uri": "https://localhost:8080/"
    },
    "id": "DpXXO56pYzdV",
    "outputId": "f3a0cbfb-e2e2-4fa5-c5df-e1ae00c53192"
   },
   "outputs": [],
   "source": [
    "pca = PCA(n_components=None)\n",
    "pc = pca.fit_transform(feature_df)\n",
    "\n"
   ]
  },
  {
   "cell_type": "code",
   "execution_count": 9,
   "metadata": {
    "colab": {
     "base_uri": "https://localhost:8080/"
    },
    "id": "9LKUMi3Z-4rj",
    "outputId": "d7ef110b-63e0-4abb-bce6-4d00714b92cf"
   },
   "outputs": [
    {
     "data": {
      "text/plain": [
       "array([5.21654985e-01, 2.39546489e-01, 1.64760676e-01, 4.58579241e-02,\n",
       "       2.70015983e-02, 7.32952024e-04, 3.39115486e-04, 8.48535972e-05,\n",
       "       2.14062315e-05])"
      ]
     },
     "execution_count": 9,
     "metadata": {},
     "output_type": "execute_result"
    }
   ],
   "source": [
    "# pca.explained_variance_ratio_ * 100\n",
    "pca.explained_variance_ratio_ \n",
    " \n",
    " "
   ]
  },
  {
   "cell_type": "code",
   "execution_count": 10,
   "metadata": {
    "colab": {
     "base_uri": "https://localhost:8080/",
     "height": 296
    },
    "id": "4jpJvApLQNMK",
    "outputId": "8579eab7-ff31-4b4f-c162-729d85a8073b"
   },
   "outputs": [
    {
     "data": {
      "text/plain": [
       "<matplotlib.axes._subplots.AxesSubplot at 0x1f1c4869d08>"
      ]
     },
     "execution_count": 10,
     "metadata": {},
     "output_type": "execute_result"
    },
    {
     "data": {
      "image/png": "[encoded data removed]",
      "text/plain": [
       "<Figure size 432x288 with 1 Axes>"
      ]
     },
     "metadata": {
      "needs_background": "light"
     },
     "output_type": "display_data"
    }
   ],
   "source": [
    "#components = pd.DataFrame(pca.components_,columns=feature_df.columns,index = ['PC-1','PC-2','PC-3','PC-4','PC-5'])\n",
    "#components\n",
    "\n",
    "df = pd.DataFrame({'variance':pca.explained_variance_ratio_,'PC':['PC-1','PC-2','PC-3','PC-4','PC-5','PC-6','PC-7','PC-8','PC-9']})\n",
    "\n",
    "sb.barplot(x='PC',y='variance',data=df, color='c')"
   ]
  },
  {
   "cell_type": "code",
   "execution_count": null,
   "metadata": {
    "colab": {
     "base_uri": "https://localhost:8080/"
    },
    "id": "f9QzMYiwDjWO",
    "outputId": "6a2d9f3c-8bde-4d08-d3d1-3a193b17f1d3"
   },
   "outputs": [],
   "source": [
    "print(\"varience explained by 9 principal component = \", np.cumsum(sum(pca.explained_variance_ratio_)*100))"
   ]
  },
  {
   "cell_type": "code",
   "execution_count": null,
   "metadata": {
    "colab": {
     "base_uri": "https://localhost:8080/"
    },
    "id": "04pnCq1tJ1Ai",
    "outputId": "23294cb8-7e5f-423a-ecd2-77ab214b4d9c"
   },
   "outputs": [],
   "source": [
    "pca.explained_variance_ratio_ * 100"
   ]
  },
  {
   "cell_type": "markdown",
   "metadata": {
    "id": "VyZWXqL9nI8K"
   },
   "source": [
    "### Applying PCA with the first 3 Highest value. "
   ]
  },
  {
   "cell_type": "code",
   "execution_count": 13,
   "metadata": {
    "colab": {
     "base_uri": "https://localhost:8080/"
    },
    "id": "Sa2qpc4WSAWE",
    "outputId": "1a0c177d-5a85-4ab7-fc3c-e0644ff33f7b"
   },
   "outputs": [
    {
     "data": {
      "text/plain": [
       "array([5.21654985e-01, 2.39546489e-01, 1.64760676e-01, 4.58579241e-02,\n",
       "       2.70015983e-02, 7.32952024e-04, 3.39115486e-04, 8.48535972e-05,\n",
       "       2.14062315e-05])"
      ]
     },
     "execution_count": 13,
     "metadata": {},
     "output_type": "execute_result"
    }
   ],
   "source": [
    "pca = PCA(n_components=9)\n",
    "pc = pca.fit_transform(feature_df)\n",
    "\n",
    "\n",
    "pca.explained_variance_ratio_\n"
   ]
  },
  {
   "cell_type": "code",
   "execution_count": 22,
   "metadata": {
    "colab": {
     "base_uri": "https://localhost:8080/",
     "height": 419
    },
    "id": "rhpontmrSJGx",
    "outputId": "b9ddebf8-4b3a-4d03-e65d-fc1637c59bc8"
   },
   "outputs": [],
   "source": [
    "newComponents = pd.DataFrame(pc,columns= ['PC-1','PC-2','PC-3','PC-4','PC-5','PC-6','PC-7','PC-8','PC-9'])\n",
    "\n",
    "newComponents['water_level'] = df_combined['level_cm'].to_numpy()\n",
    "newComponents.to_csv(\"pca_data.csv\")\n"
   ]
  },
  {
   "cell_type": "code",
   "execution_count": null,
   "metadata": {
    "id": "ZuQJlWpZKRsh"
   },
   "outputs": [],
   "source": [
    "# plt.plot(np.cumsum(pca.explained_variance_ratio_))\n",
    "# plt.xlabel('number of component')\n",
    "# plt.ylabel('Explained variance')"
   ]
  },
  {
   "cell_type": "code",
   "execution_count": 30,
   "metadata": {
    "colab": {
     "base_uri": "https://localhost:8080/",
     "height": 296
    },
    "id": "b2VgUbJ6UV58",
    "outputId": "c390a773-22e0-4d16-8e1d-bf78a046c5ed"
   },
   "outputs": [
    {
     "ename": "ValueError",
     "evalue": "arrays must all be same length",
     "output_type": "error",
     "traceback": [
      "\u001b[1;31m---------------------------------------------------------------------------\u001b[0m",
      "\u001b[1;31mValueError\u001b[0m                                Traceback (most recent call last)",
      "\u001b[1;32m<ipython-input-30-5c32e7f71134>\u001b[0m in \u001b[0;36m<module>\u001b[1;34m\u001b[0m\n\u001b[1;32m----> 1\u001b[1;33m \u001b[0mdf\u001b[0m \u001b[1;33m=\u001b[0m \u001b[0mpd\u001b[0m\u001b[1;33m.\u001b[0m\u001b[0mDataFrame\u001b[0m\u001b[1;33m(\u001b[0m\u001b[1;33m{\u001b[0m\u001b[1;34m'variance'\u001b[0m\u001b[1;33m:\u001b[0m\u001b[0mpca\u001b[0m\u001b[1;33m.\u001b[0m\u001b[0mexplained_variance_ratio_\u001b[0m\u001b[1;33m,\u001b[0m\u001b[1;34m'PC'\u001b[0m\u001b[1;33m:\u001b[0m\u001b[1;33m[\u001b[0m\u001b[1;34m'PC-1'\u001b[0m\u001b[1;33m,\u001b[0m\u001b[1;34m'PC-2'\u001b[0m\u001b[1;33m,\u001b[0m\u001b[1;34m'PC-3'\u001b[0m\u001b[1;33m]\u001b[0m\u001b[1;33m}\u001b[0m\u001b[1;33m)\u001b[0m\u001b[1;33m\u001b[0m\u001b[1;33m\u001b[0m\u001b[0m\n\u001b[0m\u001b[0;32m      2\u001b[0m \u001b[1;33m\u001b[0m\u001b[0m\n\u001b[0;32m      3\u001b[0m \u001b[0msb\u001b[0m\u001b[1;33m.\u001b[0m\u001b[0mbarplot\u001b[0m\u001b[1;33m(\u001b[0m\u001b[0mx\u001b[0m\u001b[1;33m=\u001b[0m\u001b[1;34m'PC'\u001b[0m\u001b[1;33m,\u001b[0m\u001b[0my\u001b[0m\u001b[1;33m=\u001b[0m\u001b[1;34m'variance'\u001b[0m\u001b[1;33m,\u001b[0m\u001b[0mdata\u001b[0m\u001b[1;33m=\u001b[0m\u001b[0mdf\u001b[0m\u001b[1;33m,\u001b[0m \u001b[0mcolor\u001b[0m\u001b[1;33m=\u001b[0m\u001b[1;34m'c'\u001b[0m\u001b[1;33m)\u001b[0m\u001b[1;33m\u001b[0m\u001b[1;33m\u001b[0m\u001b[0m\n",
      "\u001b[1;32mC:\\ProgramData\\Anaconda3\\lib\\site-packages\\pandas\\core\\frame.py\u001b[0m in \u001b[0;36m__init__\u001b[1;34m(self, data, index, columns, dtype, copy)\u001b[0m\n\u001b[0;32m    433\u001b[0m             )\n\u001b[0;32m    434\u001b[0m         \u001b[1;32melif\u001b[0m \u001b[0misinstance\u001b[0m\u001b[1;33m(\u001b[0m\u001b[0mdata\u001b[0m\u001b[1;33m,\u001b[0m \u001b[0mdict\u001b[0m\u001b[1;33m)\u001b[0m\u001b[1;33m:\u001b[0m\u001b[1;33m\u001b[0m\u001b[1;33m\u001b[0m\u001b[0m\n\u001b[1;32m--> 435\u001b[1;33m             \u001b[0mmgr\u001b[0m \u001b[1;33m=\u001b[0m \u001b[0minit_dict\u001b[0m\u001b[1;33m(\u001b[0m\u001b[0mdata\u001b[0m\u001b[1;33m,\u001b[0m \u001b[0mindex\u001b[0m\u001b[1;33m,\u001b[0m \u001b[0mcolumns\u001b[0m\u001b[1;33m,\u001b[0m \u001b[0mdtype\u001b[0m\u001b[1;33m=\u001b[0m\u001b[0mdtype\u001b[0m\u001b[1;33m)\u001b[0m\u001b[1;33m\u001b[0m\u001b[1;33m\u001b[0m\u001b[0m\n\u001b[0m\u001b[0;32m    436\u001b[0m         \u001b[1;32melif\u001b[0m \u001b[0misinstance\u001b[0m\u001b[1;33m(\u001b[0m\u001b[0mdata\u001b[0m\u001b[1;33m,\u001b[0m \u001b[0mma\u001b[0m\u001b[1;33m.\u001b[0m\u001b[0mMaskedArray\u001b[0m\u001b[1;33m)\u001b[0m\u001b[1;33m:\u001b[0m\u001b[1;33m\u001b[0m\u001b[1;33m\u001b[0m\u001b[0m\n\u001b[0;32m    437\u001b[0m             \u001b[1;32mimport\u001b[0m \u001b[0mnumpy\u001b[0m\u001b[1;33m.\u001b[0m\u001b[0mma\u001b[0m\u001b[1;33m.\u001b[0m\u001b[0mmrecords\u001b[0m \u001b[1;32mas\u001b[0m \u001b[0mmrecords\u001b[0m\u001b[1;33m\u001b[0m\u001b[1;33m\u001b[0m\u001b[0m\n",
      "\u001b[1;32mC:\\ProgramData\\Anaconda3\\lib\\site-packages\\pandas\\core\\internals\\construction.py\u001b[0m in \u001b[0;36minit_dict\u001b[1;34m(data, index, columns, dtype)\u001b[0m\n\u001b[0;32m    252\u001b[0m             \u001b[0marr\u001b[0m \u001b[1;32mif\u001b[0m \u001b[1;32mnot\u001b[0m \u001b[0mis_datetime64tz_dtype\u001b[0m\u001b[1;33m(\u001b[0m\u001b[0marr\u001b[0m\u001b[1;33m)\u001b[0m \u001b[1;32melse\u001b[0m \u001b[0marr\u001b[0m\u001b[1;33m.\u001b[0m\u001b[0mcopy\u001b[0m\u001b[1;33m(\u001b[0m\u001b[1;33m)\u001b[0m \u001b[1;32mfor\u001b[0m \u001b[0marr\u001b[0m \u001b[1;32min\u001b[0m \u001b[0marrays\u001b[0m\u001b[1;33m\u001b[0m\u001b[1;33m\u001b[0m\u001b[0m\n\u001b[0;32m    253\u001b[0m         ]\n\u001b[1;32m--> 254\u001b[1;33m     \u001b[1;32mreturn\u001b[0m \u001b[0marrays_to_mgr\u001b[0m\u001b[1;33m(\u001b[0m\u001b[0marrays\u001b[0m\u001b[1;33m,\u001b[0m \u001b[0mdata_names\u001b[0m\u001b[1;33m,\u001b[0m \u001b[0mindex\u001b[0m\u001b[1;33m,\u001b[0m \u001b[0mcolumns\u001b[0m\u001b[1;33m,\u001b[0m \u001b[0mdtype\u001b[0m\u001b[1;33m=\u001b[0m\u001b[0mdtype\u001b[0m\u001b[1;33m)\u001b[0m\u001b[1;33m\u001b[0m\u001b[1;33m\u001b[0m\u001b[0m\n\u001b[0m\u001b[0;32m    255\u001b[0m \u001b[1;33m\u001b[0m\u001b[0m\n\u001b[0;32m    256\u001b[0m \u001b[1;33m\u001b[0m\u001b[0m\n",
      "\u001b[1;32mC:\\ProgramData\\Anaconda3\\lib\\site-packages\\pandas\\core\\internals\\construction.py\u001b[0m in \u001b[0;36marrays_to_mgr\u001b[1;34m(arrays, arr_names, index, columns, dtype)\u001b[0m\n\u001b[0;32m     62\u001b[0m     \u001b[1;31m# figure out the index, if necessary\u001b[0m\u001b[1;33m\u001b[0m\u001b[1;33m\u001b[0m\u001b[1;33m\u001b[0m\u001b[0m\n\u001b[0;32m     63\u001b[0m     \u001b[1;32mif\u001b[0m \u001b[0mindex\u001b[0m \u001b[1;32mis\u001b[0m \u001b[1;32mNone\u001b[0m\u001b[1;33m:\u001b[0m\u001b[1;33m\u001b[0m\u001b[1;33m\u001b[0m\u001b[0m\n\u001b[1;32m---> 64\u001b[1;33m         \u001b[0mindex\u001b[0m \u001b[1;33m=\u001b[0m \u001b[0mextract_index\u001b[0m\u001b[1;33m(\u001b[0m\u001b[0marrays\u001b[0m\u001b[1;33m)\u001b[0m\u001b[1;33m\u001b[0m\u001b[1;33m\u001b[0m\u001b[0m\n\u001b[0m\u001b[0;32m     65\u001b[0m     \u001b[1;32melse\u001b[0m\u001b[1;33m:\u001b[0m\u001b[1;33m\u001b[0m\u001b[1;33m\u001b[0m\u001b[0m\n\u001b[0;32m     66\u001b[0m         \u001b[0mindex\u001b[0m \u001b[1;33m=\u001b[0m \u001b[0mensure_index\u001b[0m\u001b[1;33m(\u001b[0m\u001b[0mindex\u001b[0m\u001b[1;33m)\u001b[0m\u001b[1;33m\u001b[0m\u001b[1;33m\u001b[0m\u001b[0m\n",
      "\u001b[1;32mC:\\ProgramData\\Anaconda3\\lib\\site-packages\\pandas\\core\\internals\\construction.py\u001b[0m in \u001b[0;36mextract_index\u001b[1;34m(data)\u001b[0m\n\u001b[0;32m    363\u001b[0m             \u001b[0mlengths\u001b[0m \u001b[1;33m=\u001b[0m \u001b[0mlist\u001b[0m\u001b[1;33m(\u001b[0m\u001b[0mset\u001b[0m\u001b[1;33m(\u001b[0m\u001b[0mraw_lengths\u001b[0m\u001b[1;33m)\u001b[0m\u001b[1;33m)\u001b[0m\u001b[1;33m\u001b[0m\u001b[1;33m\u001b[0m\u001b[0m\n\u001b[0;32m    364\u001b[0m             \u001b[1;32mif\u001b[0m \u001b[0mlen\u001b[0m\u001b[1;33m(\u001b[0m\u001b[0mlengths\u001b[0m\u001b[1;33m)\u001b[0m \u001b[1;33m>\u001b[0m \u001b[1;36m1\u001b[0m\u001b[1;33m:\u001b[0m\u001b[1;33m\u001b[0m\u001b[1;33m\u001b[0m\u001b[0m\n\u001b[1;32m--> 365\u001b[1;33m                 \u001b[1;32mraise\u001b[0m \u001b[0mValueError\u001b[0m\u001b[1;33m(\u001b[0m\u001b[1;34m\"arrays must all be same length\"\u001b[0m\u001b[1;33m)\u001b[0m\u001b[1;33m\u001b[0m\u001b[1;33m\u001b[0m\u001b[0m\n\u001b[0m\u001b[0;32m    366\u001b[0m \u001b[1;33m\u001b[0m\u001b[0m\n\u001b[0;32m    367\u001b[0m             \u001b[1;32mif\u001b[0m \u001b[0mhave_dicts\u001b[0m\u001b[1;33m:\u001b[0m\u001b[1;33m\u001b[0m\u001b[1;33m\u001b[0m\u001b[0m\n",
      "\u001b[1;31mValueError\u001b[0m: arrays must all be same length"
     ]
    }
   ],
   "source": [
    "\n",
    "df = pd.DataFrame({'variance':pca.explained_variance_ratio_,'PC':['PC-1','PC-2','PC-3']})\n",
    "\n",
    "sb.barplot(x='PC',y='variance',data=df, color='c')"
   ]
  },
  {
   "cell_type": "code",
   "execution_count": null,
   "metadata": {
    "colab": {
     "base_uri": "https://localhost:8080/"
    },
    "id": "nRAFBrvyNNc1",
    "outputId": "62d51f47-5785-4836-9608-5918e57214e3"
   },
   "outputs": [],
   "source": [
    "print(\"PC-1 Value = \",int(np.cumsum(pca.explained_variance_ratio_*100)[0]),'%')\n",
    "print(\"PC-2 Value = \",int(np.cumsum(pca.explained_variance_ratio_*100)[1]),'%')\n",
    "print(\"PC-3 Value = \",int(np.cumsum(pca.explained_variance_ratio_*100)[2]),'%')\n",
    "# print(\"PC-4 Value = \",int(np.cumsum(pca.explained_variance_ratio_*100)[3]),'%')\n",
    "# print(\"PC-5 Value = \",int(np.cumsum(pca.explained_variance_ratio_*100)[4]),'%')"
   ]
  },
  {
   "cell_type": "code",
   "execution_count": null,
   "metadata": {
    "colab": {
     "base_uri": "https://localhost:8080/"
    },
    "id": "Lh7DvLm_OqQP",
    "outputId": "6e48c2a5-c446-4add-b02b-aaf9b4ca6b92"
   },
   "outputs": [],
   "source": [
    "pca = PCA(n_components=.9)\n",
    "pc = pca.fit_transform(feature_df)\n",
    "pc"
   ]
  },
  {
   "cell_type": "code",
   "execution_count": null,
   "metadata": {
    "colab": {
     "base_uri": "https://localhost:8080/",
     "height": 543
    },
    "id": "Fa7__cJ_LXpz",
    "outputId": "b0ca8e73-ce83-4b24-da97-1d55b8f608d1"
   },
   "outputs": [],
   "source": [
    "plt.figure(figsize=(10,7))\n",
    "sb.scatterplot(pc[:, 0],pc[:, 1],s=40,\n",
    "                hue= df_combined.level_cm)\n",
    "\n",
    "plt.title(\"2D Scatterplot:\", pad = 20)\n",
    "plt.xlabel(\"PC1\")\n",
    "plt.ylabel(\"PC2\")"
   ]
  },
  {
   "cell_type": "code",
   "execution_count": null,
   "metadata": {
    "colab": {
     "base_uri": "https://localhost:8080/",
     "height": 428
    },
    "id": "j7_ws3yJaRR-",
    "outputId": "c2b1d1c2-94a0-48d5-f4f7-61f75831f72d"
   },
   "outputs": [],
   "source": [
    "\n",
    "fig = plt.figure(figsize=(10,7))\n",
    "ax = plt.axes(projection='3d')\n",
    "\n",
    "sctt = ax.scatter3D(pc[:, 0],pc[:, 1],pc[:,2],s=40,\n",
    "                c= df_combined.level_cm , alpha = 0.9)\n",
    "plt.title(\"3D Ploting: \")\n",
    "ax.set_xlabel('Pricipal component 1')\n",
    "ax.set_ylabel('PC2')\n",
    "ax.set_zlabel('PC3')"
   ]
  },
  {
   "cell_type": "markdown",
   "metadata": {
    "id": "CC_9iX_xAyFC"
   },
   "source": [
    "From the variance ratio we see that the first 5 principle components can explain the 95% information about the feature space and by doing so we are reducing the data by 45%. We are taking 5 features from 9 available ones."
   ]
  },
  {
   "cell_type": "code",
   "execution_count": null,
   "metadata": {
    "id": "f5MN2HPKceXX"
   },
   "outputs": [],
   "source": [
    "pca.components_"
   ]
  },
  {
   "cell_type": "code",
   "execution_count": null,
   "metadata": {
    "id": "UD9tWo1VcliT"
   },
   "outputs": [],
   "source": [
    "# components = pd.DataFrame(pca.components_,columns=feature_df.columns,index = ['PC-1','PC-2','PC-3','PC-4','PC-5'])\n",
    "# components"
   ]
  },
  {
   "cell_type": "code",
   "execution_count": null,
   "metadata": {
    "id": "ZfRG0QqEk2hn"
   },
   "outputs": [],
   "source": [
    "newComponents.to_csv(\"pca_data.csv\")"
   ]
  },
  {
   "cell_type": "code",
   "execution_count": null,
   "metadata": {
    "id": "7Ljsn2W7oPSc"
   },
   "outputs": [],
   "source": []
  }
 ],
 "metadata": {
  "colab": {
   "collapsed_sections": [],
   "name": "Assignment-2.ipynb",
   "provenance": []
  },
  "kernelspec": {
   "display_name": "Python 3",
   "language": "python",
   "name": "python3"
  },
  "language_info": {
   "codemirror_mode": {
    "name": "ipython",
    "version": 3
   },
   "file_extension": ".py",
   "mimetype": "text/x-python",
   "name": "python",
   "nbconvert_exporter": "python",
   "pygments_lexer": "ipython3",
   "version": "3.7.6"
  }
 },
 "nbformat": 4,
 "nbformat_minor": 1
}
